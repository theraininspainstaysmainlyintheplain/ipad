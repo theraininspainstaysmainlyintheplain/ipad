{
 "cells": [
  {
   "cell_type": "markdown",
   "metadata": {},
   "source": [
    "# Greg Loiseau - Batch 40 PBQ1 homework"
   ]
  },
  {
   "cell_type": "markdown",
   "metadata": {},
   "source": [
    "#### Q1: Write a customized function to calculate the factorial of a number. Do not use any inbuilt functions. Create your own."
   ]
  },
  {
   "cell_type": "code",
   "execution_count": 8,
   "metadata": {},
   "outputs": [
    {
     "name": "stdout",
     "output_type": "stream",
     "text": [
      "Enter integer: -9\n"
     ]
    },
    {
     "data": {
      "text/plain": [
       "-362880"
      ]
     },
     "execution_count": 8,
     "metadata": {},
     "output_type": "execute_result"
    }
   ],
   "source": [
    "#method 1 - create array with linspace, and multiply its elements. Input's sign and 0 value are treated as special cases\n",
    "\n",
    "number = int(input(\"Enter integer: \"))\n",
    "\n",
    "sign = -1 if number < 0 and number%2 !=0 else 1\n",
    "\n",
    "import numpy as np\n",
    "\n",
    "def Factorial(x):\n",
    "    if x == 0:\n",
    "        return 0\n",
    "    y=np.linspace(1, x, x, dtype=int)\n",
    "    return np.prod(y)*sign\n",
    "\n",
    "Factorial(abs(number))"
   ]
  },
  {
   "cell_type": "code",
   "execution_count": 7,
   "metadata": {},
   "outputs": [
    {
     "name": "stdout",
     "output_type": "stream",
     "text": [
      "Enter integer: -9\n"
     ]
    },
    {
     "data": {
      "text/plain": [
       "-362880"
      ]
     },
     "execution_count": 7,
     "metadata": {},
     "output_type": "execute_result"
    }
   ],
   "source": [
    "#method 2 - create run through a decreasing loop. Input's sign is taken in consideration\n",
    "\n",
    "number = int(input(\"Enter integer: \"))\n",
    "product = number\n",
    "\n",
    "sign = -1 if number < 0 and number%2 !=0 else 1\n",
    "\n",
    "import numpy as np\n",
    "\n",
    "def Factorial2(product):\n",
    "    for i in range(product,1, -1):\n",
    "        product = product*(i -1)\n",
    "    return product*sign\n",
    "\n",
    "Factorial2(abs(number))"
   ]
  },
  {
   "cell_type": "code",
   "execution_count": 2,
   "metadata": {},
   "outputs": [],
   "source": [
    "import numpy as np\n",
    "np.linspace?"
   ]
  },
  {
   "cell_type": "raw",
   "metadata": {},
   "source": []
  },
  {
   "cell_type": "markdown",
   "metadata": {},
   "source": [
    "#### Q2: Write a Python program to generate a sequence of 1000 numbers drawn from a standard uniform distribution and plot it on a chart. Compute its mean. Use the np.where clause to create a sequence of only numbers greater than 0.75 from the list. Plot a chart of those numbers. Check how many such numbers exist. Is it on expected lines? Comment. Please use np.random.seed(1234) at the beginning of your code. "
   ]
  },
  {
   "cell_type": "code",
   "execution_count": 65,
   "metadata": {
    "scrolled": true
   },
   "outputs": [
    {
     "data": {
      "image/png": "[encoded data removed]",
      "text/plain": [
       "<Figure size 432x288 with 1 Axes>"
      ]
     },
     "metadata": {
      "needs_background": "light"
     },
     "output_type": "display_data"
    },
    {
     "name": "stdout",
     "output_type": "stream",
     "text": [
      "Mean of random uniform dataset: 0.51\n"
     ]
    },
    {
     "data": {
      "image/png": "[encoded data removed]",
      "text/plain": [
       "<Figure size 432x288 with 1 Axes>"
      ]
     },
     "metadata": {
      "needs_background": "light"
     },
     "output_type": "display_data"
    },
    {
     "name": "stdout",
     "output_type": "stream",
     "text": [
      "Number of elements over 0.75:  267\n",
      "The number of element is about right, but there seems to be an error as the data doesn't align perfectly\n"
     ]
    }
   ],
   "source": [
    "#Write a Python program to generate a sequence of 1000 numbers \n",
    "#drawn from a standard uniform distribution\n",
    "\n",
    "import numpy as np\n",
    "np.random.seed(1234)\n",
    "y=np.random.uniform(0,1,1000)\n",
    "\n",
    "#plot it on a chart.\n",
    "import matplotlib.pyplot as plt\n",
    "%matplotlib inline\n",
    "plt.hist(y, 20)\n",
    "plt.title(\"Uniform distribution of (n=1000) random pulls between 0 and 1\")\n",
    "plt.show()\n",
    "\n",
    "#Compute its mean\n",
    "print(\"Mean of random uniform dataset:\", round(y.mean(), 2))\n",
    "\n",
    "#Use the np.where clause to create a sequence of only numbers greater than 0.75 from the list. \n",
    "y2=np.delete(y, np.where(y<=0.75))\n",
    "\n",
    "#Plot a chart of those numbers. \n",
    "plt.hist(y, 20)\n",
    "plt.hist(y2, 5, color='r')\n",
    "plt.title(\"Original distribution with overlay of data over 0.25\")\n",
    "plt.show()\n",
    "\n",
    "#Check how many such numbers exist. Is it on expected lines? Comment.\n",
    "print (\"Number of elements over 0.75: \", y2.size)\n",
    "print (\"The number of element is about right, but there seems to be an error as the data doesn't align perfectly\")\n"
   ]
  },
  {
   "cell_type": "markdown",
   "metadata": {},
   "source": [
    "#### Q3: Which method/function of pandas displays number of rows and columns? Use it to show the number of rows and columns for the TSLA.csv file (you can load it into Python similar to how we did it in the lecture)."
   ]
  },
  {
   "cell_type": "code",
   "execution_count": 98,
   "metadata": {},
   "outputs": [
    {
     "name": "stdout",
     "output_type": "stream",
     "text": [
      "                  Open        High         Low       Close   Adj Close  \\\n",
      "Date                                                                     \n",
      "2018-05-31  287.209991  290.369995  282.929993  284.730011  284.730011   \n",
      "2018-06-01  285.859985  291.950012  283.839996  291.820007  291.820007   \n",
      "2018-06-04  294.339996  299.000000  293.549988  296.739990  296.739990   \n",
      "2018-06-05  297.700012  297.799988  286.739990  291.130005  291.130005   \n",
      "2018-06-06  300.500000  322.170013  297.480011  319.500000  319.500000   \n",
      "\n",
      "              Volume  \n",
      "Date                  \n",
      "2018-05-31   5919700  \n",
      "2018-06-01   5411400  \n",
      "2018-06-04   4767300  \n",
      "2018-06-05   5995200  \n",
      "2018-06-06  18719200   \n",
      "\n",
      "Number of rows & columns:  (1999, 6)\n"
     ]
    }
   ],
   "source": [
    "import pandas as pd\n",
    "data = pd.read_csv(\"TSLA.csv\", index_col=\"Date\", parse_dates=True)\n",
    "print(data.tail(), \"\\n\")\n",
    "\n",
    "print(\"Number of rows & columns: \" , data.shape)"
   ]
  },
  {
   "cell_type": "markdown",
   "metadata": {},
   "source": [
    "#### Q4: Which method/function of pandas displays summary statistics of the data-frame? What was the highest price reached by the Tesla stock during this period?"
   ]
  },
  {
   "cell_type": "code",
   "execution_count": 99,
   "metadata": {},
   "outputs": [
    {
     "name": "stdout",
     "output_type": "stream",
     "text": [
      "              Open         High          Low        Close    Adj Close  \\\n",
      "count  1999.000000  1999.000000  1999.000000  1999.000000  1999.000000   \n",
      "mean    161.924297   164.658769   159.049630   161.921871   161.921871   \n",
      "std     111.564118   113.129919   109.885803   111.558919   111.558919   \n",
      "min      16.139999    16.629999    14.980000    15.800000    15.800000   \n",
      "25%      31.900000    32.480000    31.104999    31.840000    31.840000   \n",
      "50%     195.690002   199.289993   192.649994   196.119995   196.119995   \n",
      "75%     246.160004   249.399994   242.294998   246.415001   246.415001   \n",
      "max     386.690002   389.609985   379.350006   385.000000   385.000000   \n",
      "\n",
      "             Volume  \n",
      "count  1.999000e+03  \n",
      "mean   4.657162e+06  \n",
      "std    4.252557e+06  \n",
      "min    1.185000e+05  \n",
      "25%    1.401600e+06  \n",
      "50%    3.786300e+06  \n",
      "75%    6.200100e+06  \n",
      "max    3.716390e+07   \n",
      "\n",
      "Highest price reached by Tesla during this period:  389.61\n"
     ]
    }
   ],
   "source": [
    "#Which method/function of pandas displays summary statistics of the data-frame?\n",
    "print(data.describe(), \"\\n\")\n",
    "\n",
    "#What was the highest price reached by the Tesla stock during this period?\n",
    "print(\"Highest price reached by Tesla during this period: \", round(data[\"High\"].max(),2))"
   ]
  },
  {
   "cell_type": "markdown",
   "metadata": {},
   "source": [
    "#### Q5: Write a Python program which iterates through a sequence of 50 randomly generated integers between 100 and 200 and creates two different objects, one which are even multiples of 3 and which are odd multiples of 5."
   ]
  },
  {
   "cell_type": "code",
   "execution_count": 97,
   "metadata": {},
   "outputs": [
    {
     "name": "stdout",
     "output_type": "stream",
     "text": [
      "Uniform distribution of (n=50) random pulls between 100 and 200:  [144 147 164 167 167 109 183 121 136 187 170 188 188 112 158 165 139 187\n",
      " 146 188 181 137 125 177 172 109 120 180 169 179 147 164 182 199 188 149\n",
      " 129 119 119 114 139 132 165 109 157 132 131 174 123 135] \n",
      "\n",
      "Numbers that are even and multiples of 3:  [144, 120, 180, 114, 132, 132, 174] \n",
      "\n",
      "Numbers that are odd and multiples of 5:  [165, 125, 165, 135]\n"
     ]
    }
   ],
   "source": [
    "import numpy as np\n",
    "np.random.seed(0)\n",
    "rand_unif_numbs=np.random.randint(100,200,50)\n",
    "print(\"Uniform distribution of (n=50) random pulls between 100 and 200: \" ,rand_unif_numbs, \"\\n\")\n",
    "\n",
    "#even multiples of 3\n",
    "even3= [number for number in rand_unif_numbs if number%3==0 and number%2==0]\n",
    "print(\"Numbers that are even and multiples of 3: \", even3, \"\\n\")\n",
    "\n",
    "#odd multiples of 5\n",
    "odd5= [number for number in rand_unif_numbs if number%5==0 and number%2==1]\n",
    "print(\"Numbers that are odd and multiples of 5: \",odd5)"
   ]
  },
  {
   "cell_type": "code",
   "execution_count": null,
   "metadata": {},
   "outputs": [],
   "source": []
  }
 ],
 "metadata": {
  "kernelspec": {
   "display_name": "Python 3",
   "language": "python",
   "name": "python3"
  },
  "language_info": {
   "codemirror_mode": {
    "name": "ipython",
    "version": 3
   },
   "file_extension": ".py",
   "mimetype": "text/x-python",
   "name": "python",
   "nbconvert_exporter": "python",
   "pygments_lexer": "ipython3",
   "version": "3.7.0"
  }
 },
 "nbformat": 4,
 "nbformat_minor": 2
}
