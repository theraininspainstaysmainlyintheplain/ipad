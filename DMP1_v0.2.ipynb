{
 "cells": [
  {
   "cell_type": "markdown",
   "metadata": {},
   "source": [
    "# Strategy Backtesting Using Python (DMP-1)\n",
    "#### Notebook Created on:  25 Jan 2018\n",
    "##### Last Update: 6 August 2018\n",
    "##### Author: Vivek Krishnamoorthy"
   ]
  },
  {
   "cell_type": "markdown",
   "metadata": {},
   "source": [
    "### Taking stock of where we are currently\n",
    "\n",
    "We covered quite a bit of ground when we met last. I expect that you would have spent time reviewing it. \n",
    "\n",
    "One effective way to learn is to mess with the code I share with you. Tweak the values, create new variables and see what happens. Play around with the cells in the Jupyter Notebook to familiarize yourself with the Python syntax and figure out its features and limitations. **The benefits of running and experimenting with the shared code line by line yourself *by typing it in* will be a far better use of your time and effort than just reading about it.**\n",
    "\n",
    "There're tons of references I'd provided in my previous class in case you want to delve deeper (I hope you have).\n",
    "\n",
    "#### Some myths about programming ...\n",
    "\n",
    "1. It's too late for me to learn it.\n",
    "\n",
    "2. I need to have an engineering or computer science background to become a quant/algo trader.\n",
    "\n",
    "3. I will have acquired all the needed knowledge if I go through the EPAT programming oriented sessions.\n",
    "\n",
    "4. I have to be an expert level programmer to code trading strategies.\n",
    "\n",
    "#### ... and some truisms\n",
    "\n",
    "1. It's never too late. The internet is filled with inspiring experiences about people who learnt it quite 'late' in life. Check [this](https://www.google.co.in/search?hl=en&source=hp&ei=P_UpW9yqKcv5vgTs_oXYCw&q=programming+learning+late&oq=programming+learning+late&gs_l=psy-ab.3..0i22i30k1l10.1999.6123.0.6329.27.22.0.3.3.0.279.2152.0j13j1.15.0....0...1c.1.64.psy-ab..9.17.2170.0..0j0i131k1.130.ZbcQA9G_094) out.\n",
    "\n",
    "2. Not true. To get comfortable with something, it has to start coming naturally to you. This will happen only if you practise everyday. I know I've said this ad nauseum. But really, there's no getting around it. Keep at it and you'll find that it gets easier and more fun.\n",
    "\n",
    "3. It doesn't take very long to learn programming but months to become an expert. Read widely, watch videos, try stuff, fail, try again (Lather, rinse, repeat).\n",
    "\n",
    "4. Not true. If you understand financial markets and are familiar with Python or R, you're good to go. The coding community is a vibrant and giving one. You'll find a lot of ninja level programmers actively engaged in troubleshooting and helping newcomers on online forums like [Stackoverflow](https://stackoverflow.com/). Use it when you encounter issues.\n",
    "\n",
    "#### A handy and step-wise approach to Strategy Testing\n",
    "\n",
    "1. Come up with a trading/strategy idea (this could come from something you read, or may be a gut instinct that needs to be tested - say, buying at Friday close and selling on the following Monday at market open).\n",
    "\n",
    "2. Download the relevant data. Daily historical data is usually quite straightfoward to obtain, especially for stocks. Higher frequency data (5 minutely, minutely, etc.) however is expensive and you need to check this with your broker.\n",
    "\n",
    "3. Think about the algorithm (a series of steps to buy and sell)\n",
    "    * Build the indicator\n",
    "    * Create the rule\n",
    "    * Calculate returns, P & L, etc.\n",
    "    \n",
    "4. Do it stepwise and test each part once you write it.\n",
    "\n",
    "5. Make sure you annotate your code with comments. If not, you'll spend hours trying to understand your own code when you revisit it after a few days.\n",
    "\n",
    "6. Fragment the code. You don't need to run the data download part every single time. Save the data download part as a function or a separate script/file.\n",
    "\n",
    "7. Contingency plan\n",
    "    * What if the code to download data automatically doesn't work?\n",
    "    * Download the data manually as a csv file and use it instead.\n"
   ]
  },
  {
   "cell_type": "code",
   "execution_count": null,
   "metadata": {},
   "outputs": [],
   "source": []
  },
  {
   "cell_type": "code",
   "execution_count": 1,
   "metadata": {
    "scrolled": true
   },
   "outputs": [
    {
     "ename": "SyntaxError",
     "evalue": "invalid syntax (<ipython-input-1-19c9bfe9ce0a>, line 1)",
     "output_type": "error",
     "traceback": [
      "\u001b[1;36m  File \u001b[1;32m\"<ipython-input-1-19c9bfe9ce0a>\"\u001b[1;36m, line \u001b[1;32m1\u001b[0m\n\u001b[1;33m    :conda install data-reader\u001b[0m\n\u001b[1;37m    ^\u001b[0m\n\u001b[1;31mSyntaxError\u001b[0m\u001b[1;31m:\u001b[0m invalid syntax\n"
     ]
    }
   ],
   "source": [
    "# !conda install data-reader # not needed here since we already installed it thru the command prompt"
   ]
  },
  {
   "cell_type": "markdown",
   "metadata": {},
   "source": [
    "```python\n",
    "\n",
    "# The first step when we start to write a Python program is to import all the necessary\n",
    "# libraries/packages with aliases if required. The aliases I've used are quite standardized \n",
    "# in scientific Python code that you come across\n",
    "\n",
    "import pandas as pd\n",
    "import numpy as np\n",
    "import datetime\n",
    "pd.core.common.is_list_like = pd.api.types.is_list_like # helps solving an error with datareader when it had an issue\n",
    "import matplotlib.pyplot as plt\n",
    "import pandas_datareader.data as web\n",
    "import os\n",
    "\n",
    "os.getcwd()\n",
    "os.chdir(\"C:\\Work\\EPAT\\Python\\Strategies\") # You'll need to key in the directory relevant to your computer\n",
    "# Here's where all the files pertaining to your program should be stored\n",
    "```"
   ]
  },
  {
   "cell_type": "code",
   "execution_count": 67,
   "metadata": {},
   "outputs": [],
   "source": [
    "import pandas as pd\n",
    "import numpy as np\n",
    "import datetime\n",
    "pd.core.common.is_list_like = pd.api.types.is_list_like # helps solving an error with datareader when it had an issue\n",
    "import matplotlib.pyplot as plt\n",
    "import pandas_datareader.data as web\n",
    "import os\n",
    "\n"
   ]
  },
  {
   "cell_type": "markdown",
   "metadata": {},
   "source": [
    "[pandas-datareader](http://pandas-datareader.readthedocs.io/en/latest/) is a popular library (other libraries include [quandl](https://www.quandl.com/tools/python), [nsepy](http://nsepy.readthedocs.io/en/latest/) etc.) used to pull financial data automatically from different web sources. However, the data sources often change and one needs to check the documentation from time to time to be updated. A few months ago, I would always download whatever data I needed through Yahoo Finance or Google Finance (when using `pandas-datareader`). They don't work anymore.\n",
    "\n",
    "DATAREADER IS NOT A SUBLIBRARY OF PANDAS!!!\n",
    "\n",
    "### A short detour - Dates and Times in Python\n",
    "\n",
    "In Python ,there are a number of ways to represent dates, times, and time intervals between them. `pandas` and `NumPy` have their own ways of representing them. We will be mostly dealing with the `pandas` date formats since that is most relevant to quantitative finance. Nevertheless, it's useful to know how they relate with each other.\n",
    "\n",
    "Two important methods within `datetime` which are also the same in `pandas` are `strptime` and `strftime`.\n",
    "* `strptime` parses a string and **converts it to a `datetime` object**.\n",
    "* `strftime` **converts a `datetime` object to a specified format string**.\n",
    "\n",
    "As a mnemonic, I find it helpful to link the `p` in `strptime` to\n",
    "* *parsing* a string to get a datetime object. \n",
    "\n",
    "And the `f` in `strftime` to \n",
    "* *formatting*  a `datetime` object to get a formatted string of our choice.\n",
    "\n",
    "*I'd strongly suggest that you go through the use cases for these two methods and try them out (even if you don't try out the rest of the code pertaining to dates and times). Dealing with different formats of dates and times from disparate source files (since data could come from many potential data providers) is a pain we often encounter while dealing with financial data. [Here's](https://docs.python.org/3/library/datetime.html#strftime-and-strptime-behavior) the official documentation on them.*\n",
    "\n",
    "Native Python has a built-in `datetime` library and a third-party library [`dateutil`](https://dateutil.readthedocs.io/en/stable/) which supplies `date`, `datetime`, `time`, `timedelta` and other objects. There are many useful functionalities that you can perform using them. However, while working with large datasets, they are inefficient compared to better available date formats in `pandas` or `NumPy`.\n",
    "\n",
    "`NumPy` has the `datetime64` data type which encodes dates as 64-bit integers. It's named so because the name `datetime` was already taken by the `datetime` library in native Python. Some of the objects follow the convenient nomenclature of `64` suffixed at the end of their native Python names. Ex. `datetime64`, `timedelta64`.\n",
    "\n",
    "`pandas` provides a `Timestamp` object which is like the best of both worlds. It's got the user-friendliness of `datetime` and `dateutil` and the efficiency of `NumPy's datetime64`. It is interchangeable with Python's `datetime` in most cases."
   ]
  },
  {
   "cell_type": "markdown",
   "metadata": {},
   "source": [
    "**`DatetimeIndex` is a `pandas` index object formed by combining multiple entries of `Timestamp` objects.**\n",
    "\n",
    "***Some use cases which you can try on your own time if you wish.***\n",
    "\n",
    "```python\n",
    "## Native Python\n",
    "import datetime\n",
    "a = datetime.datetime(year=2018, month=6, day=10)\n",
    "print(\"a\", type(a))\n",
    "\n",
    "a2 = datetime.datetime.now()\n",
    "print(\"a2\", type(a2))\n",
    "\n",
    "a3 = datetime.datetime.now().date()\n",
    "print(\"a3\", type(a3))\n",
    "\n",
    "a3.strftime(\"%A\")\n",
    "a2.strftime(\"%a\")\n",
    "\n",
    "a4date = \"18 Nov 2011\"\n",
    "a5 = datetime.datetime.strptime(a4date,\"%d %b %Y\").date()\n",
    "\n",
    "from dateutil import parser\n",
    "a5 = parser.parse(\"10th Oct 2014\")\n",
    "a5\n",
    "print(\"a5\", type(a5))\n",
    "```"
   ]
  },
  {
   "cell_type": "code",
   "execution_count": 17,
   "metadata": {},
   "outputs": [],
   "source": [
    "import datetime\n",
    "datetime.datetime?\n"
   ]
  },
  {
   "cell_type": "code",
   "execution_count": 3,
   "metadata": {},
   "outputs": [
    {
     "name": "stdout",
     "output_type": "stream",
     "text": [
      "2018-06-10 00:00:00 a <class 'datetime.datetime'>\n"
     ]
    }
   ],
   "source": [
    "import datetime\n",
    "a = datetime.datetime(year=2018, month=6, day=10)\n",
    "print(a, \"a\", type(a))\n"
   ]
  },
  {
   "cell_type": "code",
   "execution_count": 18,
   "metadata": {},
   "outputs": [
    {
     "name": "stdout",
     "output_type": "stream",
     "text": [
      "2018-12-05 23:02:42.821555 a2 <class 'datetime.datetime'>\n"
     ]
    }
   ],
   "source": [
    "a2 = datetime.datetime.now() #give exact moment at the millisecond\n",
    "print(a2, \"a2\", type(a2))"
   ]
  },
  {
   "cell_type": "code",
   "execution_count": 19,
   "metadata": {},
   "outputs": [
    {
     "name": "stdout",
     "output_type": "stream",
     "text": [
      "2018-12-05 a3 <class 'datetime.date'>\n"
     ]
    }
   ],
   "source": [
    "a3 = datetime.datetime.now().date()\n",
    "print(a3, \"a3\", type(a3))"
   ]
  },
  {
   "cell_type": "code",
   "execution_count": 21,
   "metadata": {},
   "outputs": [
    {
     "data": {
      "text/plain": [
       "'Wednesday'"
      ]
     },
     "execution_count": 21,
     "metadata": {},
     "output_type": "execute_result"
    }
   ],
   "source": [
    "a3.strftime(\"%A\") # %A is a short form for the day in complete spelling"
   ]
  },
  {
   "cell_type": "code",
   "execution_count": 22,
   "metadata": {},
   "outputs": [
    {
     "data": {
      "text/plain": [
       "'05 12 18'"
      ]
     },
     "execution_count": 22,
     "metadata": {},
     "output_type": "execute_result"
    }
   ],
   "source": [
    "a3.strftime(\"%d %m %y\")"
   ]
  },
  {
   "cell_type": "code",
   "execution_count": 9,
   "metadata": {},
   "outputs": [
    {
     "data": {
      "text/plain": [
       "'Wed'"
      ]
     },
     "execution_count": 9,
     "metadata": {},
     "output_type": "execute_result"
    }
   ],
   "source": [
    "a2.strftime(\"%a\")"
   ]
  },
  {
   "cell_type": "code",
   "execution_count": 29,
   "metadata": {},
   "outputs": [
    {
     "name": "stdout",
     "output_type": "stream",
     "text": [
      "2011-11-18\n"
     ]
    }
   ],
   "source": [
    "a4date = \"18 Nov 2011\"\n",
    "a4 = datetime.datetime.strptime(a4date,\"%d %b %Y\").date()\n",
    "print(a4)"
   ]
  },
  {
   "cell_type": "code",
   "execution_count": 30,
   "metadata": {},
   "outputs": [
    {
     "name": "stdout",
     "output_type": "stream",
     "text": [
      "2014-10-10 00:00:00 a5 <class 'datetime.datetime'>\n"
     ]
    }
   ],
   "source": [
    "from dateutil import parser  # very useful when data comes in this format\n",
    "a5 = parser.parse(\"10th Oct 2014\")\n",
    "a5\n",
    "print(a5, \"a5\", type(a5))"
   ]
  },
  {
   "cell_type": "markdown",
   "metadata": {},
   "source": [
    "```python\n",
    "## NumPy Datetimes\n",
    "## numpy encodes dates as 64bits integers, so can store dates to nanoseconds, so super cool for HFT\n",
    "import numpy as np\n",
    "b = np.datetime64(\"2016-04-15\")\n",
    "\n",
    "b2 = np.datetime64(\"2017-11\") # only specifying month and year\n",
    "\n",
    "b3 = np.arange('2015-08', '2015-09', dtype='datetime64[D]') # getting all the dates for a month\n",
    "\n",
    "np.datetime64('2018-01-01') + np.timedelta64(25, 'D')\n",
    "```"
   ]
  },
  {
   "cell_type": "code",
   "execution_count": 32,
   "metadata": {},
   "outputs": [
    {
     "data": {
      "text/plain": [
       "numpy.datetime64('2016-04-15')"
      ]
     },
     "execution_count": 32,
     "metadata": {},
     "output_type": "execute_result"
    }
   ],
   "source": [
    "import numpy as np\n",
    "\n",
    "b = np.datetime64(\"2016-04-15\")\n",
    "b"
   ]
  },
  {
   "cell_type": "code",
   "execution_count": 34,
   "metadata": {},
   "outputs": [
    {
     "data": {
      "text/plain": [
       "numpy.datetime64('2017-11')"
      ]
     },
     "execution_count": 34,
     "metadata": {},
     "output_type": "execute_result"
    }
   ],
   "source": [
    "b2 = np.datetime64(\"2017-11\") # only specifying month and year\n",
    "b2"
   ]
  },
  {
   "cell_type": "code",
   "execution_count": 40,
   "metadata": {},
   "outputs": [
    {
     "name": "stdout",
     "output_type": "stream",
     "text": [
      "['2015-08-01' '2015-08-02' '2015-08-03' '2015-08-04' '2015-08-05'\n",
      " '2015-08-06' '2015-08-07' '2015-08-08' '2015-08-09' '2015-08-10'\n",
      " '2015-08-11' '2015-08-12' '2015-08-13' '2015-08-14' '2015-08-15'\n",
      " '2015-08-16' '2015-08-17' '2015-08-18' '2015-08-19' '2015-08-20'\n",
      " '2015-08-21' '2015-08-22' '2015-08-23' '2015-08-24' '2015-08-25'\n",
      " '2015-08-26' '2015-08-27' '2015-08-28' '2015-08-29' '2015-08-30'\n",
      " '2015-08-31']\n"
     ]
    }
   ],
   "source": [
    "b3 = np.arange('2015-08', '2015-09', dtype='datetime64[D]') # getting all the dates for a month. Arange method excludes the stop date\n",
    "print(b3)"
   ]
  },
  {
   "cell_type": "code",
   "execution_count": 39,
   "metadata": {},
   "outputs": [
    {
     "data": {
      "text/plain": [
       "array(['2015-08'], dtype='datetime64[M]')"
      ]
     },
     "execution_count": 39,
     "metadata": {},
     "output_type": "execute_result"
    }
   ],
   "source": [
    "b4 = np.arange('2015-08', '2015-09', dtype='datetime64[M]') \n",
    "b4"
   ]
  },
  {
   "cell_type": "code",
   "execution_count": 41,
   "metadata": {},
   "outputs": [
    {
     "data": {
      "text/plain": [
       "31"
      ]
     },
     "execution_count": 41,
     "metadata": {},
     "output_type": "execute_result"
    }
   ],
   "source": [
    "len(b3)"
   ]
  },
  {
   "cell_type": "code",
   "execution_count": 42,
   "metadata": {},
   "outputs": [
    {
     "data": {
      "text/plain": [
       "1"
      ]
     },
     "execution_count": 42,
     "metadata": {},
     "output_type": "execute_result"
    }
   ],
   "source": [
    "len(b4)"
   ]
  },
  {
   "cell_type": "code",
   "execution_count": 44,
   "metadata": {},
   "outputs": [
    {
     "name": "stdout",
     "output_type": "stream",
     "text": [
      "2018-01-26\n"
     ]
    }
   ],
   "source": [
    "print(np.datetime64('2018-01-01') + np.timedelta64(25, 'D'))"
   ]
  },
  {
   "cell_type": "code",
   "execution_count": null,
   "metadata": {},
   "outputs": [],
   "source": []
  },
  {
   "cell_type": "markdown",
   "metadata": {},
   "source": [
    "```python\n",
    "## pandas Timestamps\n",
    "\n",
    "import pandas as pd\n",
    "\n",
    "c = pd.to_datetime(\"10th Sept 2016\") # super cool method that converts many formats into pandas' native date format\n",
    "c\n",
    "print(\"c\", type(c))\n",
    "c.strftime(\"%B\")\n",
    "\n",
    "c2 = c + pd.to_timedelta(np.arange(20), 'D')\n",
    "c2\n",
    "print(\"c2\", type(c2))\n",
    "\n",
    "c3 = pd.Timestamp('2017-03-15')\n",
    "c3\n",
    "print(\"c3\", type(c3))\n",
    "\n",
    "```\n",
    "\n",
    "You can read and try some examples on this from [here](https://jakevdp.github.io/PythonDataScienceHandbook/03.11-working-with-time-series.html)."
   ]
  },
  {
   "cell_type": "code",
   "execution_count": 45,
   "metadata": {},
   "outputs": [
    {
     "data": {
      "text/plain": [
       "Timestamp('2016-09-10 00:00:00')"
      ]
     },
     "execution_count": 45,
     "metadata": {},
     "output_type": "execute_result"
    }
   ],
   "source": [
    "import pandas as pd\n",
    "\n",
    "c = pd.to_datetime(\"10th Sept 2016\")\n",
    "c\n"
   ]
  },
  {
   "cell_type": "code",
   "execution_count": 57,
   "metadata": {},
   "outputs": [
    {
     "data": {
      "text/plain": [
       "pandas._libs.tslibs.timestamps.Timestamp"
      ]
     },
     "execution_count": 57,
     "metadata": {},
     "output_type": "execute_result"
    }
   ],
   "source": [
    "type(c)"
   ]
  },
  {
   "cell_type": "code",
   "execution_count": 59,
   "metadata": {},
   "outputs": [
    {
     "data": {
      "text/plain": [
       "'Saturday September 2016'"
      ]
     },
     "execution_count": 59,
     "metadata": {},
     "output_type": "execute_result"
    }
   ],
   "source": [
    "c.strftime(\"%A %B %Y\")"
   ]
  },
  {
   "cell_type": "code",
   "execution_count": 62,
   "metadata": {},
   "outputs": [
    {
     "data": {
      "text/plain": [
       "'Sat Sep 16'"
      ]
     },
     "execution_count": 62,
     "metadata": {},
     "output_type": "execute_result"
    }
   ],
   "source": [
    "c.strftime(\"%a %b %y\")"
   ]
  },
  {
   "cell_type": "code",
   "execution_count": 63,
   "metadata": {},
   "outputs": [
    {
     "data": {
      "text/plain": [
       "'10 09 16'"
      ]
     },
     "execution_count": 63,
     "metadata": {},
     "output_type": "execute_result"
    }
   ],
   "source": [
    "c.strftime(\"%d %m %y\")"
   ]
  },
  {
   "cell_type": "code",
   "execution_count": 47,
   "metadata": {},
   "outputs": [
    {
     "data": {
      "text/plain": [
       "Timestamp('2016-09-10 00:00:00')"
      ]
     },
     "execution_count": 47,
     "metadata": {},
     "output_type": "execute_result"
    }
   ],
   "source": [
    "c = pd.to_datetime(\"Sept 10 2016\")\n",
    "c"
   ]
  },
  {
   "cell_type": "code",
   "execution_count": 48,
   "metadata": {},
   "outputs": [
    {
     "data": {
      "text/plain": [
       "Timestamp('2016-09-10 00:00:00')"
      ]
     },
     "execution_count": 48,
     "metadata": {},
     "output_type": "execute_result"
    }
   ],
   "source": [
    "c = pd.to_datetime(\"september 10, 2016\")\n",
    "c"
   ]
  },
  {
   "cell_type": "code",
   "execution_count": 56,
   "metadata": {},
   "outputs": [
    {
     "name": "stdout",
     "output_type": "stream",
     "text": [
      "DatetimeIndex(['2016-09-10', '2016-09-11', '2016-09-12', '2016-09-13',\n",
      "               '2016-09-14', '2016-09-15', '2016-09-16', '2016-09-17',\n",
      "               '2016-09-18', '2016-09-19', '2016-09-20', '2016-09-21',\n",
      "               '2016-09-22', '2016-09-23', '2016-09-24', '2016-09-25',\n",
      "               '2016-09-26', '2016-09-27', '2016-09-28', '2016-09-29'],\n",
      "              dtype='datetime64[ns]', freq=None) c2 <class 'pandas.core.indexes.datetimes.DatetimeIndex'>\n"
     ]
    }
   ],
   "source": [
    "c2 = c + pd.to_timedelta(np.arange(20), 'D') # take a range from 0 to 19. np.arange(20)=[0,1,2,..19]\n",
    "c2\n",
    "print(c2, \"c2\", type(c2))\n",
    "\n"
   ]
  },
  {
   "cell_type": "code",
   "execution_count": 64,
   "metadata": {},
   "outputs": [
    {
     "name": "stdout",
     "output_type": "stream",
     "text": [
      "2017-03-15 00:00:00 c3 <class 'pandas._libs.tslibs.timestamps.Timestamp'>\n"
     ]
    }
   ],
   "source": [
    "c3 = pd.Timestamp('2017-03-15')\n",
    "c3\n",
    "print(c3, \"c3\", type(c3))"
   ]
  },
  {
   "cell_type": "markdown",
   "metadata": {},
   "source": [
    "### Downloading and loading the data in a pandas DataFrame\n",
    "\n",
    "We will now use the `pandas-datareader` to automatically download the required data for the Microsoft stock price. In case you're having trouble with the download, please use the `csv` file that's been provided to you and run the relevant code.\n",
    "\n",
    "\n",
    "```python\n",
    "\n",
    "end = datetime.datetime.now().date()\n",
    "start = end - pd.Timedelta(days = 365 * 10)\n",
    "df = web.DataReader(\"MSFT\", \"quandl\", start, end)\n",
    "\n",
    "## IMPORTANT: Please run the below line only if your pandas-datareader doesn't work\n",
    "\n",
    "df = pd.read_csv(\"MSFT.csv\", index_col=0, parse_dates=True)\n",
    "\n",
    "```"
   ]
  },
  {
   "cell_type": "code",
   "execution_count": 84,
   "metadata": {
    "scrolled": true
   },
   "outputs": [
    {
     "name": "stdout",
     "output_type": "stream",
     "text": [
      "start: 2008-12-07 end: 2018-12-05\n"
     ]
    },
    {
     "data": {
      "text/plain": [
       "datetime.date"
      ]
     },
     "execution_count": 84,
     "metadata": {},
     "output_type": "execute_result"
    }
   ],
   "source": [
    "end = datetime.datetime.now().date()\n",
    "start = end - pd.Timedelta(days = 365 * 10) #download data for the last 10 years\n",
    "print(\"start:\", start, \"end:\", end)\n",
    "type(end)"
   ]
  },
  {
   "cell_type": "code",
   "execution_count": 69,
   "metadata": {
    "scrolled": false
   },
   "outputs": [
    {
     "ename": "ValueError",
     "evalue": "The Quandl API key must be provided either through the api_key variable or through the environmental variable QUANDL_API_KEY.",
     "output_type": "error",
     "traceback": [
      "\u001b[1;31m---------------------------------------------------------------------------\u001b[0m",
      "\u001b[1;31mValueError\u001b[0m                                Traceback (most recent call last)",
      "\u001b[1;32m<ipython-input-69-d527d94e3748>\u001b[0m in \u001b[0;36m<module>\u001b[1;34m()\u001b[0m\n\u001b[1;32m----> 1\u001b[1;33m \u001b[0mdf\u001b[0m \u001b[1;33m=\u001b[0m \u001b[0mweb\u001b[0m\u001b[1;33m.\u001b[0m\u001b[0mDataReader\u001b[0m\u001b[1;33m(\u001b[0m\u001b[1;34m\"MSFT\"\u001b[0m\u001b[1;33m,\u001b[0m \u001b[1;34m\"quandl\"\u001b[0m\u001b[1;33m,\u001b[0m \u001b[0mstart\u001b[0m\u001b[1;33m,\u001b[0m \u001b[0mend\u001b[0m\u001b[1;33m)\u001b[0m \u001b[1;31m# web is the alias for data_reader, which we downloaded already\u001b[0m\u001b[1;33m\u001b[0m\u001b[0m\n\u001b[0m\u001b[0;32m      2\u001b[0m \u001b[0mdf\u001b[0m\u001b[1;33m.\u001b[0m\u001b[0mto_csv\u001b[0m\u001b[1;33m(\u001b[0m\u001b[1;34m\"MSFT.csv\"\u001b[0m\u001b[1;33m)\u001b[0m \u001b[1;31m# to save the downloaded file as csv\u001b[0m\u001b[1;33m\u001b[0m\u001b[0m\n",
      "\u001b[1;32m~\\Anaconda3\\lib\\site-packages\\pandas_datareader\\data.py\u001b[0m in \u001b[0;36mDataReader\u001b[1;34m(name, data_source, start, end, retry_count, pause, session, access_key)\u001b[0m\n\u001b[0;32m    377\u001b[0m         return QuandlReader(symbols=name, start=start, end=end,\n\u001b[0;32m    378\u001b[0m                             \u001b[0mretry_count\u001b[0m\u001b[1;33m=\u001b[0m\u001b[0mretry_count\u001b[0m\u001b[1;33m,\u001b[0m \u001b[0mpause\u001b[0m\u001b[1;33m=\u001b[0m\u001b[0mpause\u001b[0m\u001b[1;33m,\u001b[0m\u001b[1;33m\u001b[0m\u001b[0m\n\u001b[1;32m--> 379\u001b[1;33m                             session=session, api_key=access_key).read()\n\u001b[0m\u001b[0;32m    380\u001b[0m     \u001b[1;32melif\u001b[0m \u001b[0mdata_source\u001b[0m \u001b[1;33m==\u001b[0m \u001b[1;34m\"moex\"\u001b[0m\u001b[1;33m:\u001b[0m\u001b[1;33m\u001b[0m\u001b[0m\n\u001b[0;32m    381\u001b[0m         return MoexReader(symbols=name, start=start, end=end,\n",
      "\u001b[1;32m~\\Anaconda3\\lib\\site-packages\\pandas_datareader\\quandl.py\u001b[0m in \u001b[0;36m__init__\u001b[1;34m(self, symbols, start, end, retry_count, pause, session, chunksize, api_key)\u001b[0m\n\u001b[0;32m     52\u001b[0m             \u001b[0mapi_key\u001b[0m \u001b[1;33m=\u001b[0m \u001b[0mos\u001b[0m\u001b[1;33m.\u001b[0m\u001b[0mgetenv\u001b[0m\u001b[1;33m(\u001b[0m\u001b[1;34m'QUANDL_API_KEY'\u001b[0m\u001b[1;33m)\u001b[0m\u001b[1;33m\u001b[0m\u001b[0m\n\u001b[0;32m     53\u001b[0m         \u001b[1;32mif\u001b[0m \u001b[1;32mnot\u001b[0m \u001b[0mapi_key\u001b[0m \u001b[1;32mor\u001b[0m \u001b[1;32mnot\u001b[0m \u001b[0misinstance\u001b[0m\u001b[1;33m(\u001b[0m\u001b[0mapi_key\u001b[0m\u001b[1;33m,\u001b[0m \u001b[0mstr\u001b[0m\u001b[1;33m)\u001b[0m\u001b[1;33m:\u001b[0m\u001b[1;33m\u001b[0m\u001b[0m\n\u001b[1;32m---> 54\u001b[1;33m             raise ValueError('The Quandl API key must be provided either '\n\u001b[0m\u001b[0;32m     55\u001b[0m                              \u001b[1;34m'through the api_key variable or through the '\u001b[0m\u001b[1;33m\u001b[0m\u001b[0m\n\u001b[0;32m     56\u001b[0m                              'environmental variable QUANDL_API_KEY.')\n",
      "\u001b[1;31mValueError\u001b[0m: The Quandl API key must be provided either through the api_key variable or through the environmental variable QUANDL_API_KEY."
     ]
    }
   ],
   "source": [
    "df = web.DataReader(\"MSFT\", \"quandl\", start, end) # web is the alias for data_reader, which we downloaded already\n",
    "df.to_csv(\"MSFT.csv\") # to save the downloaded file as csv"
   ]
  },
  {
   "cell_type": "code",
   "execution_count": 70,
   "metadata": {},
   "outputs": [],
   "source": [
    "# we can't dl from quandl apparently cuz it needs a key which i dont know (need to sign up with Quandl, so let's use the provided csv\n",
    "df = pd.read_csv(\"MSFT.csv\", index_col=0, parse_dates=True)"
   ]
  },
  {
   "cell_type": "markdown",
   "metadata": {},
   "source": [
    "Let's now examine `df`, our `pandas DataFrame` closely.\n",
    "\n",
    "```python\n",
    "\n",
    "df.head()\n",
    "df.tail()\n",
    "df.shape\n",
    "df.describe()\n",
    "df.info()\n",
    "```\n",
    "\n",
    "You'll notice that the order of entries is from the latest to the oldest. This is the way in which data gets downloaded via Quandl. We will encounter quirks such as these with different data vendors. And a significant part of our job when we work on programming quant trading strategies, is data munging and cleaning.\n",
    "\n",
    "```python\n",
    "# We reindex our dataframe so as to get the data ordered the way we'd prefer\n",
    "\n",
    "df = df.reindex(index=df.index[::-1])\n",
    "df.head()\n",
    "df.tail()\n",
    "\n",
    "```"
   ]
  },
  {
   "cell_type": "code",
   "execution_count": 83,
   "metadata": {},
   "outputs": [
    {
     "name": "stdout",
     "output_type": "stream",
     "text": [
      "              Open    High    Low  Close      Volume  ExDividend  SplitRatio  \\\n",
      "Date                                                                           \n",
      "2018-03-27  94.940  95.139  88.51  89.47  53704562.0         0.0         1.0   \n",
      "2018-03-26  90.610  94.000  90.40  93.78  55031149.0         0.0         1.0   \n",
      "2018-03-23  89.500  90.460  87.08  87.18  42159397.0         0.0         1.0   \n",
      "2018-03-22  91.265  91.750  89.66  89.79  37578166.0         0.0         1.0   \n",
      "2018-03-21  92.930  94.050  92.21  92.48  23753263.0         0.0         1.0   \n",
      "\n",
      "            AdjOpen  AdjHigh  AdjLow  AdjClose   AdjVolume  \n",
      "Date                                                        \n",
      "2018-03-27   94.940   95.139   88.51     89.47  53704562.0  \n",
      "2018-03-26   90.610   94.000   90.40     93.78  55031149.0  \n",
      "2018-03-23   89.500   90.460   87.08     87.18  42159397.0  \n",
      "2018-03-22   91.265   91.750   89.66     89.79  37578166.0  \n",
      "2018-03-21   92.930   94.050   92.21     92.48  23753263.0   \n",
      "\n",
      "             Open   High    Low  Close       Volume  ExDividend  SplitRatio  \\\n",
      "Date                                                                          \n",
      "2008-12-11  20.11  20.12  19.31  19.45   83564300.0         0.0         1.0   \n",
      "2008-12-10  20.82  20.96  20.30  20.61   61499000.0         0.0         1.0   \n",
      "2008-12-09  20.62  21.25  20.46  20.60   80484900.0         0.0         1.0   \n",
      "2008-12-08  20.35  21.25  20.14  21.01  107225000.0         0.0         1.0   \n",
      "2008-12-05  18.91  19.98  18.47  19.87   91996200.0         0.0         1.0   \n",
      "\n",
      "              AdjOpen    AdjHigh     AdjLow   AdjClose    AdjVolume  \n",
      "Date                                                                 \n",
      "2008-12-11  15.966251  15.974190  15.331094  15.442247   83564300.0  \n",
      "2008-12-10  16.529952  16.641105  16.117101  16.363224   61499000.0  \n",
      "2008-12-09  16.371163  16.871349  16.244132  16.355284   80484900.0  \n",
      "2008-12-08  16.156798  16.871349  15.990069  16.680802  107225000.0  \n",
      "2008-12-05  15.013516  15.863038  14.664180  15.775704   91996200.0   \n",
      "\n",
      "(2341, 12) \n",
      "\n",
      "              Open         High          Low        Close        Volume  \\\n",
      "count  2341.000000  2341.000000  2341.000000  2341.000000  2.341000e+03   \n",
      "mean     40.538559    40.889431    40.189334    40.558313  4.486350e+07   \n",
      "std      17.647761    17.755144    17.527877    17.646141  2.528851e+07   \n",
      "min      15.200000    15.620000    14.870000    15.150000  7.425503e+06   \n",
      "25%      27.050000    27.270000    26.780000    27.040000  2.740791e+07   \n",
      "50%      33.515000    33.910000    33.290000    33.670000  3.978910e+07   \n",
      "75%      50.470000    50.830000    49.820000    50.480000  5.551210e+07   \n",
      "max      97.000000    97.240000    96.040000    96.770000  3.193179e+08   \n",
      "\n",
      "        ExDividend  SplitRatio      AdjOpen      AdjHigh       AdjLow  \\\n",
      "count  2341.000000      2341.0  2341.000000  2341.000000  2341.000000   \n",
      "mean      0.003866         1.0    37.272064    37.591698    36.953563   \n",
      "std       0.033066         0.0    18.921684    19.044092    18.787207   \n",
      "min       0.000000         1.0    12.154701    12.490554    11.890816   \n",
      "25%       0.000000         1.0    22.851994    23.083701    22.560680   \n",
      "50%       0.000000         1.0    29.929764    30.350679    29.732740   \n",
      "75%       0.000000         1.0    48.540968    48.983510    47.946432   \n",
      "max       0.420000         1.0    97.000000    97.240000    96.040000   \n",
      "\n",
      "          AdjClose     AdjVolume  \n",
      "count  2341.000000  2.341000e+03  \n",
      "mean     37.290000  4.486350e+07  \n",
      "std      18.920728  2.528851e+07  \n",
      "min      12.114718  7.425503e+06  \n",
      "25%      22.835810  2.740791e+07  \n",
      "50%      30.046187  3.978910e+07  \n",
      "75%      48.413710  5.551210e+07  \n",
      "max      96.770000  3.193179e+08   \n",
      "\n",
      "<class 'pandas.core.frame.DataFrame'>\n",
      "DatetimeIndex: 2341 entries, 2018-03-27 to 2008-12-05\n",
      "Data columns (total 12 columns):\n",
      "Open          2341 non-null float64\n",
      "High          2341 non-null float64\n",
      "Low           2341 non-null float64\n",
      "Close         2341 non-null float64\n",
      "Volume        2341 non-null float64\n",
      "ExDividend    2341 non-null float64\n",
      "SplitRatio    2341 non-null float64\n",
      "AdjOpen       2341 non-null float64\n",
      "AdjHigh       2341 non-null float64\n",
      "AdjLow        2341 non-null float64\n",
      "AdjClose      2341 non-null float64\n",
      "AdjVolume     2341 non-null float64\n",
      "dtypes: float64(12)\n",
      "memory usage: 237.8 KB\n"
     ]
    }
   ],
   "source": [
    "print(df.head(), \"\\n\")\n",
    "print(df.tail(), \"\\n\")\n",
    "print(df.shape, \"\\n\")\n",
    "print(df.describe(), \"\\n\")\n",
    "df.info()"
   ]
  },
  {
   "cell_type": "code",
   "execution_count": 86,
   "metadata": {},
   "outputs": [
    {
     "name": "stdout",
     "output_type": "stream",
     "text": [
      "             Open   High    Low  Close       Volume  ExDividend  SplitRatio  \\\n",
      "Date                                                                          \n",
      "2008-12-05  18.91  19.98  18.47  19.87   91996200.0         0.0         1.0   \n",
      "2008-12-08  20.35  21.25  20.14  21.01  107225000.0         0.0         1.0   \n",
      "2008-12-09  20.62  21.25  20.46  20.60   80484900.0         0.0         1.0   \n",
      "2008-12-10  20.82  20.96  20.30  20.61   61499000.0         0.0         1.0   \n",
      "2008-12-11  20.11  20.12  19.31  19.45   83564300.0         0.0         1.0   \n",
      "\n",
      "              AdjOpen    AdjHigh     AdjLow   AdjClose    AdjVolume  \n",
      "Date                                                                 \n",
      "2008-12-05  15.013516  15.863038  14.664180  15.775704   91996200.0  \n",
      "2008-12-08  16.156798  16.871349  15.990069  16.680802  107225000.0  \n",
      "2008-12-09  16.371163  16.871349  16.244132  16.355284   80484900.0  \n",
      "2008-12-10  16.529952  16.641105  16.117101  16.363224   61499000.0  \n",
      "2008-12-11  15.966251  15.974190  15.331094  15.442247   83564300.0   \n",
      "\n"
     ]
    },
    {
     "data": {
      "text/html": [
       "<div>\n",
       "<style scoped>\n",
       "    .dataframe tbody tr th:only-of-type {\n",
       "        vertical-align: middle;\n",
       "    }\n",
       "\n",
       "    .dataframe tbody tr th {\n",
       "        vertical-align: top;\n",
       "    }\n",
       "\n",
       "    .dataframe thead th {\n",
       "        text-align: right;\n",
       "    }\n",
       "</style>\n",
       "<table border=\"1\" class=\"dataframe\">\n",
       "  <thead>\n",
       "    <tr style=\"text-align: right;\">\n",
       "      <th></th>\n",
       "      <th>Open</th>\n",
       "      <th>High</th>\n",
       "      <th>Low</th>\n",
       "      <th>Close</th>\n",
       "      <th>Volume</th>\n",
       "      <th>ExDividend</th>\n",
       "      <th>SplitRatio</th>\n",
       "      <th>AdjOpen</th>\n",
       "      <th>AdjHigh</th>\n",
       "      <th>AdjLow</th>\n",
       "      <th>AdjClose</th>\n",
       "      <th>AdjVolume</th>\n",
       "    </tr>\n",
       "    <tr>\n",
       "      <th>Date</th>\n",
       "      <th></th>\n",
       "      <th></th>\n",
       "      <th></th>\n",
       "      <th></th>\n",
       "      <th></th>\n",
       "      <th></th>\n",
       "      <th></th>\n",
       "      <th></th>\n",
       "      <th></th>\n",
       "      <th></th>\n",
       "      <th></th>\n",
       "      <th></th>\n",
       "    </tr>\n",
       "  </thead>\n",
       "  <tbody>\n",
       "    <tr>\n",
       "      <th>2018-03-21</th>\n",
       "      <td>92.930</td>\n",
       "      <td>94.050</td>\n",
       "      <td>92.21</td>\n",
       "      <td>92.48</td>\n",
       "      <td>23753263.0</td>\n",
       "      <td>0.0</td>\n",
       "      <td>1.0</td>\n",
       "      <td>92.930</td>\n",
       "      <td>94.050</td>\n",
       "      <td>92.21</td>\n",
       "      <td>92.48</td>\n",
       "      <td>23753263.0</td>\n",
       "    </tr>\n",
       "    <tr>\n",
       "      <th>2018-03-22</th>\n",
       "      <td>91.265</td>\n",
       "      <td>91.750</td>\n",
       "      <td>89.66</td>\n",
       "      <td>89.79</td>\n",
       "      <td>37578166.0</td>\n",
       "      <td>0.0</td>\n",
       "      <td>1.0</td>\n",
       "      <td>91.265</td>\n",
       "      <td>91.750</td>\n",
       "      <td>89.66</td>\n",
       "      <td>89.79</td>\n",
       "      <td>37578166.0</td>\n",
       "    </tr>\n",
       "    <tr>\n",
       "      <th>2018-03-23</th>\n",
       "      <td>89.500</td>\n",
       "      <td>90.460</td>\n",
       "      <td>87.08</td>\n",
       "      <td>87.18</td>\n",
       "      <td>42159397.0</td>\n",
       "      <td>0.0</td>\n",
       "      <td>1.0</td>\n",
       "      <td>89.500</td>\n",
       "      <td>90.460</td>\n",
       "      <td>87.08</td>\n",
       "      <td>87.18</td>\n",
       "      <td>42159397.0</td>\n",
       "    </tr>\n",
       "    <tr>\n",
       "      <th>2018-03-26</th>\n",
       "      <td>90.610</td>\n",
       "      <td>94.000</td>\n",
       "      <td>90.40</td>\n",
       "      <td>93.78</td>\n",
       "      <td>55031149.0</td>\n",
       "      <td>0.0</td>\n",
       "      <td>1.0</td>\n",
       "      <td>90.610</td>\n",
       "      <td>94.000</td>\n",
       "      <td>90.40</td>\n",
       "      <td>93.78</td>\n",
       "      <td>55031149.0</td>\n",
       "    </tr>\n",
       "    <tr>\n",
       "      <th>2018-03-27</th>\n",
       "      <td>94.940</td>\n",
       "      <td>95.139</td>\n",
       "      <td>88.51</td>\n",
       "      <td>89.47</td>\n",
       "      <td>53704562.0</td>\n",
       "      <td>0.0</td>\n",
       "      <td>1.0</td>\n",
       "      <td>94.940</td>\n",
       "      <td>95.139</td>\n",
       "      <td>88.51</td>\n",
       "      <td>89.47</td>\n",
       "      <td>53704562.0</td>\n",
       "    </tr>\n",
       "  </tbody>\n",
       "</table>\n",
       "</div>"
      ],
      "text/plain": [
       "              Open    High    Low  Close      Volume  ExDividend  SplitRatio  \\\n",
       "Date                                                                           \n",
       "2018-03-21  92.930  94.050  92.21  92.48  23753263.0         0.0         1.0   \n",
       "2018-03-22  91.265  91.750  89.66  89.79  37578166.0         0.0         1.0   \n",
       "2018-03-23  89.500  90.460  87.08  87.18  42159397.0         0.0         1.0   \n",
       "2018-03-26  90.610  94.000  90.40  93.78  55031149.0         0.0         1.0   \n",
       "2018-03-27  94.940  95.139  88.51  89.47  53704562.0         0.0         1.0   \n",
       "\n",
       "            AdjOpen  AdjHigh  AdjLow  AdjClose   AdjVolume  \n",
       "Date                                                        \n",
       "2018-03-21   92.930   94.050   92.21     92.48  23753263.0  \n",
       "2018-03-22   91.265   91.750   89.66     89.79  37578166.0  \n",
       "2018-03-23   89.500   90.460   87.08     87.18  42159397.0  \n",
       "2018-03-26   90.610   94.000   90.40     93.78  55031149.0  \n",
       "2018-03-27   94.940   95.139   88.51     89.47  53704562.0  "
      ]
     },
     "execution_count": 86,
     "metadata": {},
     "output_type": "execute_result"
    }
   ],
   "source": [
    "# We reindex our dataframe so as to get the data ordered the way we'd prefer\n",
    "\n",
    "df = df.reindex(index=df.index[::-1]) # can also do df=df[:: -1]\n",
    "print(df.head(), \"\\n\")\n",
    "df.tail()"
   ]
  },
  {
   "cell_type": "markdown",
   "metadata": {},
   "source": [
    "### Visualizing your Data\n",
    "\n",
    "Let me remind you that [Matplotlib](https://matplotlib.org/) is a plotting library extensively used in quantitative finance and other fields to produce pretty graphs and figures. We'll be primarily using it as a visualization tool.\n",
    "\n",
    "Visualizing is a nice way to get a 'feel' for your dataset and understand the story that your data tells you.\n",
    "\n",
    "We'll first take a look at the `matplotlib` library's `plot()` function.\n",
    "\n",
    "You can think of it as a quick and dirty way (this method would be like comfort food for MATLAB users who are used to this kind of API) to get a visual representation of your data. \n",
    "\n",
    "The below method uses a MATLAB-style API. It's easy and convenient but it comes at a cost. The simpler customizations that you may want such as manipulating the axes, adding labels, etc. can be easily done. \n",
    "\n",
    "However, if you want to say, change the font used, plot multiple charts in one figure, use LaTeX for scientific notations, etc., you'll need to use the other method (let's call it the Python-style API for convenience).\n",
    "```python\n",
    "\n",
    "plt.figure(figsize=(14, 9))\n",
    "plt.plot(df['AdjHigh'], linewidth=0.5, label='Adjusted High')\n",
    "plt.plot(df['AdjLow'], linewidth=0.5, label='Adjusted Low')\n",
    "plt.plot(df['AdjClose'], linewidth=0.5, label='Adjusted Close')\n",
    "plt.grid(True)\n",
    "plt.title('Microsoft Price Movements')\n",
    "plt.xlabel('Time')\n",
    "plt.ylabel('Price')\n",
    "#plt.axis('tight')\n",
    "#plt.tight_layout()\n",
    "plt.legend()\n",
    "plt.show()\n",
    "\n",
    "```"
   ]
  },
  {
   "cell_type": "code",
   "execution_count": 93,
   "metadata": {
    "scrolled": true
   },
   "outputs": [
    {
     "data": {
      "image/png": "[encoded data removed]",
      "text/plain": [
       "<Figure size 1008x648 with 1 Axes>"
      ]
     },
     "metadata": {
      "needs_background": "light"
     },
     "output_type": "display_data"
    }
   ],
   "source": [
    "plt.figure(figsize=(14, 9)) #width and height, whatever is comfortable on my screen\n",
    "plt.plot(df['AdjHigh'], linewidth=2, label='Adjusted High', color=\"pink\")\n",
    "plt.plot(df['AdjLow'], linewidth=0.5, label='Adjusted Low')\n",
    "plt.plot(df['AdjClose'], linewidth=0.5, label='Adjusted Close')\n",
    "plt.grid(True) # make the grid appear\n",
    "plt.title('Microsoft Price Movements')\n",
    "plt.xlabel('Time')\n",
    "plt.ylabel('Price')\n",
    "plt.axis('tight') # we dont want the x and y axis to go much beyond the data\n",
    "#plt.tight_layout()\n",
    "plt.legend()\n",
    "plt.show()"
   ]
  },
  {
   "cell_type": "markdown",
   "metadata": {},
   "source": [
    "An even quicker way to plot graphs when you're dealing with `pandas` is the `.plot()` method directly as shown. The `.plot()` method is a wrapper around `matplotlib's` `plot()` function. THIS IS A PANDAS METHOD.\n",
    "\n",
    "```python\n",
    "\n",
    "df[['AdjHigh', 'AdjLow', 'AdjClose']].plot(grid=True, linewidth=0.5, figsize=(14, 9 ))\n",
    "df['Volume'].plot(grid=True, linewidth=0.5, figsize=(14, 9))\n",
    "```"
   ]
  },
  {
   "cell_type": "code",
   "execution_count": 106,
   "metadata": {},
   "outputs": [
    {
     "data": {
      "text/plain": [
       "<matplotlib.axes._subplots.AxesSubplot at 0x208898d6ef0>"
      ]
     },
     "execution_count": 106,
     "metadata": {},
     "output_type": "execute_result"
    },
    {
     "data": {
      "image/png": "[encoded data removed]",
      "text/plain": [
       "<Figure size 1008x648 with 1 Axes>"
      ]
     },
     "metadata": {
      "needs_background": "light"
     },
     "output_type": "display_data"
    }
   ],
   "source": [
    "#%matplotlib inline #if doesnt work in the workbook\n",
    "df[['AdjHigh', 'AdjLow', 'AdjClose']].plot(grid=True, linewidth=0.5, figsize=(14, 9 ))\n",
    "df['Volume'].plot(grid=True, linewidth=0.5, figsize=(14, 9 ))\n",
    "# here we see that the volume data is overwhelming the price data"
   ]
  },
  {
   "cell_type": "markdown",
   "metadata": {},
   "source": [
    "The Python-syle API exploits the Object Oriented API style of Python. I've provided two illustrative examples below. Notice the difference in styles.\n",
    "There's a bit more typing to do here. It may not appear obvious why this is a better method in the long run. Suffice to say that as you start producing more complex charts, the more explicit use of objects makes it more customizable to suit your needs.\n",
    "\n",
    "We will not be using this method for today. However, I'm flagging it as a topic that can be explored as you get better at writing programs. [This](http://www.scipy-lectures.org/intro/matplotlib/index.html) is a good place to rev up your charting skills.\n",
    "\n",
    "```python\n",
    "fig, ax = plt.subplots(nrows=1, ncols=1, figsize=(14, 9))\n",
    "### subplots() creates axes on a chart\n",
    "for i in ['AdjHigh', 'AdjLow', 'AdjClose']:\n",
    "    curr_label = i\n",
    "    ax.plot(df[i], linewidth=0.5, label=curr_label)\n",
    "ax.legend()\n",
    "ax.grid()\n",
    "ax.set\n",
    "plt.show()\n",
    "\n",
    "\n",
    "fig, ax1 = plt.subplots(nrows=1, ncols=1, figsize=(14, 9))\n",
    "ax1.plot(df['AdjHigh'], linewidth=0.5, label='Adjusted High')\n",
    "ax1.plot(df['AdjLow'], linewidth=0.5, label='Adjusted Low')\n",
    "ax1.plot(df['AdjClose'], linewidth=0.5, label='Adjusted Close')\n",
    "ax1.grid(True)\n",
    "ax1.legend()\n",
    "ax2=ax1.twinx() # plots the specified dataset using the second axis (right)\n",
    "ax2.plot(df['AdjVolume'], linewidth=1, label='Volume')\n",
    "ax2.legend()\n",
    "plt.show()\n",
    "\n",
    "```\n",
    "\n"
   ]
  },
  {
   "cell_type": "code",
   "execution_count": 100,
   "metadata": {},
   "outputs": [
    {
     "data": {
      "text/plain": [
       "<function matplotlib.pyplot.show(*args, **kw)>"
      ]
     },
     "execution_count": 100,
     "metadata": {},
     "output_type": "execute_result"
    },
    {
     "data": {
      "image/png": "[encoded data removed]",
      "text/plain": [
       "<Figure size 1008x648 with 1 Axes>"
      ]
     },
     "metadata": {
      "needs_background": "light"
     },
     "output_type": "display_data"
    }
   ],
   "source": [
    "fig, ax = plt.subplots(nrows=1, ncols=1, figsize=(14, 9))\n",
    "### subplots() creates axes on a chart\n",
    "for i in ['AdjHigh', 'AdjLow', 'AdjClose']:\n",
    "    curr_label = i\n",
    "    ax.plot(df[i], linewidth=0.5, label=curr_label)\n",
    "ax.legend()\n",
    "ax.grid()\n",
    "ax.set\n",
    "plt.show\n"
   ]
  },
  {
   "cell_type": "code",
   "execution_count": 101,
   "metadata": {},
   "outputs": [
    {
     "data": {
      "image/png": "[encoded data removed]",
      "text/plain": [
       "<Figure size 1008x648 with 2 Axes>"
      ]
     },
     "metadata": {
      "needs_background": "light"
     },
     "output_type": "display_data"
    }
   ],
   "source": [
    "#with volume data on a secondary axis\n",
    "fig, ax1 = plt.subplots(nrows=1, ncols=1, figsize=(14, 9))\n",
    "ax1.plot(df['AdjHigh'], linewidth=0.5, label='Adjusted High')\n",
    "ax1.plot(df['AdjLow'], linewidth=0.5, label='Adjusted Low')\n",
    "ax1.plot(df['AdjClose'], linewidth=0.5, label='Adjusted Close')\n",
    "ax1.grid(True)\n",
    "ax1.legend()\n",
    "ax2=ax1.twinx() # plots the specified dataset using the second axis (right)\n",
    "ax2.plot(df['AdjVolume'], linewidth=1, label='Volume')\n",
    "ax2.legend()\n",
    "plt.show()"
   ]
  },
  {
   "cell_type": "markdown",
   "metadata": {},
   "source": [
    "### Strategy # 1: The Modified Faber Strategy\n",
    "\n",
    "One of the most downloaded papers on the SSRN portal is [A Quantitative Approach to Tactical Asset Allocation](https://papers.ssrn.com/sol3/papers.cfm?abstract_id=962461) by Meb Faber. We shall refer to this approach as the 'Faber strategy'.\n",
    "\n",
    "We modify the Faber strategy to demonstrate a somewhat simplified version of the same.\n",
    "\n",
    "This is a long only strategy\n",
    "\n",
    "We shall compute the 200-day Simple Moving Average (henceforth referred to as 'SMA200' or '10-month SMA') and compare it with the Close prices each day. There are two conditions which we shall check each day.\n",
    "\n",
    "1. If the price is greater than the SMA200, we will buy one Microsoft stock. We shall then continue to stay invested until the Close price dips below SMA200.\n",
    "\n",
    "2. When this happens, we will sell our MSFT stock and stay out of the market until our first condition is again satisfied.\n",
    "\n",
    "Our trading rules can be stated as\n",
    "\n",
    "* Buy when Price > 10-month SMA (since there are approx. 200 trading days in 10 months) and have no open position (cash on hand !=0)\n",
    "* Sell and move to Cash when Price < 10-month SMA and have open position (cash on hand=0)\n",
    "\n",
    "\n",
    "\n"
   ]
  },
  {
   "cell_type": "markdown",
   "metadata": {},
   "source": [
    "```python\n",
    "df1 = df.copy()\n",
    "df2 = df.copy()\n",
    "df3 = df.copy()\n",
    "```"
   ]
  },
  {
   "cell_type": "code",
   "execution_count": 114,
   "metadata": {},
   "outputs": [],
   "source": [
    "# get the data that we need in our dataframe df that contains MSFT, and work on copies only. Keep the original intact.\n",
    "df1 = df.copy()\n",
    "df2 = df.copy()\n",
    "df3 = df.copy()"
   ]
  },
  {
   "cell_type": "markdown",
   "metadata": {},
   "source": [
    "Here i create 2 flags (booleans), one is cash, the other is stock. I have only one or the other. At the beginning i have cash but no stock. Once im in a position, I have no cash but I have stock. \n",
    "\n",
    "```python\n",
    "buyPrice = 0\n",
    "sellPrice = 0\n",
    "maWealth = 1.0 #moving average \n",
    "cash = 1 \n",
    "stock = 0\n",
    "sma = 200\n",
    "\n",
    "ma = np.round(df1['AdjClose'].rolling(window=sma, center=False).mean(), 2) # create a series for moving average\n",
    "n_days = len(df1['AdjClose'])\n",
    "\n",
    "# ma.iloc[sma-2:205]\n",
    "```"
   ]
  },
  {
   "cell_type": "code",
   "execution_count": 109,
   "metadata": {},
   "outputs": [],
   "source": [
    "buyPrice = 0\n",
    "sellPrice = 0\n",
    "maWealth = 1.0 # this is basically our equity, which we track as a % change in our wealth\n",
    "cash = 1 \n",
    "stock = 0\n",
    "sma = 200\n",
    "\n",
    "ma = np.round(df1['AdjClose'].rolling(window=sma, center=False).mean(), 2) # create a series for moving average\n",
    "n_days = len(df1['AdjClose'])\n",
    "\n"
   ]
  },
  {
   "cell_type": "code",
   "execution_count": 110,
   "metadata": {},
   "outputs": [
    {
     "data": {
      "text/plain": [
       "2341"
      ]
     },
     "execution_count": 110,
     "metadata": {},
     "output_type": "execute_result"
    }
   ],
   "source": [
    "n_days"
   ]
  },
  {
   "cell_type": "code",
   "execution_count": 120,
   "metadata": {},
   "outputs": [
    {
     "name": "stdout",
     "output_type": "stream",
     "text": [
      "Date\n",
      "2008-12-05   NaN\n",
      "2008-12-08   NaN\n",
      "2008-12-09   NaN\n",
      "2008-12-10   NaN\n",
      "2008-12-11   NaN\n",
      "Name: AdjClose, dtype: float64 \n",
      "\n",
      "Date\n",
      "2018-03-21    80.36\n",
      "2018-03-22    80.45\n",
      "2018-03-23    80.53\n",
      "2018-03-26    80.64\n",
      "2018-03-27    80.73\n",
      "Name: AdjClose, dtype: float64\n"
     ]
    }
   ],
   "source": [
    "print(ma.head(), \"\\n\") # Since it s a 200 SMA, we will have NaN for the first 199 dates\n",
    "print(ma.tail()) "
   ]
  },
  {
   "cell_type": "code",
   "execution_count": 122,
   "metadata": {},
   "outputs": [
    {
     "data": {
      "text/plain": [
       "Date\n",
       "2009-09-21      NaN\n",
       "2009-09-22    16.66\n",
       "2009-09-23    16.68\n",
       "2009-09-24    16.71\n",
       "2009-09-25    16.73\n",
       "2009-09-28    16.75\n",
       "2009-09-29    16.78\n",
       "Name: AdjClose, dtype: float64"
      ]
     },
     "execution_count": 122,
     "metadata": {},
     "output_type": "execute_result"
    }
   ],
   "source": [
    "ma.iloc[sma-2:205] # Here is the date where the SMA yields a non-NaN value"
   ]
  },
  {
   "cell_type": "markdown",
   "metadata": {},
   "source": [
    "```python\n",
    "\n",
    "closePrices = df1['AdjClose']\n",
    "# initialize lists. \n",
    "buy_data = [] #Captures all my buy prices \n",
    "sell_data = [] #Captures all my sell prices\n",
    "\n",
    "trade_price = [] #Captures all my buy and sell prices\n",
    "\n",
    "wealth = [] # this is the equity curve\n",
    "\n",
    "for d in range(sma-1, n_days): # no need to run thru the first 199 days since they are NaN. We stop the loop on the day bedore the end, since the last action can only be taken the day after the signal (range goes up to n-1). If at the end of the backtest we sit on cash, no problem. If we are in a long position, P&l for this trade wont be computed because that line in in the sell rule block. If len(wealth) is an odd number, we know we end the backtest long MSFT\n",
    "    \n",
    "    # Buy if stock price > MA & if not bought yet\n",
    "    if closePrices[d] > ma[d] and cash == 1:\n",
    "        buyPrice = closePrices[d + 1] # buy the next day, otherwise that's be a look ahead bias\n",
    "        buy_data.append(buyPrice)\n",
    "        trade_price.append(buyPrice)\n",
    "        cash = 0\n",
    "        stock = 1\n",
    "        \n",
    "    # Sell if stock price < MA and if you have a stock to sell\n",
    "    \n",
    "    if closePrices[d] < ma[d] and stock == 1:\n",
    "        sellPrice = closePrices[d + 1]\n",
    "        sell_data.append(sellPrice)\n",
    "        trade_price.append(sellPrice)\n",
    "        cash = 1\n",
    "        stock = 0\n",
    "        maWealth = maWealth * (sellPrice / buyPrice) # we update the P&L once we sell. \n",
    "        wealth.append(maWealth)\n",
    "\n",
    "tp = pd.DataFrame(trade_price)\n",
    "wealth.insert(0, 1)\n",
    "w = pd.DataFrame(wealth)\n",
    "plt.plot(w)\n",
    "```"
   ]
  },
  {
   "cell_type": "code",
   "execution_count": 124,
   "metadata": {},
   "outputs": [],
   "source": [
    "closePrices = df1['AdjClose']\n",
    "# initialize lists. \n",
    "buy_data = [] #Captures all my buy prices \n",
    "sell_data = [] #Captures all my sell prices\n",
    "\n",
    "trade_price = [] #Captures all my buy and sell prices\n",
    "\n",
    "wealth = [] # this is the equity curve\n",
    "\n",
    "for d in range(sma-1, n_days): # no need to run thru the first 199 days since they are NaN. We stop the loop on the day bedore the end, since the last action can only be taken the day after the signal (range goes up to n-1). If at the end of the backtest we sit on cash, no problem. If we are in a long position, P&l for this trade wont be computed because that line in in the sell rule block. If len(wealth) is an odd number, we know we end the backtest long MSFT\n",
    "    \n",
    "    # Buy if stock price > MA & if not bought yet\n",
    "    if closePrices[d] > ma[d] and cash == 1:\n",
    "        buyPrice = closePrices[d + 1] # buy the next day, otherwise that's be a look ahead bias\n",
    "        buy_data.append(buyPrice)\n",
    "        trade_price.append(buyPrice)\n",
    "        cash = 0\n",
    "        stock = 1\n",
    "        \n",
    "    # Sell if stock price < MA and if you have a stock to sell\n",
    "    \n",
    "    if closePrices[d] < ma[d] and stock == 1:\n",
    "        sellPrice = closePrices[d + 1]\n",
    "        sell_data.append(sellPrice)\n",
    "        trade_price.append(sellPrice)\n",
    "        cash = 1\n",
    "        stock = 0\n",
    "        maWealth = maWealth * (sellPrice / buyPrice) # we update the P&L once we sell. \n",
    "        wealth.append(maWealth)"
   ]
  },
  {
   "cell_type": "code",
   "execution_count": 128,
   "metadata": {},
   "outputs": [],
   "source": [
    "wealth.insert(0, 1) #insert 1 in position 0, since we started with weath of 1"
   ]
  },
  {
   "cell_type": "code",
   "execution_count": 133,
   "metadata": {},
   "outputs": [
    {
     "data": {
      "text/plain": [
       "[<matplotlib.lines.Line2D at 0x2088b852ac8>]"
      ]
     },
     "execution_count": 133,
     "metadata": {},
     "output_type": "execute_result"
    },
    {
     "data": {
      "image/png": "[encoded data removed]",
      "text/plain": [
       "<Figure size 432x288 with 1 Axes>"
      ]
     },
     "metadata": {
      "needs_background": "light"
     },
     "output_type": "display_data"
    }
   ],
   "source": [
    "w = pd.DataFrame(wealth) # convert python list into pandas dataframe to use the .plot wrapper\n",
    "plt.plot(w)\n"
   ]
  },
  {
   "cell_type": "code",
   "execution_count": 131,
   "metadata": {},
   "outputs": [
    {
     "data": {
      "text/plain": [
       "[<matplotlib.lines.Line2D at 0x2088b7f5a20>]"
      ]
     },
     "execution_count": 131,
     "metadata": {},
     "output_type": "execute_result"
    },
    {
     "data": {
      "image/png": "[encoded data removed]",
      "text/plain": [
       "<Figure size 432x288 with 1 Axes>"
      ]
     },
     "metadata": {
      "needs_background": "light"
     },
     "output_type": "display_data"
    }
   ],
   "source": [
    "tp = pd.DataFrame(trade_price) # not so informative since no distinction between buy and sell signals\n",
    "plt.plot(tp)"
   ]
  },
  {
   "cell_type": "markdown",
   "metadata": {},
   "source": [
    "Plotting the 10-month SMA and the Close prices\n",
    "\n",
    "```python\n",
    "\n",
    "df1['SMA200'] = ma\n",
    "\n",
    "plt.figure(figsize=(14, 9))\n",
    "plt.plot(df1['AdjClose'], linewidth=0.5, label='Adjusted Close')\n",
    "plt.plot(df1['SMA200'], linewidth=0.5, label='200-day Moving Average')\n",
    "plt.grid(True)\n",
    "plt.title('Microsoft Stock Price History')\n",
    "plt.xlabel('Time')\n",
    "plt.ylabel('Price')\n",
    "#plt.axis('tight')\n",
    "#plt.tight_layout()\n",
    "plt.legend()\n",
    "plt.show()\n",
    "# %matplotlib inline\n",
    "# %matplotlib qt\n",
    "```\n"
   ]
  },
  {
   "cell_type": "code",
   "execution_count": 134,
   "metadata": {},
   "outputs": [
    {
     "data": {
      "image/png": "[encoded data removed]",
      "text/plain": [
       "<Figure size 1008x648 with 1 Axes>"
      ]
     },
     "metadata": {
      "needs_background": "light"
     },
     "output_type": "display_data"
    }
   ],
   "source": [
    "df1['SMA200'] = ma\n",
    "\n",
    "plt.figure(figsize=(14, 9))\n",
    "plt.plot(df1['AdjClose'], linewidth=0.5, label='Adjusted Close')\n",
    "plt.plot(df1['SMA200'], linewidth=0.5, label='200-day Moving Average')\n",
    "plt.grid(True)\n",
    "plt.title('Microsoft Stock Price History')\n",
    "plt.xlabel('Time')\n",
    "plt.ylabel('Price')\n",
    "#plt.axis('tight')\n",
    "#plt.tight_layout()\n",
    "plt.legend()\n",
    "plt.show()\n",
    "# %matplotlib inline\n",
    "# %matplotlib qt"
   ]
  },
  {
   "cell_type": "markdown",
   "metadata": {},
   "source": [
    "### Strategy # 2: The Moving Average Crossover Strategy\n",
    "\n",
    "This is a well-known trading technique and considered to be the 'Hello World' of algorithmic/quantitative trading. It's essentially a way to take advantage of the momentum or trend in stock price movements.\n",
    "\n",
    "\n",
    "Here we always have a position on. We re either long or short\n",
    "\n",
    "We shall have two SMA filters viz. the shorter lookback period SMA (henceforth referred to as  'SMA50') and the longer lookback period SMA (henceforth referred to as 'SMA150'). We will go long on Microsoft *at the first instance* (IE, THE CROSS OVER POINT) when the SMA50 exceeds the SMA150. Similarly, we will go short on Microsoft, *at the first instance* when the SMA150 exceeds the SMA50. This strategy can work well when the price movements of the asset trend in a particular direction (upwards or downwards) persistently before slowly reversing their drift.\n",
    "\n",
    "Our trading rules can be stated as\n",
    "\n",
    "* Go long when SMA50 > SMA150 on a given day and SMA50 < SMA150 on the previous day\n",
    "* Go short when SMA50 < SMA150 on a given day and SMA50 > SMA150 on the previous day\n",
    "\n",
    "\n",
    "\n",
    "```python\n",
    "\n",
    "m = 50 # defining the shorter lookback period\n",
    "n = 150 # defining the longer lookback period\n",
    "\n",
    "df2['SMA50'] = df2['AdjClose'].rolling(window=m, center=False).mean()\n",
    "df2['SMA150'] = df2['AdjClose'].rolling(window=n, center=False).mean()\n",
    "```"
   ]
  },
  {
   "cell_type": "code",
   "execution_count": 135,
   "metadata": {},
   "outputs": [],
   "source": [
    "m = 50 # defining the shorter lookback period\n",
    "n = 150 # defining the longer lookback period\n",
    "\n",
    "df2['SMA50'] = df2['AdjClose'].rolling(window=m, center=False).mean()\n",
    "df2['SMA150'] = df2['AdjClose'].rolling(window=n, center=False).mean()"
   ]
  },
  {
   "cell_type": "code",
   "execution_count": 138,
   "metadata": {},
   "outputs": [
    {
     "data": {
      "text/html": [
       "<div>\n",
       "<style scoped>\n",
       "    .dataframe tbody tr th:only-of-type {\n",
       "        vertical-align: middle;\n",
       "    }\n",
       "\n",
       "    .dataframe tbody tr th {\n",
       "        vertical-align: top;\n",
       "    }\n",
       "\n",
       "    .dataframe thead th {\n",
       "        text-align: right;\n",
       "    }\n",
       "</style>\n",
       "<table border=\"1\" class=\"dataframe\">\n",
       "  <thead>\n",
       "    <tr style=\"text-align: right;\">\n",
       "      <th></th>\n",
       "      <th>Open</th>\n",
       "      <th>High</th>\n",
       "      <th>Low</th>\n",
       "      <th>Close</th>\n",
       "      <th>Volume</th>\n",
       "      <th>ExDividend</th>\n",
       "      <th>SplitRatio</th>\n",
       "      <th>AdjOpen</th>\n",
       "      <th>AdjHigh</th>\n",
       "      <th>AdjLow</th>\n",
       "      <th>AdjClose</th>\n",
       "      <th>AdjVolume</th>\n",
       "      <th>SMA50</th>\n",
       "      <th>SMA150</th>\n",
       "    </tr>\n",
       "    <tr>\n",
       "      <th>Date</th>\n",
       "      <th></th>\n",
       "      <th></th>\n",
       "      <th></th>\n",
       "      <th></th>\n",
       "      <th></th>\n",
       "      <th></th>\n",
       "      <th></th>\n",
       "      <th></th>\n",
       "      <th></th>\n",
       "      <th></th>\n",
       "      <th></th>\n",
       "      <th></th>\n",
       "      <th></th>\n",
       "      <th></th>\n",
       "    </tr>\n",
       "  </thead>\n",
       "  <tbody>\n",
       "    <tr>\n",
       "      <th>2008-12-05</th>\n",
       "      <td>18.91</td>\n",
       "      <td>19.98</td>\n",
       "      <td>18.47</td>\n",
       "      <td>19.87</td>\n",
       "      <td>91996200.0</td>\n",
       "      <td>0.0</td>\n",
       "      <td>1.0</td>\n",
       "      <td>15.013516</td>\n",
       "      <td>15.863038</td>\n",
       "      <td>14.664180</td>\n",
       "      <td>15.775704</td>\n",
       "      <td>91996200.0</td>\n",
       "      <td>NaN</td>\n",
       "      <td>NaN</td>\n",
       "    </tr>\n",
       "    <tr>\n",
       "      <th>2008-12-08</th>\n",
       "      <td>20.35</td>\n",
       "      <td>21.25</td>\n",
       "      <td>20.14</td>\n",
       "      <td>21.01</td>\n",
       "      <td>107225000.0</td>\n",
       "      <td>0.0</td>\n",
       "      <td>1.0</td>\n",
       "      <td>16.156798</td>\n",
       "      <td>16.871349</td>\n",
       "      <td>15.990069</td>\n",
       "      <td>16.680802</td>\n",
       "      <td>107225000.0</td>\n",
       "      <td>NaN</td>\n",
       "      <td>NaN</td>\n",
       "    </tr>\n",
       "    <tr>\n",
       "      <th>2008-12-09</th>\n",
       "      <td>20.62</td>\n",
       "      <td>21.25</td>\n",
       "      <td>20.46</td>\n",
       "      <td>20.60</td>\n",
       "      <td>80484900.0</td>\n",
       "      <td>0.0</td>\n",
       "      <td>1.0</td>\n",
       "      <td>16.371163</td>\n",
       "      <td>16.871349</td>\n",
       "      <td>16.244132</td>\n",
       "      <td>16.355284</td>\n",
       "      <td>80484900.0</td>\n",
       "      <td>NaN</td>\n",
       "      <td>NaN</td>\n",
       "    </tr>\n",
       "    <tr>\n",
       "      <th>2008-12-10</th>\n",
       "      <td>20.82</td>\n",
       "      <td>20.96</td>\n",
       "      <td>20.30</td>\n",
       "      <td>20.61</td>\n",
       "      <td>61499000.0</td>\n",
       "      <td>0.0</td>\n",
       "      <td>1.0</td>\n",
       "      <td>16.529952</td>\n",
       "      <td>16.641105</td>\n",
       "      <td>16.117101</td>\n",
       "      <td>16.363224</td>\n",
       "      <td>61499000.0</td>\n",
       "      <td>NaN</td>\n",
       "      <td>NaN</td>\n",
       "    </tr>\n",
       "    <tr>\n",
       "      <th>2008-12-11</th>\n",
       "      <td>20.11</td>\n",
       "      <td>20.12</td>\n",
       "      <td>19.31</td>\n",
       "      <td>19.45</td>\n",
       "      <td>83564300.0</td>\n",
       "      <td>0.0</td>\n",
       "      <td>1.0</td>\n",
       "      <td>15.966251</td>\n",
       "      <td>15.974190</td>\n",
       "      <td>15.331094</td>\n",
       "      <td>15.442247</td>\n",
       "      <td>83564300.0</td>\n",
       "      <td>NaN</td>\n",
       "      <td>NaN</td>\n",
       "    </tr>\n",
       "  </tbody>\n",
       "</table>\n",
       "</div>"
      ],
      "text/plain": [
       "             Open   High    Low  Close       Volume  ExDividend  SplitRatio  \\\n",
       "Date                                                                          \n",
       "2008-12-05  18.91  19.98  18.47  19.87   91996200.0         0.0         1.0   \n",
       "2008-12-08  20.35  21.25  20.14  21.01  107225000.0         0.0         1.0   \n",
       "2008-12-09  20.62  21.25  20.46  20.60   80484900.0         0.0         1.0   \n",
       "2008-12-10  20.82  20.96  20.30  20.61   61499000.0         0.0         1.0   \n",
       "2008-12-11  20.11  20.12  19.31  19.45   83564300.0         0.0         1.0   \n",
       "\n",
       "              AdjOpen    AdjHigh     AdjLow   AdjClose    AdjVolume  SMA50  \\\n",
       "Date                                                                         \n",
       "2008-12-05  15.013516  15.863038  14.664180  15.775704   91996200.0    NaN   \n",
       "2008-12-08  16.156798  16.871349  15.990069  16.680802  107225000.0    NaN   \n",
       "2008-12-09  16.371163  16.871349  16.244132  16.355284   80484900.0    NaN   \n",
       "2008-12-10  16.529952  16.641105  16.117101  16.363224   61499000.0    NaN   \n",
       "2008-12-11  15.966251  15.974190  15.331094  15.442247   83564300.0    NaN   \n",
       "\n",
       "            SMA150  \n",
       "Date                \n",
       "2008-12-05     NaN  \n",
       "2008-12-08     NaN  \n",
       "2008-12-09     NaN  \n",
       "2008-12-10     NaN  \n",
       "2008-12-11     NaN  "
      ]
     },
     "execution_count": 138,
     "metadata": {},
     "output_type": "execute_result"
    }
   ],
   "source": [
    "df2.head()"
   ]
  },
  {
   "cell_type": "markdown",
   "metadata": {},
   "source": [
    "We'll now plot the key variables and see how they look.\n",
    "```python\n",
    "\n",
    "df2[['AdjClose', 'SMA50', 'SMA150']].plot(grid=True, linewidth=0.5)\n",
    "```"
   ]
  },
  {
   "cell_type": "code",
   "execution_count": 136,
   "metadata": {},
   "outputs": [
    {
     "data": {
      "text/plain": [
       "<matplotlib.axes._subplots.AxesSubplot at 0x2088b88aef0>"
      ]
     },
     "execution_count": 136,
     "metadata": {},
     "output_type": "execute_result"
    },
    {
     "data": {
      "image/png": "[encoded data removed]",
      "text/plain": [
       "<Figure size 432x288 with 1 Axes>"
      ]
     },
     "metadata": {
      "needs_background": "light"
     },
     "output_type": "display_data"
    }
   ],
   "source": [
    "df2[['AdjClose', 'SMA50', 'SMA150']].plot(grid=True, linewidth=0.5)"
   ]
  },
  {
   "cell_type": "code",
   "execution_count": 140,
   "metadata": {},
   "outputs": [],
   "source": [
    "df2.drop(['Open', 'High', 'Low', 'Close', 'Volume', 'ExDividend'], axis=1, inplace=True)"
   ]
  },
  {
   "cell_type": "code",
   "execution_count": 142,
   "metadata": {},
   "outputs": [],
   "source": [
    "\n",
    "df2['SMA50_2'] = df2['AdjClose'].rolling(window=m, center=False).mean().shift(1)\n",
    "df2['SMA150_2'] = df2['AdjClose'].rolling(window=n, center=False).mean().shift(1)"
   ]
  },
  {
   "cell_type": "code",
   "execution_count": 144,
   "metadata": {},
   "outputs": [
    {
     "data": {
      "text/html": [
       "<div>\n",
       "<style scoped>\n",
       "    .dataframe tbody tr th:only-of-type {\n",
       "        vertical-align: middle;\n",
       "    }\n",
       "\n",
       "    .dataframe tbody tr th {\n",
       "        vertical-align: top;\n",
       "    }\n",
       "\n",
       "    .dataframe thead th {\n",
       "        text-align: right;\n",
       "    }\n",
       "</style>\n",
       "<table border=\"1\" class=\"dataframe\">\n",
       "  <thead>\n",
       "    <tr style=\"text-align: right;\">\n",
       "      <th></th>\n",
       "      <th>SplitRatio</th>\n",
       "      <th>AdjOpen</th>\n",
       "      <th>AdjHigh</th>\n",
       "      <th>AdjLow</th>\n",
       "      <th>AdjClose</th>\n",
       "      <th>AdjVolume</th>\n",
       "      <th>SMA50</th>\n",
       "      <th>SMA150</th>\n",
       "      <th>SMA50_2</th>\n",
       "      <th>SMA150_2</th>\n",
       "    </tr>\n",
       "    <tr>\n",
       "      <th>Date</th>\n",
       "      <th></th>\n",
       "      <th></th>\n",
       "      <th></th>\n",
       "      <th></th>\n",
       "      <th></th>\n",
       "      <th></th>\n",
       "      <th></th>\n",
       "      <th></th>\n",
       "      <th></th>\n",
       "      <th></th>\n",
       "    </tr>\n",
       "  </thead>\n",
       "  <tbody>\n",
       "    <tr>\n",
       "      <th>2018-03-21</th>\n",
       "      <td>1.0</td>\n",
       "      <td>92.930</td>\n",
       "      <td>94.050</td>\n",
       "      <td>92.21</td>\n",
       "      <td>92.48</td>\n",
       "      <td>23753263.0</td>\n",
       "      <td>92.0506</td>\n",
       "      <td>83.559304</td>\n",
       "      <td>91.9666</td>\n",
       "      <td>83.428314</td>\n",
       "    </tr>\n",
       "    <tr>\n",
       "      <th>2018-03-22</th>\n",
       "      <td>1.0</td>\n",
       "      <td>91.265</td>\n",
       "      <td>91.750</td>\n",
       "      <td>89.66</td>\n",
       "      <td>89.79</td>\n",
       "      <td>37578166.0</td>\n",
       "      <td>92.0820</td>\n",
       "      <td>83.672229</td>\n",
       "      <td>92.0506</td>\n",
       "      <td>83.559304</td>\n",
       "    </tr>\n",
       "    <tr>\n",
       "      <th>2018-03-23</th>\n",
       "      <td>1.0</td>\n",
       "      <td>89.500</td>\n",
       "      <td>90.460</td>\n",
       "      <td>87.08</td>\n",
       "      <td>87.18</td>\n",
       "      <td>42159397.0</td>\n",
       "      <td>92.0692</td>\n",
       "      <td>83.764902</td>\n",
       "      <td>92.0820</td>\n",
       "      <td>83.672229</td>\n",
       "    </tr>\n",
       "    <tr>\n",
       "      <th>2018-03-26</th>\n",
       "      <td>1.0</td>\n",
       "      <td>90.610</td>\n",
       "      <td>94.000</td>\n",
       "      <td>90.40</td>\n",
       "      <td>93.78</td>\n",
       "      <td>55031149.0</td>\n",
       "      <td>92.1832</td>\n",
       "      <td>83.909866</td>\n",
       "      <td>92.0692</td>\n",
       "      <td>83.764902</td>\n",
       "    </tr>\n",
       "    <tr>\n",
       "      <th>2018-03-27</th>\n",
       "      <td>1.0</td>\n",
       "      <td>94.940</td>\n",
       "      <td>95.139</td>\n",
       "      <td>88.51</td>\n",
       "      <td>89.47</td>\n",
       "      <td>53704562.0</td>\n",
       "      <td>92.1810</td>\n",
       "      <td>84.025499</td>\n",
       "      <td>92.1832</td>\n",
       "      <td>83.909866</td>\n",
       "    </tr>\n",
       "  </tbody>\n",
       "</table>\n",
       "</div>"
      ],
      "text/plain": [
       "            SplitRatio  AdjOpen  AdjHigh  AdjLow  AdjClose   AdjVolume  \\\n",
       "Date                                                                     \n",
       "2018-03-21         1.0   92.930   94.050   92.21     92.48  23753263.0   \n",
       "2018-03-22         1.0   91.265   91.750   89.66     89.79  37578166.0   \n",
       "2018-03-23         1.0   89.500   90.460   87.08     87.18  42159397.0   \n",
       "2018-03-26         1.0   90.610   94.000   90.40     93.78  55031149.0   \n",
       "2018-03-27         1.0   94.940   95.139   88.51     89.47  53704562.0   \n",
       "\n",
       "              SMA50     SMA150  SMA50_2   SMA150_2  \n",
       "Date                                                \n",
       "2018-03-21  92.0506  83.559304  91.9666  83.428314  \n",
       "2018-03-22  92.0820  83.672229  92.0506  83.559304  \n",
       "2018-03-23  92.0692  83.764902  92.0820  83.672229  \n",
       "2018-03-26  92.1832  83.909866  92.0692  83.764902  \n",
       "2018-03-27  92.1810  84.025499  92.1832  83.909866  "
      ]
     },
     "execution_count": 144,
     "metadata": {},
     "output_type": "execute_result"
    }
   ],
   "source": [
    "df2.tail()"
   ]
  },
  {
   "cell_type": "markdown",
   "metadata": {},
   "source": [
    "We've now computed all of what we need to generate trading signals. Let's go ahead and now do that. Use NP.WHERE which returns the index numbers where the condition is true. This will be an array like false, true, false, etc. If I add 1, 0 after the condition in the arguments of .where, it will return 1 if true, 0 if false"
   ]
  },
  {
   "cell_type": "markdown",
   "metadata": {},
   "source": [
    "```python\n",
    "df2['Signal'] = np.where((df2['SMA50'] > df2['SMA150']) \n",
    "                        & (df2['SMA50_2'] < df2['SMA150_2']), 1, 0)\n",
    "df2['Signal'] = np.where((df2['SMA50'] < df2['SMA150']) \n",
    "                        & (df2['SMA50_2'] > df2['SMA150_2']), -1, df2['Signal'])\n",
    "```"
   ]
  },
  {
   "cell_type": "code",
   "execution_count": 152,
   "metadata": {},
   "outputs": [],
   "source": [
    "df2['Signal'] = np.where((df2['SMA50'] > df2['SMA150']) \n",
    "                        & (df2['SMA50_2'] < df2['SMA150_2']), 1, 0) # looking for long signal where the output will be 1\n",
    "df2['Signal'] = np.where((df2['SMA50'] < df2['SMA150']) \n",
    "                        & (df2['SMA50_2'] > df2['SMA150_2']), -1, df2['Signal']) # then overwrite 0s or 1s with -1 when short signal\n"
   ]
  },
  {
   "cell_type": "code",
   "execution_count": 150,
   "metadata": {},
   "outputs": [
    {
     "data": {
      "text/html": [
       "<div>\n",
       "<style scoped>\n",
       "    .dataframe tbody tr th:only-of-type {\n",
       "        vertical-align: middle;\n",
       "    }\n",
       "\n",
       "    .dataframe tbody tr th {\n",
       "        vertical-align: top;\n",
       "    }\n",
       "\n",
       "    .dataframe thead th {\n",
       "        text-align: right;\n",
       "    }\n",
       "</style>\n",
       "<table border=\"1\" class=\"dataframe\">\n",
       "  <thead>\n",
       "    <tr style=\"text-align: right;\">\n",
       "      <th></th>\n",
       "      <th>SplitRatio</th>\n",
       "      <th>AdjOpen</th>\n",
       "      <th>AdjHigh</th>\n",
       "      <th>AdjLow</th>\n",
       "      <th>AdjClose</th>\n",
       "      <th>AdjVolume</th>\n",
       "      <th>SMA50</th>\n",
       "      <th>SMA150</th>\n",
       "      <th>SMA50_2</th>\n",
       "      <th>SMA150_2</th>\n",
       "      <th>Signal</th>\n",
       "    </tr>\n",
       "    <tr>\n",
       "      <th>Date</th>\n",
       "      <th></th>\n",
       "      <th></th>\n",
       "      <th></th>\n",
       "      <th></th>\n",
       "      <th></th>\n",
       "      <th></th>\n",
       "      <th></th>\n",
       "      <th></th>\n",
       "      <th></th>\n",
       "      <th></th>\n",
       "      <th></th>\n",
       "    </tr>\n",
       "  </thead>\n",
       "  <tbody>\n",
       "    <tr>\n",
       "      <th>2018-03-21</th>\n",
       "      <td>1.0</td>\n",
       "      <td>92.930</td>\n",
       "      <td>94.050</td>\n",
       "      <td>92.21</td>\n",
       "      <td>92.48</td>\n",
       "      <td>23753263.0</td>\n",
       "      <td>92.0506</td>\n",
       "      <td>83.559304</td>\n",
       "      <td>91.9666</td>\n",
       "      <td>83.428314</td>\n",
       "      <td>0</td>\n",
       "    </tr>\n",
       "    <tr>\n",
       "      <th>2018-03-22</th>\n",
       "      <td>1.0</td>\n",
       "      <td>91.265</td>\n",
       "      <td>91.750</td>\n",
       "      <td>89.66</td>\n",
       "      <td>89.79</td>\n",
       "      <td>37578166.0</td>\n",
       "      <td>92.0820</td>\n",
       "      <td>83.672229</td>\n",
       "      <td>92.0506</td>\n",
       "      <td>83.559304</td>\n",
       "      <td>0</td>\n",
       "    </tr>\n",
       "    <tr>\n",
       "      <th>2018-03-23</th>\n",
       "      <td>1.0</td>\n",
       "      <td>89.500</td>\n",
       "      <td>90.460</td>\n",
       "      <td>87.08</td>\n",
       "      <td>87.18</td>\n",
       "      <td>42159397.0</td>\n",
       "      <td>92.0692</td>\n",
       "      <td>83.764902</td>\n",
       "      <td>92.0820</td>\n",
       "      <td>83.672229</td>\n",
       "      <td>0</td>\n",
       "    </tr>\n",
       "    <tr>\n",
       "      <th>2018-03-26</th>\n",
       "      <td>1.0</td>\n",
       "      <td>90.610</td>\n",
       "      <td>94.000</td>\n",
       "      <td>90.40</td>\n",
       "      <td>93.78</td>\n",
       "      <td>55031149.0</td>\n",
       "      <td>92.1832</td>\n",
       "      <td>83.909866</td>\n",
       "      <td>92.0692</td>\n",
       "      <td>83.764902</td>\n",
       "      <td>0</td>\n",
       "    </tr>\n",
       "    <tr>\n",
       "      <th>2018-03-27</th>\n",
       "      <td>1.0</td>\n",
       "      <td>94.940</td>\n",
       "      <td>95.139</td>\n",
       "      <td>88.51</td>\n",
       "      <td>89.47</td>\n",
       "      <td>53704562.0</td>\n",
       "      <td>92.1810</td>\n",
       "      <td>84.025499</td>\n",
       "      <td>92.1832</td>\n",
       "      <td>83.909866</td>\n",
       "      <td>0</td>\n",
       "    </tr>\n",
       "  </tbody>\n",
       "</table>\n",
       "</div>"
      ],
      "text/plain": [
       "            SplitRatio  AdjOpen  AdjHigh  AdjLow  AdjClose   AdjVolume  \\\n",
       "Date                                                                     \n",
       "2018-03-21         1.0   92.930   94.050   92.21     92.48  23753263.0   \n",
       "2018-03-22         1.0   91.265   91.750   89.66     89.79  37578166.0   \n",
       "2018-03-23         1.0   89.500   90.460   87.08     87.18  42159397.0   \n",
       "2018-03-26         1.0   90.610   94.000   90.40     93.78  55031149.0   \n",
       "2018-03-27         1.0   94.940   95.139   88.51     89.47  53704562.0   \n",
       "\n",
       "              SMA50     SMA150  SMA50_2   SMA150_2  Signal  \n",
       "Date                                                        \n",
       "2018-03-21  92.0506  83.559304  91.9666  83.428314       0  \n",
       "2018-03-22  92.0820  83.672229  92.0506  83.559304       0  \n",
       "2018-03-23  92.0692  83.764902  92.0820  83.672229       0  \n",
       "2018-03-26  92.1832  83.909866  92.0692  83.764902       0  \n",
       "2018-03-27  92.1810  84.025499  92.1832  83.909866       0  "
      ]
     },
     "execution_count": 150,
     "metadata": {},
     "output_type": "execute_result"
    }
   ],
   "source": [
    "df2.tail()"
   ]
  },
  {
   "cell_type": "code",
   "execution_count": 153,
   "metadata": {},
   "outputs": [
    {
     "data": {
      "text/html": [
       "<div>\n",
       "<style scoped>\n",
       "    .dataframe tbody tr th:only-of-type {\n",
       "        vertical-align: middle;\n",
       "    }\n",
       "\n",
       "    .dataframe tbody tr th {\n",
       "        vertical-align: top;\n",
       "    }\n",
       "\n",
       "    .dataframe thead th {\n",
       "        text-align: right;\n",
       "    }\n",
       "</style>\n",
       "<table border=\"1\" class=\"dataframe\">\n",
       "  <thead>\n",
       "    <tr style=\"text-align: right;\">\n",
       "      <th></th>\n",
       "      <th>SplitRatio</th>\n",
       "      <th>AdjOpen</th>\n",
       "      <th>AdjHigh</th>\n",
       "      <th>AdjLow</th>\n",
       "      <th>AdjClose</th>\n",
       "      <th>AdjVolume</th>\n",
       "      <th>SMA50</th>\n",
       "      <th>SMA150</th>\n",
       "      <th>SMA50_2</th>\n",
       "      <th>SMA150_2</th>\n",
       "      <th>Signal</th>\n",
       "      <th>Buy</th>\n",
       "      <th>Sell</th>\n",
       "      <th>TP</th>\n",
       "      <th>Position</th>\n",
       "    </tr>\n",
       "    <tr>\n",
       "      <th>Date</th>\n",
       "      <th></th>\n",
       "      <th></th>\n",
       "      <th></th>\n",
       "      <th></th>\n",
       "      <th></th>\n",
       "      <th></th>\n",
       "      <th></th>\n",
       "      <th></th>\n",
       "      <th></th>\n",
       "      <th></th>\n",
       "      <th></th>\n",
       "      <th></th>\n",
       "      <th></th>\n",
       "      <th></th>\n",
       "      <th></th>\n",
       "    </tr>\n",
       "  </thead>\n",
       "  <tbody>\n",
       "    <tr>\n",
       "      <th>2018-03-21</th>\n",
       "      <td>1.0</td>\n",
       "      <td>92.930</td>\n",
       "      <td>94.050</td>\n",
       "      <td>92.21</td>\n",
       "      <td>92.48</td>\n",
       "      <td>23753263.0</td>\n",
       "      <td>92.0506</td>\n",
       "      <td>83.559304</td>\n",
       "      <td>91.9666</td>\n",
       "      <td>83.428314</td>\n",
       "      <td>0</td>\n",
       "      <td>0.0</td>\n",
       "      <td>0.0</td>\n",
       "      <td>54.739459</td>\n",
       "      <td>1</td>\n",
       "    </tr>\n",
       "    <tr>\n",
       "      <th>2018-03-22</th>\n",
       "      <td>1.0</td>\n",
       "      <td>91.265</td>\n",
       "      <td>91.750</td>\n",
       "      <td>89.66</td>\n",
       "      <td>89.79</td>\n",
       "      <td>37578166.0</td>\n",
       "      <td>92.0820</td>\n",
       "      <td>83.672229</td>\n",
       "      <td>92.0506</td>\n",
       "      <td>83.559304</td>\n",
       "      <td>0</td>\n",
       "      <td>0.0</td>\n",
       "      <td>0.0</td>\n",
       "      <td>54.739459</td>\n",
       "      <td>1</td>\n",
       "    </tr>\n",
       "    <tr>\n",
       "      <th>2018-03-23</th>\n",
       "      <td>1.0</td>\n",
       "      <td>89.500</td>\n",
       "      <td>90.460</td>\n",
       "      <td>87.08</td>\n",
       "      <td>87.18</td>\n",
       "      <td>42159397.0</td>\n",
       "      <td>92.0692</td>\n",
       "      <td>83.764902</td>\n",
       "      <td>92.0820</td>\n",
       "      <td>83.672229</td>\n",
       "      <td>0</td>\n",
       "      <td>0.0</td>\n",
       "      <td>0.0</td>\n",
       "      <td>54.739459</td>\n",
       "      <td>1</td>\n",
       "    </tr>\n",
       "    <tr>\n",
       "      <th>2018-03-26</th>\n",
       "      <td>1.0</td>\n",
       "      <td>90.610</td>\n",
       "      <td>94.000</td>\n",
       "      <td>90.40</td>\n",
       "      <td>93.78</td>\n",
       "      <td>55031149.0</td>\n",
       "      <td>92.1832</td>\n",
       "      <td>83.909866</td>\n",
       "      <td>92.0692</td>\n",
       "      <td>83.764902</td>\n",
       "      <td>0</td>\n",
       "      <td>0.0</td>\n",
       "      <td>0.0</td>\n",
       "      <td>54.739459</td>\n",
       "      <td>1</td>\n",
       "    </tr>\n",
       "    <tr>\n",
       "      <th>2018-03-27</th>\n",
       "      <td>1.0</td>\n",
       "      <td>94.940</td>\n",
       "      <td>95.139</td>\n",
       "      <td>88.51</td>\n",
       "      <td>89.47</td>\n",
       "      <td>53704562.0</td>\n",
       "      <td>92.1810</td>\n",
       "      <td>84.025499</td>\n",
       "      <td>92.1832</td>\n",
       "      <td>83.909866</td>\n",
       "      <td>0</td>\n",
       "      <td>0.0</td>\n",
       "      <td>0.0</td>\n",
       "      <td>54.739459</td>\n",
       "      <td>1</td>\n",
       "    </tr>\n",
       "  </tbody>\n",
       "</table>\n",
       "</div>"
      ],
      "text/plain": [
       "            SplitRatio  AdjOpen  AdjHigh  AdjLow  AdjClose   AdjVolume  \\\n",
       "Date                                                                     \n",
       "2018-03-21         1.0   92.930   94.050   92.21     92.48  23753263.0   \n",
       "2018-03-22         1.0   91.265   91.750   89.66     89.79  37578166.0   \n",
       "2018-03-23         1.0   89.500   90.460   87.08     87.18  42159397.0   \n",
       "2018-03-26         1.0   90.610   94.000   90.40     93.78  55031149.0   \n",
       "2018-03-27         1.0   94.940   95.139   88.51     89.47  53704562.0   \n",
       "\n",
       "              SMA50     SMA150  SMA50_2   SMA150_2  Signal  Buy  Sell  \\\n",
       "Date                                                                    \n",
       "2018-03-21  92.0506  83.559304  91.9666  83.428314       0  0.0   0.0   \n",
       "2018-03-22  92.0820  83.672229  92.0506  83.559304       0  0.0   0.0   \n",
       "2018-03-23  92.0692  83.764902  92.0820  83.672229       0  0.0   0.0   \n",
       "2018-03-26  92.1832  83.909866  92.0692  83.764902       0  0.0   0.0   \n",
       "2018-03-27  92.1810  84.025499  92.1832  83.909866       0  0.0   0.0   \n",
       "\n",
       "                   TP  Position  \n",
       "Date                             \n",
       "2018-03-21  54.739459         1  \n",
       "2018-03-22  54.739459         1  \n",
       "2018-03-23  54.739459         1  \n",
       "2018-03-26  54.739459         1  \n",
       "2018-03-27  54.739459         1  "
      ]
     },
     "execution_count": 153,
     "metadata": {},
     "output_type": "execute_result"
    }
   ],
   "source": [
    "# now add columns in the dataframe to store transaction prices\n",
    "#lambda is a trow away function. we dont have to use that, we could create a normal one and call it.\n",
    "#Here lambda is looking for the buy or sell signal and picks up that transaction price, else it stores 0.\n",
    "# the axis = 1 says this is done for every row\n",
    "\n",
    "df2['Buy'] = df2.apply(lambda x : x['AdjClose'] if x['SMA50'] > x['SMA150'] \n",
    "                        and x['SMA50_2'] < x['SMA150_2'] else 0, axis=1)\n",
    "\n",
    "df2['Sell'] = df2.apply(lambda y : -y['AdjClose'] if y['SMA50'] < y['SMA150'] # notice the negative sign for short prices\n",
    "                        and y['SMA50_2'] > y['SMA150_2'] else 0, axis=1)\n",
    "\n",
    "df2['TP'] = df2['Buy'] + df2['Sell']\n",
    "df2['TP']=df2['TP'].replace(to_replace=0, method='ffill') # we combine the buy and sell prices and fill the 0s with last.\n",
    "\n",
    "df2['Position'] = df2['Signal'].replace(to_replace=0, method= 'ffill') # will be used for long/short multiplier\n",
    "df2.tail()"
   ]
  },
  {
   "cell_type": "code",
   "execution_count": 158,
   "metadata": {},
   "outputs": [
    {
     "data": {
      "text/plain": [
       " 0    2327\n",
       " 1       7\n",
       "-1       7\n",
       "Name: Signal, dtype: int64"
      ]
     },
     "execution_count": 158,
     "metadata": {},
     "output_type": "execute_result"
    }
   ],
   "source": [
    "# how many signals do we have?\n",
    "df2['Signal'].value_counts()\n",
    "# In the period, we've chosen, this is in line with what we see in k"
   ]
  },
  {
   "cell_type": "code",
   "execution_count": 162,
   "metadata": {},
   "outputs": [
    {
     "data": {
      "image/png": "[encoded data removed]",
      "text/plain": [
       "<Figure size 720x360 with 1 Axes>"
      ]
     },
     "metadata": {
      "needs_background": "light"
     },
     "output_type": "display_data"
    }
   ],
   "source": [
    "# Alternate way to plot the graph\n",
    "plt.figure(figsize=(10, 5))\n",
    "plt.plot(df2['Position'])\n",
    "plt.title(\"Signal showing buying/selling positions\")\n",
    "plt.xlabel('Time')\n",
    "plt.tight_layout()\n",
    "plt.show()"
   ]
  },
  {
   "cell_type": "code",
   "execution_count": 172,
   "metadata": {},
   "outputs": [
    {
     "data": {
      "text/plain": [
       "<matplotlib.axes._subplots.AxesSubplot at 0x2088962ca20>"
      ]
     },
     "execution_count": 172,
     "metadata": {},
     "output_type": "execute_result"
    },
    {
     "data": {
      "image/png": "[encoded data removed]",
      "text/plain": [
       "<Figure size 648x360 with 1 Axes>"
      ]
     },
     "metadata": {
      "needs_background": "light"
     },
     "output_type": "display_data"
    }
   ],
   "source": [
    "# Compute and plot the returns, throw in the buy and hold while you're at it:\n",
    "df2['Buy & Hold Returns'] = np.log(df2['AdjClose'] / df2['AdjClose'].shift(1)) #CHECK THAT LOG THING HERE. SCALING?\n",
    "df2['Strategy Returns'] = df2['Buy & Hold Returns'] * df2['Position'].shift(1)\n",
    "\n",
    "df2[['Buy & Hold Returns', 'Strategy Returns']].cumsum().plot(grid=True, figsize=(9,5))\n"
   ]
  },
  {
   "cell_type": "code",
   "execution_count": 159,
   "metadata": {
    "scrolled": true
   },
   "outputs": [
    {
     "name": "stdout",
     "output_type": "stream",
     "text": [
      "<class 'tuple'>\n",
      "[ 374  375  376 ... 2338 2339 2340]\n",
      "<class 'numpy.ndarray'>\n",
      "1967\n"
     ]
    }
   ],
   "source": [
    "#for visualization, omit all the initial days when we are not in a trade\n",
    "\n",
    "# get the index numbers of the non zero elements of TP \n",
    "#(essentially the days when we are in a trade, pretty much everyday except the beginning up to our first signal)\n",
    "\n",
    "k = df2['TP'].nonzero() \n",
    "\n",
    "print(type(k)) # this tells us k is a tuple\n",
    "print(k[0]) #this gives us a numpy array\n",
    "print(type(k[0])) #confirms that this is a numpy ndarray\n",
    "print(len(k[0])) # total number of positions"
   ]
  },
  {
   "cell_type": "code",
   "execution_count": 161,
   "metadata": {},
   "outputs": [
    {
     "data": {
      "text/html": [
       "<div>\n",
       "<style scoped>\n",
       "    .dataframe tbody tr th:only-of-type {\n",
       "        vertical-align: middle;\n",
       "    }\n",
       "\n",
       "    .dataframe tbody tr th {\n",
       "        vertical-align: top;\n",
       "    }\n",
       "\n",
       "    .dataframe thead th {\n",
       "        text-align: right;\n",
       "    }\n",
       "</style>\n",
       "<table border=\"1\" class=\"dataframe\">\n",
       "  <thead>\n",
       "    <tr style=\"text-align: right;\">\n",
       "      <th></th>\n",
       "      <th>SplitRatio</th>\n",
       "      <th>AdjOpen</th>\n",
       "      <th>AdjHigh</th>\n",
       "      <th>AdjLow</th>\n",
       "      <th>AdjClose</th>\n",
       "      <th>AdjVolume</th>\n",
       "      <th>SMA50</th>\n",
       "      <th>SMA150</th>\n",
       "      <th>SMA50_2</th>\n",
       "      <th>SMA150_2</th>\n",
       "      <th>Signal</th>\n",
       "      <th>Buy</th>\n",
       "      <th>Sell</th>\n",
       "      <th>TP</th>\n",
       "      <th>Position</th>\n",
       "    </tr>\n",
       "    <tr>\n",
       "      <th>Date</th>\n",
       "      <th></th>\n",
       "      <th></th>\n",
       "      <th></th>\n",
       "      <th></th>\n",
       "      <th></th>\n",
       "      <th></th>\n",
       "      <th></th>\n",
       "      <th></th>\n",
       "      <th></th>\n",
       "      <th></th>\n",
       "      <th></th>\n",
       "      <th></th>\n",
       "      <th></th>\n",
       "      <th></th>\n",
       "      <th></th>\n",
       "    </tr>\n",
       "  </thead>\n",
       "  <tbody>\n",
       "    <tr>\n",
       "      <th>2010-06-03</th>\n",
       "      <td>1.0</td>\n",
       "      <td>21.775017</td>\n",
       "      <td>22.086674</td>\n",
       "      <td>21.660195</td>\n",
       "      <td>22.029264</td>\n",
       "      <td>67837000.0</td>\n",
       "      <td>23.871719</td>\n",
       "      <td>23.897028</td>\n",
       "      <td>23.919038</td>\n",
       "      <td>23.904401</td>\n",
       "      <td>-1</td>\n",
       "      <td>0.0</td>\n",
       "      <td>-22.029264</td>\n",
       "      <td>-22.029264</td>\n",
       "      <td>-1</td>\n",
       "    </tr>\n",
       "    <tr>\n",
       "      <th>2010-06-04</th>\n",
       "      <td>1.0</td>\n",
       "      <td>21.405949</td>\n",
       "      <td>21.791420</td>\n",
       "      <td>21.012276</td>\n",
       "      <td>21.151702</td>\n",
       "      <td>89832200.0</td>\n",
       "      <td>23.810604</td>\n",
       "      <td>23.886880</td>\n",
       "      <td>23.871719</td>\n",
       "      <td>23.897028</td>\n",
       "      <td>0</td>\n",
       "      <td>0.0</td>\n",
       "      <td>0.000000</td>\n",
       "      <td>-22.029264</td>\n",
       "      <td>-1</td>\n",
       "    </tr>\n",
       "    <tr>\n",
       "      <th>2010-06-07</th>\n",
       "      <td>1.0</td>\n",
       "      <td>21.176306</td>\n",
       "      <td>21.184508</td>\n",
       "      <td>20.700618</td>\n",
       "      <td>20.741626</td>\n",
       "      <td>80456200.0</td>\n",
       "      <td>23.735409</td>\n",
       "      <td>23.872919</td>\n",
       "      <td>23.810604</td>\n",
       "      <td>23.886880</td>\n",
       "      <td>0</td>\n",
       "      <td>0.0</td>\n",
       "      <td>0.000000</td>\n",
       "      <td>-22.029264</td>\n",
       "      <td>-1</td>\n",
       "    </tr>\n",
       "    <tr>\n",
       "      <th>2010-06-08</th>\n",
       "      <td>1.0</td>\n",
       "      <td>20.708820</td>\n",
       "      <td>20.717021</td>\n",
       "      <td>20.216729</td>\n",
       "      <td>20.593999</td>\n",
       "      <td>87355000.0</td>\n",
       "      <td>23.662977</td>\n",
       "      <td>23.860617</td>\n",
       "      <td>23.735409</td>\n",
       "      <td>23.872919</td>\n",
       "      <td>0</td>\n",
       "      <td>0.0</td>\n",
       "      <td>0.000000</td>\n",
       "      <td>-22.029264</td>\n",
       "      <td>-1</td>\n",
       "    </tr>\n",
       "    <tr>\n",
       "      <th>2010-06-09</th>\n",
       "      <td>1.0</td>\n",
       "      <td>20.684215</td>\n",
       "      <td>20.930261</td>\n",
       "      <td>20.298744</td>\n",
       "      <td>20.331550</td>\n",
       "      <td>87794000.0</td>\n",
       "      <td>23.586439</td>\n",
       "      <td>23.845756</td>\n",
       "      <td>23.662977</td>\n",
       "      <td>23.860617</td>\n",
       "      <td>0</td>\n",
       "      <td>0.0</td>\n",
       "      <td>0.000000</td>\n",
       "      <td>-22.029264</td>\n",
       "      <td>-1</td>\n",
       "    </tr>\n",
       "  </tbody>\n",
       "</table>\n",
       "</div>"
      ],
      "text/plain": [
       "            SplitRatio    AdjOpen    AdjHigh     AdjLow   AdjClose  \\\n",
       "Date                                                                 \n",
       "2010-06-03         1.0  21.775017  22.086674  21.660195  22.029264   \n",
       "2010-06-04         1.0  21.405949  21.791420  21.012276  21.151702   \n",
       "2010-06-07         1.0  21.176306  21.184508  20.700618  20.741626   \n",
       "2010-06-08         1.0  20.708820  20.717021  20.216729  20.593999   \n",
       "2010-06-09         1.0  20.684215  20.930261  20.298744  20.331550   \n",
       "\n",
       "             AdjVolume      SMA50     SMA150    SMA50_2   SMA150_2  Signal  \\\n",
       "Date                                                                         \n",
       "2010-06-03  67837000.0  23.871719  23.897028  23.919038  23.904401      -1   \n",
       "2010-06-04  89832200.0  23.810604  23.886880  23.871719  23.897028       0   \n",
       "2010-06-07  80456200.0  23.735409  23.872919  23.810604  23.886880       0   \n",
       "2010-06-08  87355000.0  23.662977  23.860617  23.735409  23.872919       0   \n",
       "2010-06-09  87794000.0  23.586439  23.845756  23.662977  23.860617       0   \n",
       "\n",
       "            Buy       Sell         TP  Position  \n",
       "Date                                             \n",
       "2010-06-03  0.0 -22.029264 -22.029264        -1  \n",
       "2010-06-04  0.0   0.000000 -22.029264        -1  \n",
       "2010-06-07  0.0   0.000000 -22.029264        -1  \n",
       "2010-06-08  0.0   0.000000 -22.029264        -1  \n",
       "2010-06-09  0.0   0.000000 -22.029264        -1  "
      ]
     },
     "execution_count": 161,
     "metadata": {},
     "output_type": "execute_result"
    }
   ],
   "source": [
    "#now create a new data frame with only the relevant rows, ie, when the trading starts\n",
    "frame = df2.iloc[k]\n",
    "frame.head()"
   ]
  },
  {
   "cell_type": "code",
   "execution_count": 166,
   "metadata": {},
   "outputs": [
    {
     "name": "stderr",
     "output_type": "stream",
     "text": [
      "C:\\Users\\Greg\\Anaconda3\\lib\\site-packages\\ipykernel_launcher.py:1: SettingWithCopyWarning: \n",
      "A value is trying to be set on a copy of a slice from a DataFrame.\n",
      "Try using .loc[row_indexer,col_indexer] = value instead\n",
      "\n",
      "See the caveats in the documentation: http://pandas.pydata.org/pandas-docs/stable/indexing.html#indexing-view-versus-copy\n",
      "  \"\"\"Entry point for launching an IPython kernel.\n",
      "C:\\Users\\Greg\\Anaconda3\\lib\\site-packages\\ipykernel_launcher.py:2: SettingWithCopyWarning: \n",
      "A value is trying to be set on a copy of a slice from a DataFrame.\n",
      "Try using .loc[row_indexer,col_indexer] = value instead\n",
      "\n",
      "See the caveats in the documentation: http://pandas.pydata.org/pandas-docs/stable/indexing.html#indexing-view-versus-copy\n",
      "  \n"
     ]
    },
    {
     "data": {
      "text/html": [
       "<div>\n",
       "<style scoped>\n",
       "    .dataframe tbody tr th:only-of-type {\n",
       "        vertical-align: middle;\n",
       "    }\n",
       "\n",
       "    .dataframe tbody tr th {\n",
       "        vertical-align: top;\n",
       "    }\n",
       "\n",
       "    .dataframe thead th {\n",
       "        text-align: right;\n",
       "    }\n",
       "</style>\n",
       "<table border=\"1\" class=\"dataframe\">\n",
       "  <thead>\n",
       "    <tr style=\"text-align: right;\">\n",
       "      <th></th>\n",
       "      <th>SplitRatio</th>\n",
       "      <th>AdjOpen</th>\n",
       "      <th>AdjHigh</th>\n",
       "      <th>AdjLow</th>\n",
       "      <th>AdjClose</th>\n",
       "      <th>AdjVolume</th>\n",
       "      <th>SMA50</th>\n",
       "      <th>SMA150</th>\n",
       "      <th>SMA50_2</th>\n",
       "      <th>SMA150_2</th>\n",
       "      <th>Signal</th>\n",
       "      <th>Buy</th>\n",
       "      <th>Sell</th>\n",
       "      <th>TP</th>\n",
       "      <th>Position</th>\n",
       "      <th>Buy &amp; Hold Returns</th>\n",
       "      <th>Strategy Returns</th>\n",
       "    </tr>\n",
       "    <tr>\n",
       "      <th>Date</th>\n",
       "      <th></th>\n",
       "      <th></th>\n",
       "      <th></th>\n",
       "      <th></th>\n",
       "      <th></th>\n",
       "      <th></th>\n",
       "      <th></th>\n",
       "      <th></th>\n",
       "      <th></th>\n",
       "      <th></th>\n",
       "      <th></th>\n",
       "      <th></th>\n",
       "      <th></th>\n",
       "      <th></th>\n",
       "      <th></th>\n",
       "      <th></th>\n",
       "      <th></th>\n",
       "    </tr>\n",
       "  </thead>\n",
       "  <tbody>\n",
       "    <tr>\n",
       "      <th>2010-06-03</th>\n",
       "      <td>1.0</td>\n",
       "      <td>21.775017</td>\n",
       "      <td>22.086674</td>\n",
       "      <td>21.660195</td>\n",
       "      <td>22.029264</td>\n",
       "      <td>67837000.0</td>\n",
       "      <td>23.871719</td>\n",
       "      <td>23.897028</td>\n",
       "      <td>23.919038</td>\n",
       "      <td>23.904401</td>\n",
       "      <td>-1</td>\n",
       "      <td>0.0</td>\n",
       "      <td>-22.029264</td>\n",
       "      <td>-22.029264</td>\n",
       "      <td>-1</td>\n",
       "      <td>NaN</td>\n",
       "      <td>NaN</td>\n",
       "    </tr>\n",
       "    <tr>\n",
       "      <th>2010-06-04</th>\n",
       "      <td>1.0</td>\n",
       "      <td>21.405949</td>\n",
       "      <td>21.791420</td>\n",
       "      <td>21.012276</td>\n",
       "      <td>21.151702</td>\n",
       "      <td>89832200.0</td>\n",
       "      <td>23.810604</td>\n",
       "      <td>23.886880</td>\n",
       "      <td>23.871719</td>\n",
       "      <td>23.897028</td>\n",
       "      <td>0</td>\n",
       "      <td>0.0</td>\n",
       "      <td>0.000000</td>\n",
       "      <td>-22.029264</td>\n",
       "      <td>-1</td>\n",
       "      <td>-0.040651</td>\n",
       "      <td>0.040651</td>\n",
       "    </tr>\n",
       "    <tr>\n",
       "      <th>2010-06-07</th>\n",
       "      <td>1.0</td>\n",
       "      <td>21.176306</td>\n",
       "      <td>21.184508</td>\n",
       "      <td>20.700618</td>\n",
       "      <td>20.741626</td>\n",
       "      <td>80456200.0</td>\n",
       "      <td>23.735409</td>\n",
       "      <td>23.872919</td>\n",
       "      <td>23.810604</td>\n",
       "      <td>23.886880</td>\n",
       "      <td>0</td>\n",
       "      <td>0.0</td>\n",
       "      <td>0.000000</td>\n",
       "      <td>-22.029264</td>\n",
       "      <td>-1</td>\n",
       "      <td>-0.019578</td>\n",
       "      <td>0.019578</td>\n",
       "    </tr>\n",
       "    <tr>\n",
       "      <th>2010-06-08</th>\n",
       "      <td>1.0</td>\n",
       "      <td>20.708820</td>\n",
       "      <td>20.717021</td>\n",
       "      <td>20.216729</td>\n",
       "      <td>20.593999</td>\n",
       "      <td>87355000.0</td>\n",
       "      <td>23.662977</td>\n",
       "      <td>23.860617</td>\n",
       "      <td>23.735409</td>\n",
       "      <td>23.872919</td>\n",
       "      <td>0</td>\n",
       "      <td>0.0</td>\n",
       "      <td>0.000000</td>\n",
       "      <td>-22.029264</td>\n",
       "      <td>-1</td>\n",
       "      <td>-0.007143</td>\n",
       "      <td>0.007143</td>\n",
       "    </tr>\n",
       "    <tr>\n",
       "      <th>2010-06-09</th>\n",
       "      <td>1.0</td>\n",
       "      <td>20.684215</td>\n",
       "      <td>20.930261</td>\n",
       "      <td>20.298744</td>\n",
       "      <td>20.331550</td>\n",
       "      <td>87794000.0</td>\n",
       "      <td>23.586439</td>\n",
       "      <td>23.845756</td>\n",
       "      <td>23.662977</td>\n",
       "      <td>23.860617</td>\n",
       "      <td>0</td>\n",
       "      <td>0.0</td>\n",
       "      <td>0.000000</td>\n",
       "      <td>-22.029264</td>\n",
       "      <td>-1</td>\n",
       "      <td>-0.012826</td>\n",
       "      <td>0.012826</td>\n",
       "    </tr>\n",
       "  </tbody>\n",
       "</table>\n",
       "</div>"
      ],
      "text/plain": [
       "            SplitRatio    AdjOpen    AdjHigh     AdjLow   AdjClose  \\\n",
       "Date                                                                 \n",
       "2010-06-03         1.0  21.775017  22.086674  21.660195  22.029264   \n",
       "2010-06-04         1.0  21.405949  21.791420  21.012276  21.151702   \n",
       "2010-06-07         1.0  21.176306  21.184508  20.700618  20.741626   \n",
       "2010-06-08         1.0  20.708820  20.717021  20.216729  20.593999   \n",
       "2010-06-09         1.0  20.684215  20.930261  20.298744  20.331550   \n",
       "\n",
       "             AdjVolume      SMA50     SMA150    SMA50_2   SMA150_2  Signal  \\\n",
       "Date                                                                         \n",
       "2010-06-03  67837000.0  23.871719  23.897028  23.919038  23.904401      -1   \n",
       "2010-06-04  89832200.0  23.810604  23.886880  23.871719  23.897028       0   \n",
       "2010-06-07  80456200.0  23.735409  23.872919  23.810604  23.886880       0   \n",
       "2010-06-08  87355000.0  23.662977  23.860617  23.735409  23.872919       0   \n",
       "2010-06-09  87794000.0  23.586439  23.845756  23.662977  23.860617       0   \n",
       "\n",
       "            Buy       Sell         TP  Position  Buy & Hold Returns  \\\n",
       "Date                                                                  \n",
       "2010-06-03  0.0 -22.029264 -22.029264        -1                 NaN   \n",
       "2010-06-04  0.0   0.000000 -22.029264        -1           -0.040651   \n",
       "2010-06-07  0.0   0.000000 -22.029264        -1           -0.019578   \n",
       "2010-06-08  0.0   0.000000 -22.029264        -1           -0.007143   \n",
       "2010-06-09  0.0   0.000000 -22.029264        -1           -0.012826   \n",
       "\n",
       "            Strategy Returns  \n",
       "Date                          \n",
       "2010-06-03               NaN  \n",
       "2010-06-04          0.040651  \n",
       "2010-06-07          0.019578  \n",
       "2010-06-08          0.007143  \n",
       "2010-06-09          0.012826  "
      ]
     },
     "execution_count": 166,
     "metadata": {},
     "output_type": "execute_result"
    }
   ],
   "source": [
    "frame['Buy & Hold Returns'] = np.log(frame['AdjClose'] / frame['AdjClose'].shift(1))\n",
    "frame['Strategy Returns'] = frame['Buy & Hold Returns'] * frame['Position'].shift(1)\n",
    "\n",
    "frame.head()"
   ]
  },
  {
   "cell_type": "code",
   "execution_count": 165,
   "metadata": {},
   "outputs": [
    {
     "data": {
      "text/plain": [
       "<matplotlib.axes._subplots.AxesSubplot at 0x2088b730400>"
      ]
     },
     "execution_count": 165,
     "metadata": {},
     "output_type": "execute_result"
    },
    {
     "data": {
      "image/png": "[encoded data removed]",
      "text/plain": [
       "<Figure size 648x360 with 1 Axes>"
      ]
     },
     "metadata": {
      "needs_background": "light"
     },
     "output_type": "display_data"
    }
   ],
   "source": [
    "frame[['Buy & Hold Returns', 'Strategy Returns']].cumsum().plot(grid=True, figsize=(9,5))\n"
   ]
  },
  {
   "cell_type": "markdown",
   "metadata": {},
   "source": [
    "### Downloading Data for Multiple Stocks\n",
    "\n",
    "We can download data for stocks in multiple ways using the APIs provided by data vendors.\n",
    "Data vendors provide the the data in different formats and so the methods used to download it, and clean it vary slightly. I've adapted the approach from [here](https://gist.github.com/CNuge).\n",
    "\n",
    "Please ensure that your `pandas-datareader` is installed and working.\n",
    "\n",
    "```python\n",
    "\n",
    "import pandas as pd\n",
    "import pandas_datareader.data as web\n",
    "import numpy as np\n",
    "import datetime\n",
    "import matplotlib.pyplot as plt\n",
    "from concurrent import futures\n",
    "```\n",
    "The `futures` module in the library `concurrent` provides a high level API to perform parallel tasks. This works like a charm when you have a lot of data to download since it can happen in parallel. All the tickers will be downloaded at the same time, not one after another\n",
    "\n"
   ]
  },
  {
   "cell_type": "code",
   "execution_count": 167,
   "metadata": {},
   "outputs": [],
   "source": [
    "import pandas as pd\n",
    "import pandas_datareader.data as web\n",
    "import numpy as np\n",
    "import datetime\n",
    "import matplotlib.pyplot as plt\n",
    "from concurrent import futures"
   ]
  },
  {
   "cell_type": "code",
   "execution_count": 170,
   "metadata": {},
   "outputs": [],
   "source": [
    "def download_stocks(stock):\n",
    "    try:\n",
    "        print('Trying to retrieve the %s symbol...\\n' % (stock))\n",
    "        stock_df = web.DataReader(stock, 'yahoo', start, end)\n",
    "        stock_df['Name'] = stock\n",
    "        output_name = stock + '.csv'\n",
    "        list_stocks.append(output_name)\n",
    "        stock_df.to_csv(output_name)\n",
    "        print('Symbol %s downloaded OK.\\n' % (stock))\n",
    "    except:\n",
    "        bad_tickers.append(stock)\n",
    "        print('Problems downloading the %s symbol.\\n' % (stock))"
   ]
  },
  {
   "cell_type": "code",
   "execution_count": null,
   "metadata": {
    "collapsed": true
   },
   "outputs": [],
   "source": []
  },
  {
   "cell_type": "code",
   "execution_count": null,
   "metadata": {
    "collapsed": true
   },
   "outputs": [],
   "source": []
  },
  {
   "cell_type": "code",
   "execution_count": 171,
   "metadata": {},
   "outputs": [
    {
     "name": "stdout",
     "output_type": "stream",
     "text": [
      "Wall time: 0 ns\n",
      "Trying to retrieve the MSFT symbol...\n",
      "\n",
      "Trying to retrieve the AAPL symbol...\n",
      "Trying to retrieve the IBM symbol...\n",
      "\n",
      "\n",
      "Trying to retrieve the DELL symbol...\n",
      "\n",
      "Trying to retrieve the HP symbol...\n",
      "Trying to retrieve the TSLA symbol...\n",
      "\n",
      "\n",
      "Trying to retrieve the AMZN symbol...\n",
      "Trying to retrieve the AIG symbol...\n",
      "\n",
      "\n",
      "Trying to retrieve the STJ symbol...\n",
      "\n",
      "Trying to retrieve the WMT symbol...\n",
      "\n",
      "Trying to retrieve the LVLT symbol...\n",
      "\n",
      "Trying to retrieve the SBUX symbol...\n",
      "\n",
      "Trying to retrieve the CL symbol...\n",
      "\n",
      "Trying to retrieve the NKE symbol...\n",
      "\n",
      "Trying to retrieve the FOSL symbol...\n",
      "\n",
      "Problems downloading the DELL symbol.\n",
      "\n",
      "Problems downloading the STJ symbol.\n",
      "\n",
      "Problems downloading the LVLT symbol.\n",
      "\n",
      "Symbol AIG downloaded OK.\n",
      "Symbol TSLA downloaded OK.\n",
      "\n",
      "\n",
      "Symbol IBM downloaded OK.\n",
      "Symbol WMT downloaded OK.\n",
      "\n",
      "\n",
      "Symbol AMZN downloaded OK.\n",
      "\n",
      "Symbol MSFT downloaded OK.\n",
      "\n",
      "Symbol HP downloaded OK.\n",
      "\n",
      "Symbol AAPL downloaded OK.\n",
      "\n",
      "Symbol SBUX downloaded OK.\n",
      "\n",
      "Symbol CL downloaded OK.\n",
      "\n",
      "Symbol FOSL downloaded OK.\n",
      "\n",
      "Symbol NKE downloaded OK.\n",
      "\n"
     ]
    }
   ],
   "source": [
    "%time\n",
    "stocksList = ['MSFT', 'AAPL', 'IBM', 'DELL', 'HP', \n",
    "              'TSLA', 'AMZN', 'AIG', 'STJ', 'WMT', \n",
    "              'LVLT', 'SBUX', 'CL', 'NKE', 'FOSL']\n",
    "list_stocks = []\n",
    "\n",
    "### Keeping track of failed ticker download queries\n",
    "bad_tickers = []\n",
    "\n",
    "end = datetime.datetime.now().date()\n",
    "start = end - pd.Timedelta(days = 365 * 5)\n",
    "\n",
    "# We use the concurrent.futures module's ThreadPoolExecutor \n",
    "# to speed up the downloads by doing them in parallel rather than serially\n",
    "    \n",
    "### Set the maximum thread number\n",
    "max_workers = 50\n",
    "\n",
    "workers = min(max_workers, len(stocksList)) \n",
    "### In case a smaller number of stocks than threads was passed in\n",
    "with futures.ThreadPoolExecutor(workers) as executor:\n",
    "    res = executor.map(download_stocks, stocksList)\n",
    "### map allows multiple calls to the given function. It passes each of the items in stocksList (any \n",
    "### iterable) to the function. Here, it can happen concurrently because of the ThreadPoolExecutor()\n",
    "### subClass"
   ]
  },
  {
   "cell_type": "code",
   "execution_count": null,
   "metadata": {
    "collapsed": true
   },
   "outputs": [],
   "source": []
  },
  {
   "cell_type": "code",
   "execution_count": null,
   "metadata": {
    "collapsed": true
   },
   "outputs": [],
   "source": []
  },
  {
   "cell_type": "code",
   "execution_count": null,
   "metadata": {
    "collapsed": true
   },
   "outputs": [],
   "source": []
  },
  {
   "cell_type": "code",
   "execution_count": null,
   "metadata": {
    "collapsed": true
   },
   "outputs": [],
   "source": []
  },
  {
   "cell_type": "markdown",
   "metadata": {},
   "source": [
    "#### References\n",
    "\n",
    "1. The `pandas-datareader` library documentation - http://pandas-datareader.readthedocs.io/en/latest/#\n",
    "2. The Python `datetime` documentation - https://docs.python.org/3/library/datetime.html#module-datetime\n",
    "3. The `dateutil` library documentation - https://dateutil.readthedocs.io/en/stable/\n",
    "4. Examples for dealing with dates and times in Python - https://jakevdp.github.io/PythonDataScienceHandbook/03.11-working-with-time-series.html\n",
    "3. Faber, Meb, A Quantitative Approach to Tactical Asset Allocation (February 1, 2013). The Journal of Wealth Management, Spring 2007 . Available at SSRN: https://ssrn.com/abstract=962461\n",
    "3. Documentation on the `.nonzero()` method in `NumPy` : https://docs.scipy.org/doc/numpy-1.14.0/reference/generated/numpy.nonzero.html\n",
    "4. Documentation on `pandas DataFrame .apply()` function: https://pandas.pydata.org/pandas-docs/stable/generated/pandas.DataFrame.apply.html\n",
    "5. https://stackoverflow.com/\n",
    "6. `MatPlotlib` tutorial - http://www.scipy-lectures.org/intro/matplotlib/index.html\n"
   ]
  },
  {
   "cell_type": "code",
   "execution_count": null,
   "metadata": {
    "collapsed": true
   },
   "outputs": [],
   "source": []
  }
 ],
 "metadata": {
  "kernelspec": {
   "display_name": "Python 3",
   "language": "python",
   "name": "python3"
  },
  "language_info": {
   "codemirror_mode": {
    "name": "ipython",
    "version": 3
   },
   "file_extension": ".py",
   "mimetype": "text/x-python",
   "name": "python",
   "nbconvert_exporter": "python",
   "pygments_lexer": "ipython3",
   "version": "3.7.0"
  }
 },
 "nbformat": 4,
 "nbformat_minor": 2
}
