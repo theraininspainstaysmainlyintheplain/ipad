{
 "cells": [
  {
   "cell_type": "markdown",
   "metadata": {},
   "source": [
    "# Basics of Python Programming(PBQ-1)\n",
    "#### Notebook Created on: 5 Jan 2018\n",
    "##### Last Update: 27 Oct 2018\n",
    "##### Author: Vivek Krishnamoorthy"
   ]
  },
  {
   "cell_type": "markdown",
   "metadata": {},
   "source": [
    "> **\"Always code as if the guy who ends up maintaining your code will be a violent psychopath who knows where you live.\"** - *John Woods*\n",
    "\n",
    "**Welcome!** This is a relatively fast-paced introduction to the Python programming language. \n",
    "\n",
    "_Please ensure that you have spent a non-trivial amount of time going through the Python primer (especially for those of you who have no programming background) before attending this lecture (or going through its recording). I would also strongly urge you to read through and play around with this file before the lecture._\n",
    "\n",
    "***I say this so that you can derive maximum benefit from listening to this lecture. If you're a newbie to programming, don't worry. You CAN do this. Yes, it's going to be a little challenging. Yes, you'll need to put in the extra yards. But I can assure you, it's very realizable. ***"
   ]
  },
  {
   "cell_type": "markdown",
   "metadata": {},
   "source": [
    "### Some philosophizing on programming\n",
    "\n",
    "The good news is that coding is certainly a learnable skill. If you put in the effort and take your time, you will learn to program. It'll be difficult at the outset but hang in there. A simple principle of learning is that to get familiar or comfortable with anything, it has to start coming to you naturally. And that comes with practice.\n",
    "\n",
    "So the first piece of advice: **practise everyday**. Even it's just half an hour. Open your Python terminal. I don't care what you prefer. It could be the Spyder IDE. Or Jupyter Notebook. Or Jupyter Lab. Or the Python/IPython console. Anything really. *One simple way to do this is to take this file and mess with the code I've given you. Change values and see what happens. Playing around with it will get you accustomed to Python syntax and also help you figure out limitations. All of this will help you learn.* Keep at it and it'll eventually start getting more enjoyable. You can teach yourself to do almost anything with this method. Whether it's Python, or Squash or Japanese or lion taming (may be not the last one).\n",
    "\n",
    "Second piece of advice: **learning to research topics online**. This is something I emphasize quite a bit as an instructor/educator. I say this because what I want is for you to eventually learn to become independent learners. In today's day and age, we have a lot of resources which are available to us at the click of a button. The online Python community is incredibly helpful and enthusiastic. The [official Python documentation](https://www.python.org/doc/) is regularly updated and useful albeit a bit technical. [Stackoverflow](https://stackoverflow.com/) is a fantastic place to look up answers to questions. This could be anything from the most basic to the very advanced. You can be almost certain that any question that pops into your head has been asked by someone before and been answered too. Even [Quora](https://www.quora.com/) can be useful. Or a plain old Google search.\n",
    "\n",
    "Third piece of advice: **borrow ideas/concepts you like or find useful**. Through your Pythonic journey, in class or otherwise (I encourage you to consume all kinds of resources be it books, online links, youtube videos, etc. The process of learning can be quite arbitrary and the only way you'll know what helps you learn most effectively is by trying different ones on for size.), there'll be snippets of code you'll read or run that look like something you might want to use. You may not even understand it completely, but note it and save it somewhere. You should go back to your notes from time to time and review it. You'll be surprised at how soon we forget things if we don't keep relooking at them every now and then.\n",
    "\n",
    "\n",
    "If you've signed up for a demanding course like EPAT, I'm quite sure you have the will to learn and work hard.\n",
    "\n",
    "\n",
    "### A couple of suggestions before we begin today's journey.\n",
    "\n",
    "1. This is a living, breathing document. For each of you. What that means is, I want you to **annotate it** with whatever comments you want. Things you forget. Things I may mention in class. That link I may casually reference during a lecture. May be stuff you want to further emphasize just so it sticks in your head. \n",
    "2. I have shared this document with you so that you have a touchstone while we go through our class. You have here both the explanations and the code. However, while you learn to code in Python or for that matter any language, **please type each line in**. Let me repeat that. Type every line. I cannot emphasize this enough. We may resort to copy-paste here during the lecture in order to save time and cover more topics. But when you're reviewing your notes, you should be typing. That's how you'll learn actively. The idea is to train yourself to read, write and understand code. And for this, it's important that both your fingers and your brain gets used to it."
   ]
  },
  {
   "cell_type": "markdown",
   "metadata": {},
   "source": [
    "Jupyter Notebook is one the many ways that you can interface with Python and its scientific libraries. It provides a browser-based environment wherein you have the option to create a **single document** with Python code, its output, explanations, mathematical expressions, etc. As a matter of preference, I use [Jupyter Lab](http://jupyterlab.readthedocs.io/en/stable/getting_started/overview.html) which is almost identical to the Jupyter Notebook interface. You can use whichever environment you prefer (Spyder IDE, Jupyter Notebook, etc.).\n",
    "\n",
    "Due to paucity of time, I will likely **not be covering interpreting errors at any significant length**. However, learning to do so is a very **important part of your quest to becoming a good programmer (and eventually an algorithmic or quantitative trader)**. Please go through [this](https://www.quantinsti.com/blog/dealing-python-error-exceptions/) and [this](https://www.quantinsti.com/blog/python-exception/). Both are good introductory posts and I think there's quite a bit to be gained from reading it.\n",
    "\n",
    "I'm done with my preamble now.\n",
    "\n",
    "Let's get started!"
   ]
  },
  {
   "cell_type": "markdown",
   "metadata": {},
   "source": [
    "```python\n",
    "# Hello there. This is a line that won't get executed. That's because we prefixed it with a #\n",
    "# A rite of passage when you start learning to code in any computer language is to print Hello World\n",
    "# Let's begin our journey to learn Python with it\n",
    "print(\"Hello World!\")\n",
    "# We can use either single quotes or double quotes to call the print function\n",
    "\n",
    "\"\"\"\n",
    "Longer comments can be written over multiple lines by enclosing them within triple\n",
    "single or double quotes\n",
    "\"\"\"\n",
    "\n",
    "\n",
    "```"
   ]
  },
  {
   "cell_type": "code",
   "execution_count": 3,
   "metadata": {
    "scrolled": true
   },
   "outputs": [
    {
     "name": "stdout",
     "output_type": "stream",
     "text": [
      "Hello World!\n"
     ]
    }
   ],
   "source": [
    "print(\"Hello World!\")"
   ]
  },
  {
   "cell_type": "markdown",
   "metadata": {},
   "source": [
    "There are two cool features that you will see in the Jupyter Notebook environment. One is the *Tab Complete* feature when you are accessing different methods and properties of any object. If you're like me, you would also not remember every feature of each object and so should find this very helpful. The other is using the suffix `?`.\n",
    "\n",
    "We'll see how both of them are used as we move along today."
   ]
  },
  {
   "cell_type": "markdown",
   "metadata": {},
   "source": [
    "```python\n",
    "# Python can be used like a calculator\n",
    "30 + 15\n",
    "40 / 12\n",
    "print(50 / 15)\n",
    "print(\"50 / 15 = \", 50 / 15) # Notice that whenever we enclose anything between single and double quotes, it's treated as a string i.e. it will not be computed, it will just be printed as is.\n",
    "```"
   ]
  },
  {
   "cell_type": "code",
   "execution_count": 9,
   "metadata": {},
   "outputs": [
    {
     "name": "stdout",
     "output_type": "stream",
     "text": [
      "30+15 =  45\n"
     ]
    }
   ],
   "source": [
    "print(\"30+15 = \" , 30+15) # this is how we combine notes"
   ]
  },
  {
   "cell_type": "code",
   "execution_count": 1,
   "metadata": {},
   "outputs": [],
   "source": [
    "a = 10"
   ]
  },
  {
   "cell_type": "code",
   "execution_count": 10,
   "metadata": {},
   "outputs": [],
   "source": [
    "import time\n",
    "time.sleep(5)"
   ]
  },
  {
   "cell_type": "markdown",
   "metadata": {},
   "source": [
    "```python\n",
    "a = 0\n",
    "for i in range(100000000):\n",
    "    a = a + i\n",
    "```\n",
    "\n",
    "Notice what happens at the top right corner. You'll see that the kernel is busy. You'll also notice that the cell which is getting processed is numbered * when the kernel is busy."
   ]
  },
  {
   "cell_type": "code",
   "execution_count": 11,
   "metadata": {},
   "outputs": [],
   "source": [
    "a = 0\n",
    "for i in range(100000000):\n",
    "    a = a + i"
   ]
  },
  {
   "cell_type": "markdown",
   "metadata": {},
   "source": [
    "### Primitive Data Types\n",
    "\n",
    "We will look at some basic math operations and the four primitive data types/variables in Python through a series of examples.\n",
    "- String (`str`)\n",
    "- Float (`float`)\n",
    "- Integer (`int`)\n",
    "- Boolean (`bool`)"
   ]
  },
  {
   "cell_type": "markdown",
   "metadata": {},
   "source": [
    "```python\n",
    "# We're assigning variables to values here\n",
    "\n",
    "name = \"Morne Morkel\" # str data type\n",
    "wickets_taken, tests_played = 309, 86 # int data type\n",
    "average = wickets_taken / tests_played # float data type\n",
    "wickets_taken // tests_played # integer division\n",
    "wickets_taken % tests_played # modulo (remainder after integer division)\n",
    "\n",
    "name + wickets_taken # this won't work\n",
    "\n",
    "# We can check the type of each variable by using the type() method\n",
    "type(wickets_taken)\n",
    "type(name)\n",
    "\n",
    "wickets_taken\n",
    "name\n",
    "tests_played\n",
    "average\n",
    "```"
   ]
  },
  {
   "cell_type": "code",
   "execution_count": 12,
   "metadata": {},
   "outputs": [],
   "source": [
    "name = \"Morne Morkel\" # str data type\n",
    "wickets_taken, tests_played = 309, 86 # int data type"
   ]
  },
  {
   "cell_type": "code",
   "execution_count": 13,
   "metadata": {},
   "outputs": [],
   "source": [
    "average = wickets_taken / tests_played"
   ]
  },
  {
   "cell_type": "code",
   "execution_count": 14,
   "metadata": {},
   "outputs": [
    {
     "data": {
      "text/plain": [
       "3"
      ]
     },
     "execution_count": 14,
     "metadata": {},
     "output_type": "execute_result"
    }
   ],
   "source": [
    "wickets_taken // tests_played # integer division"
   ]
  },
  {
   "cell_type": "code",
   "execution_count": 15,
   "metadata": {},
   "outputs": [
    {
     "data": {
      "text/plain": [
       "3.5930232558139537"
      ]
     },
     "execution_count": 15,
     "metadata": {},
     "output_type": "execute_result"
    }
   ],
   "source": [
    "wickets_taken / tests_played"
   ]
  },
  {
   "cell_type": "code",
   "execution_count": 16,
   "metadata": {},
   "outputs": [
    {
     "data": {
      "text/plain": [
       "51"
      ]
     },
     "execution_count": 16,
     "metadata": {},
     "output_type": "execute_result"
    }
   ],
   "source": [
    "wickets_taken % tests_played"
   ]
  },
  {
   "cell_type": "markdown",
   "metadata": {},
   "source": [
    "name + wickets_taken"
   ]
  },
  {
   "cell_type": "code",
   "execution_count": 24,
   "metadata": {},
   "outputs": [],
   "source": [
    "tests_played?"
   ]
  },
  {
   "cell_type": "markdown",
   "metadata": {},
   "source": [
    "The two most common data types used to represent numbers are integers and floats. Floats are numbers which can have fractional parts. So while floats are more informative, arithmetic operations on integers are faster and more accurate.\n",
    "\n",
    "You can access help by typing a variable or any keyword followed by a question mark. \n",
    "\n",
    "Try it."
   ]
  },
  {
   "cell_type": "markdown",
   "metadata": {},
   "source": [
    "Let's now look at the Boolean data type which can be either `True` or `False`.\n",
    "```python\n",
    "a = True\n",
    "a\n",
    "\n",
    "# Here, the Python interpreter evaluates the expression to the right of `=` and assigns `b` to that value.\n",
    "b = 2 > 3\n",
    "\n",
    "# Print a and b and check their data type\n",
    "```\n"
   ]
  },
  {
   "cell_type": "code",
   "execution_count": 26,
   "metadata": {},
   "outputs": [],
   "source": [
    "a = True"
   ]
  },
  {
   "cell_type": "code",
   "execution_count": 27,
   "metadata": {},
   "outputs": [
    {
     "data": {
      "text/plain": [
       "False"
      ]
     },
     "execution_count": 27,
     "metadata": {},
     "output_type": "execute_result"
    }
   ],
   "source": [
    "b= 2>3\n",
    "b"
   ]
  },
  {
   "cell_type": "code",
   "execution_count": 28,
   "metadata": {},
   "outputs": [
    {
     "data": {
      "text/plain": [
       "0"
      ]
     },
     "execution_count": 28,
     "metadata": {},
     "output_type": "execute_result"
    }
   ],
   "source": [
    "a*b"
   ]
  },
  {
   "cell_type": "code",
   "execution_count": 29,
   "metadata": {},
   "outputs": [
    {
     "data": {
      "text/plain": [
       "bool"
      ]
     },
     "execution_count": 29,
     "metadata": {},
     "output_type": "execute_result"
    }
   ],
   "source": [
    "type (a)"
   ]
  },
  {
   "cell_type": "code",
   "execution_count": 30,
   "metadata": {},
   "outputs": [
    {
     "name": "stdout",
     "output_type": "stream",
     "text": [
      "1 True False\n"
     ]
    }
   ],
   "source": [
    "print(a+b, a, b)"
   ]
  },
  {
   "cell_type": "code",
   "execution_count": 34,
   "metadata": {},
   "outputs": [
    {
     "data": {
      "text/plain": [
       "True"
      ]
     },
     "execution_count": 34,
     "metadata": {},
     "output_type": "execute_result"
    }
   ],
   "source": [
    "a is not None"
   ]
  },
  {
   "cell_type": "markdown",
   "metadata": {},
   "source": [
    "When dealing with Boolean variables, `True` is converted to `1` and `False` is converted to `0`. This is called *Boolean Algebra*. It can very handy in programming.\n",
    "\n",
    "Let's now see some illustrative examples.\n",
    "\n",
    "```python\n",
    "\n",
    "a + b\n",
    "a * b\n",
    "a + b\n",
    "```\n",
    "In Python, there is a special value called None which is used for [null objects](https://www.quora.com/What-is-the-difference-between-Null-and-empty-string-in-python).\n",
    "\n",
    "\n",
    "```python\n",
    "x = None # The truthiness or Boolean value associated with None is False.\n",
    "y = 20\n",
    "\n",
    "a is None # This condition can be useful in the finance context.\n",
    "# For example, if we have a variable saying 'AmountInvested' and we want to check if it's been set or not.\n",
    "# The line \"AmountInvested is None\" will give us a Boolean value as a check\n",
    "\n",
    "b is None\n",
    "\n",
    "a is not None\n",
    "b is not None\n",
    "\n",
    "# Any command prefixed with a % or %% is called a magic command. Type %magic and run it\n",
    "#  Read more about it online.\n",
    "# Check what %whos does.\n",
    "```\n",
    "\n",
    "\n"
   ]
  },
  {
   "cell_type": "code",
   "execution_count": 35,
   "metadata": {},
   "outputs": [
    {
     "name": "stdout",
     "output_type": "stream",
     "text": [
      "Variable        Type      Data/Info\n",
      "-----------------------------------\n",
      "a               bool      True\n",
      "average         float     3.5930232558139537\n",
      "b               bool      False\n",
      "i               int       99999999\n",
      "name            str       Morne Morkel\n",
      "tests_played    int       86\n",
      "time            module    <module 'time' (built-in)>\n",
      "wickets_taken   int       309\n"
     ]
    }
   ],
   "source": [
    "%whos"
   ]
  },
  {
   "cell_type": "code",
   "execution_count": 36,
   "metadata": {},
   "outputs": [],
   "source": [
    "%magic"
   ]
  },
  {
   "cell_type": "markdown",
   "metadata": {},
   "source": [
    "### Using the `print()` method\n",
    "The `print()` method is a very versatile tool that you'll soon see for yourself. A *method* is a function associated with an object.\n",
    "\n",
    "We often use it in conjunction with string formatting which makes our output more readable. I show three different use cases for string formatting here. Pick and choose what is most suitable for your purpose.\n",
    "```python\n",
    "\n",
    "print(\"Proteas\" + \" : That's just another name for the South African cricket team\")\n",
    "print(\"Proteas\" + 1992)\n",
    "print(\"Proteas\", 1992)\n",
    "\n",
    "print(name, \"recently finished his test career with\", wickets_taken, \n",
    "      \"wickets over\", tests_played, \"test matches.\")\n",
    "\n",
    "print(f\"He'd done it with an average of {average} wickets in each test match.\")\n",
    "# The above strings are called f-strings or formatted string literals.\n",
    "\n",
    "print(\"%s picked %.2f wickets on average in each test match.\"\n",
    "      %(name, average))\n",
    "# This is the %-formatting method.\n",
    "\n",
    "print(\"He played {x} matches to pick {y} wickets.\".format\n",
    "      (x=tests_played, y=wickets_taken))\n",
    "# This is the str.format() method.\n",
    "                                                         \n",
    "```\n"
   ]
  },
  {
   "cell_type": "code",
   "execution_count": 37,
   "metadata": {},
   "outputs": [
    {
     "name": "stdout",
     "output_type": "stream",
     "text": [
      "Proteas : That's just another name for the South African cricket team\n",
      "Proteas  : That's just another name for the South African cricket team\n"
     ]
    }
   ],
   "source": [
    "print(\"Proteas\" + \" : That's just another name for the South African cricket team\")\n",
    "print(\"Proteas\" , \" : That's just another name for the South African cricket team\")"
   ]
  },
  {
   "cell_type": "code",
   "execution_count": 38,
   "metadata": {},
   "outputs": [
    {
     "ename": "TypeError",
     "evalue": "can only concatenate str (not \"int\") to str",
     "output_type": "error",
     "traceback": [
      "\u001b[1;31m---------------------------------------------------------------------------\u001b[0m",
      "\u001b[1;31mTypeError\u001b[0m                                 Traceback (most recent call last)",
      "\u001b[1;32m<ipython-input-38-f3b0d40c662b>\u001b[0m in \u001b[0;36m<module>\u001b[1;34m()\u001b[0m\n\u001b[1;32m----> 1\u001b[1;33m \u001b[0mprint\u001b[0m\u001b[1;33m(\u001b[0m\u001b[1;34m\"Proteas\"\u001b[0m \u001b[1;33m+\u001b[0m \u001b[1;36m1992\u001b[0m\u001b[1;33m)\u001b[0m\u001b[1;33m\u001b[0m\u001b[0m\n\u001b[0m",
      "\u001b[1;31mTypeError\u001b[0m: can only concatenate str (not \"int\") to str"
     ]
    }
   ],
   "source": [
    "print(\"Proteas\" + 1992)"
   ]
  },
  {
   "cell_type": "code",
   "execution_count": 39,
   "metadata": {},
   "outputs": [
    {
     "name": "stdout",
     "output_type": "stream",
     "text": [
      "Proteas 1992\n"
     ]
    }
   ],
   "source": [
    "print(\"Proteas\", 1992)"
   ]
  },
  {
   "cell_type": "code",
   "execution_count": 40,
   "metadata": {},
   "outputs": [
    {
     "name": "stdout",
     "output_type": "stream",
     "text": [
      "Morne Morkel recently finished his test career with 309 wickets over 86 test matches.\n"
     ]
    }
   ],
   "source": [
    "print(name, \"recently finished his test career with\", wickets_taken, \n",
    "      \"wickets over\", tests_played, \"test matches.\")"
   ]
  },
  {
   "cell_type": "code",
   "execution_count": 41,
   "metadata": {},
   "outputs": [
    {
     "ename": "SyntaxError",
     "evalue": "invalid syntax (<ipython-input-41-3feba3513caa>, line 1)",
     "output_type": "error",
     "traceback": [
      "\u001b[1;36m  File \u001b[1;32m\"<ipython-input-41-3feba3513caa>\"\u001b[1;36m, line \u001b[1;32m1\u001b[0m\n\u001b[1;33m    print(name +_ \"recently finished his test career with\", wickets_taken,\u001b[0m\n\u001b[1;37m                                                         ^\u001b[0m\n\u001b[1;31mSyntaxError\u001b[0m\u001b[1;31m:\u001b[0m invalid syntax\n"
     ]
    }
   ],
   "source": [
    "print(name +_ \"recently finished his test career with\", wickets_taken, \n",
    "      \"wickets over\", tests_played, \"test matches.\")"
   ]
  },
  {
   "cell_type": "code",
   "execution_count": 43,
   "metadata": {},
   "outputs": [
    {
     "name": "stdout",
     "output_type": "stream",
     "text": [
      "He'd done it with an average of 3.5930232558139537 wickets in each test match.\n"
     ]
    }
   ],
   "source": [
    "print(f\"He'd done it with an average of {average} wickets in each test match.\")"
   ]
  },
  {
   "cell_type": "code",
   "execution_count": 45,
   "metadata": {},
   "outputs": [
    {
     "name": "stdout",
     "output_type": "stream",
     "text": [
      "He'd done it with an average of 3.5930232558139537 wickets in each test match.\n"
     ]
    }
   ],
   "source": [
    "print(\"He'd done it with an average of\", average, \"wickets in each test match.\")"
   ]
  },
  {
   "cell_type": "code",
   "execution_count": 47,
   "metadata": {
    "scrolled": true
   },
   "outputs": [
    {
     "name": "stdout",
     "output_type": "stream",
     "text": [
      "Morne Morkel picked 3.593023 wickets on average in each test match.\n"
     ]
    }
   ],
   "source": [
    "print(\"%s picked %2f wickets on average in each test match.\"\n",
    "      %(name, average))"
   ]
  },
  {
   "cell_type": "code",
   "execution_count": 48,
   "metadata": {},
   "outputs": [
    {
     "name": "stdout",
     "output_type": "stream",
     "text": [
      "He played 86 matches to pick 309 wickets.\n"
     ]
    }
   ],
   "source": [
    "print(\"He played {x} matches to pick {y} wickets.\".format\n",
    "      (x=tests_played, y=wickets_taken))"
   ]
  },
  {
   "cell_type": "markdown",
   "metadata": {},
   "source": [
    "Digression: For those of you who are curious, you can get a glimpse of the [Proteas](https://www.youtube.com/watch?v=UvyXjNk70OY) and [Morne Morkel](https://www.youtube.com/watch?v=6S9WRFDGuDQ)."
   ]
  },
  {
   "cell_type": "markdown",
   "metadata": {},
   "source": [
    "### Data Structures (Advanced Data Types)\n",
    "\n",
    "We will look at the advanced data types or native data structures to Python here via some examples\n",
    "- Lists\n",
    "- Tuples\n",
    "- Sets\n",
    "- Dictionaries\n",
    "\n",
    "It is useful to think of these data structures as **containers which house the data**. [Data structures](https://en.wikipedia.org/wiki/Data_structure) are a way to organize and store data in a computer so that it can be accessed and modified efficiently. You can even think of an Excel spreadsheet as a type of data structure which stores your data in a grid format (rows and columns)."
   ]
  },
  {
   "cell_type": "markdown",
   "metadata": {},
   "source": [
    "\n",
    "**Lists**: They are enclosed in square brackets `[]` and used to group a collection of objects. These objects \n",
    "can be of any Python data type including other lists or tuples.\n",
    "\n",
    "[**Tuples**](https://docs.python.org/3/tutorial/datastructures.html#tuples-and-sequences): They are enclosed in parentheses () and are immutable i.e they cannot be changed after creation. Lists\n",
    "on the other hand are mutable. You can call tuples 'immutable' lists.\n",
    "\n",
    "A list containing no elements is called an empty list and a tuple with no elements is called an empty tuple.\n",
    "\n",
    "```python\n",
    "\n",
    "languages = ['English', 'Hindi', 'Tamil', 'German', 'Dothraki']\n",
    "avogadro = [6, 0, 2, 3, 10, 23]\n",
    "\n",
    "mixed = [languages, avogadro] # think of this as a box which contains two boxes\n",
    "# We can include heterogenous data inside any list\n",
    "\n",
    "# Check the object type of each of the above variables\n",
    "```\n",
    "\n"
   ]
  },
  {
   "cell_type": "code",
   "execution_count": 105,
   "metadata": {},
   "outputs": [],
   "source": [
    "languages = ['English', \"Hindi\", 'Tamil', 'German', 'Dothraki']\n",
    "avogadro = [6, 0, 2, 3, 10, 23]"
   ]
  },
  {
   "cell_type": "code",
   "execution_count": 55,
   "metadata": {
    "scrolled": true
   },
   "outputs": [
    {
     "data": {
      "text/plain": [
       "list"
      ]
     },
     "execution_count": 55,
     "metadata": {},
     "output_type": "execute_result"
    }
   ],
   "source": [
    "type (languages)"
   ]
  },
  {
   "cell_type": "code",
   "execution_count": 57,
   "metadata": {},
   "outputs": [
    {
     "data": {
      "text/plain": [
       "[['English', 'Hindi', 'Tamil', 'German', 'Dothraki'], [6, 0, 2, 3, 10, 23]]"
      ]
     },
     "execution_count": 57,
     "metadata": {},
     "output_type": "execute_result"
    }
   ],
   "source": [
    "mixed = [languages, avogadro]\n",
    "mixed"
   ]
  },
  {
   "cell_type": "code",
   "execution_count": 121,
   "metadata": {
    "scrolled": true
   },
   "outputs": [
    {
     "data": {
      "text/plain": [
       "[('English', 'Hindi', 'Tamil', 'German', 'Dothraki'), [6, 0, 2, 3, 10, 23]]"
      ]
     },
     "execution_count": 121,
     "metadata": {},
     "output_type": "execute_result"
    }
   ],
   "source": [
    "languages = ('English', \"Hindi\", 'Tamil', 'German', 'Dothraki')\n",
    "avogadro = [6, 0, 2, 3, 10, 23]\n",
    "type (languages)\n",
    "mixed = [languages, avogadro]\n",
    "mixed"
   ]
  },
  {
   "cell_type": "code",
   "execution_count": 122,
   "metadata": {},
   "outputs": [
    {
     "data": {
      "text/plain": [
       "'Hindi'"
      ]
     },
     "execution_count": 122,
     "metadata": {},
     "output_type": "execute_result"
    }
   ],
   "source": [
    "languages[1]"
   ]
  },
  {
   "cell_type": "code",
   "execution_count": null,
   "metadata": {},
   "outputs": [],
   "source": []
  },
  {
   "cell_type": "code",
   "execution_count": 108,
   "metadata": {},
   "outputs": [
    {
     "data": {
      "text/plain": [
       "['English', 'Hindi', 'Tamil', 'German', 'Dothraki', 6, 0, 2, 3, 10, 23]"
      ]
     },
     "execution_count": 108,
     "metadata": {},
     "output_type": "execute_result"
    }
   ],
   "source": [
    "mixed2 = languages + avogadro\n",
    "mixed2"
   ]
  },
  {
   "cell_type": "code",
   "execution_count": 74,
   "metadata": {},
   "outputs": [
    {
     "data": {
      "text/plain": [
       "['English', 'Hindi', 'Tamil', 'German', 'Dothraki', 'blabla', 'blabla']"
      ]
     },
     "execution_count": 74,
     "metadata": {},
     "output_type": "execute_result"
    }
   ],
   "source": [
    "languages.append(\"blabla\")\n",
    "languages"
   ]
  },
  {
   "cell_type": "code",
   "execution_count": 76,
   "metadata": {},
   "outputs": [
    {
     "data": {
      "text/plain": [
       "['Hindi', 'Tamil', 'German', 'Dothraki', 'blabla']"
      ]
     },
     "execution_count": 76,
     "metadata": {},
     "output_type": "execute_result"
    }
   ],
   "source": [
    "languages.pop(0)\n",
    "languages"
   ]
  },
  {
   "cell_type": "code",
   "execution_count": 89,
   "metadata": {},
   "outputs": [
    {
     "name": "stdout",
     "output_type": "stream",
     "text": [
      "['German', 'Dothraki']\n"
     ]
    }
   ],
   "source": [
    "print (languages[-3:-1])"
   ]
  },
  {
   "cell_type": "code",
   "execution_count": 90,
   "metadata": {},
   "outputs": [
    {
     "data": {
      "text/plain": [
       "False"
      ]
     },
     "execution_count": 90,
     "metadata": {},
     "output_type": "execute_result"
    }
   ],
   "source": [
    "\"french\" in languages"
   ]
  },
  {
   "cell_type": "markdown",
   "metadata": {},
   "source": [
    "Python objects such as lists, integers, strings, etc. all have methods associated with them that are used to manipulate the data contained in them. **List objects have list methods, float objects have float methods, and so on.**\n",
    "\n",
    "Similarly, objects also have attributes which are the properties associated with them. **List objects have attributes like length, maximum, minimum, etc.**\n",
    "\n",
    "We will use some of them as we go along now.\n",
    "\n",
    "```python\n",
    "languages.append('Parseltongue')\n",
    "\n",
    "languages.pop('German')\n",
    "dir(languages)\n",
    "\n",
    "# Combining lists\n",
    "mixed2 = languages + avogadro\n",
    "\n",
    "# How do you check if an element exists in a list/tuple/sequential data type?\n",
    "\n",
    "# length, maximum, minimum\n",
    "\n",
    "len(mixed2)\n",
    "max(avogadro)\n",
    "min(avogadro)\n",
    "\n",
    "# Selecting one or more elements of the list\n",
    "\n",
    "mixed2[0]\n",
    "mixed[2:5]\n",
    "\n",
    "## Creating a tuple\n",
    "\n",
    "seinfeld = ('Jerry', 'Elaine', 'Costanza', 'Kramer', 'Newman')\n",
    "bools = (True, False, True, False, False)\n",
    "\n",
    "'Kramer' in seinfeld\n",
    "'newman' in seinfeld\n",
    "# Many of the methods and attributes of the list object also work with the tuple object\n",
    "# Try some of them\n",
    "\n",
    "```\n"
   ]
  },
  {
   "cell_type": "code",
   "execution_count": 4,
   "metadata": {},
   "outputs": [],
   "source": [
    "seinfeld = ('Jerry', 'Elaine', 'Costanza', 'Kramer', 'Newman')"
   ]
  },
  {
   "cell_type": "code",
   "execution_count": 3,
   "metadata": {},
   "outputs": [],
   "source": [
    "a, b = 12, 12"
   ]
  },
  {
   "cell_type": "code",
   "execution_count": 6,
   "metadata": {},
   "outputs": [],
   "source": [
    "mixed2 = languages + avogadro"
   ]
  },
  {
   "cell_type": "code",
   "execution_count": 98,
   "metadata": {},
   "outputs": [
    {
     "data": {
      "text/plain": [
       "False"
      ]
     },
     "execution_count": 98,
     "metadata": {},
     "output_type": "execute_result"
    }
   ],
   "source": [
    "languages.__contains__(\"french\")\n",
    "#dir(languages) # Also shows all the private attributes (metadata)"
   ]
  },
  {
   "cell_type": "code",
   "execution_count": 100,
   "metadata": {},
   "outputs": [
    {
     "data": {
      "text/plain": [
       "5"
      ]
     },
     "execution_count": 100,
     "metadata": {},
     "output_type": "execute_result"
    }
   ],
   "source": [
    "languages.__len__()"
   ]
  },
  {
   "cell_type": "code",
   "execution_count": 99,
   "metadata": {},
   "outputs": [
    {
     "data": {
      "text/plain": [
       "['__add__',\n",
       " '__class__',\n",
       " '__contains__',\n",
       " '__delattr__',\n",
       " '__delitem__',\n",
       " '__dir__',\n",
       " '__doc__',\n",
       " '__eq__',\n",
       " '__format__',\n",
       " '__ge__',\n",
       " '__getattribute__',\n",
       " '__getitem__',\n",
       " '__gt__',\n",
       " '__hash__',\n",
       " '__iadd__',\n",
       " '__imul__',\n",
       " '__init__',\n",
       " '__init_subclass__',\n",
       " '__iter__',\n",
       " '__le__',\n",
       " '__len__',\n",
       " '__lt__',\n",
       " '__mul__',\n",
       " '__ne__',\n",
       " '__new__',\n",
       " '__reduce__',\n",
       " '__reduce_ex__',\n",
       " '__repr__',\n",
       " '__reversed__',\n",
       " '__rmul__',\n",
       " '__setattr__',\n",
       " '__setitem__',\n",
       " '__sizeof__',\n",
       " '__str__',\n",
       " '__subclasshook__',\n",
       " 'append',\n",
       " 'clear',\n",
       " 'copy',\n",
       " 'count',\n",
       " 'extend',\n",
       " 'index',\n",
       " 'insert',\n",
       " 'pop',\n",
       " 'remove',\n",
       " 'reverse',\n",
       " 'sort']"
      ]
     },
     "execution_count": 99,
     "metadata": {},
     "output_type": "execute_result"
    }
   ],
   "source": [
    "dir(languages) # Also shows all the private attributes (metadata)"
   ]
  },
  {
   "cell_type": "markdown",
   "metadata": {},
   "source": [
    "#### Slice Notation\n",
    "To access one of more elements of a list or tuple, you can use Python's slice notation which is denoted by a colon (`:`).\n",
    "\n",
    "```python\n",
    "\n",
    "languages[0]\n",
    "mixed2[1:]\n",
    "mixed2[3:6] # the general rule is that a[m:n] gives you n-m elements starting with a[m]\n",
    "mixed2[-1] # Negative numbers means we start the counting from the end\n",
    "```"
   ]
  },
  {
   "cell_type": "code",
   "execution_count": null,
   "metadata": {},
   "outputs": [],
   "source": []
  },
  {
   "cell_type": "code",
   "execution_count": null,
   "metadata": {},
   "outputs": [],
   "source": []
  },
  {
   "cell_type": "markdown",
   "metadata": {},
   "source": [
    "The two other in-built Python data structures are [sets](https://docs.python.org/3/tutorial/datastructures.html#sets) and [dictionaries](https://docs.python.org/3/tutorial/datastructures.html#dictionaries).\n",
    "\n",
    "```python\n",
    "## Creating a dictionary\n",
    "\n",
    "d = {'AAPL': 'Apple', 'MSFT': 'Microsoft', \n",
    "           'GOOG': 'Google', 'TSLA': 'Tesla'}\n",
    "d['TSLA']\n",
    "\n",
    "# AAPL, MSFT, etc are called 'keys' and the corresponding objects that they are mapped to are called 'values'.\n",
    "print(d.keys())\n",
    "print(d.values())\n",
    "\n",
    "\n",
    "## Creating a set\n",
    "\n",
    "set1 = {'a', 'e', 'i', 'o', 'u'}\n",
    "set2 = {'a', 'u'}\n",
    "\n",
    "set1.issuperset(set2)\n",
    "set1.intersection(set2)\n",
    "\n",
    "```"
   ]
  },
  {
   "cell_type": "code",
   "execution_count": 110,
   "metadata": {},
   "outputs": [],
   "source": [
    "d = {\"AAPL\": \"Apple\",'MSFT': 'Microsoft', \n",
    "           'GOOG': 'Google', 'TSLA': 'Tesla' }"
   ]
  },
  {
   "cell_type": "code",
   "execution_count": 113,
   "metadata": {},
   "outputs": [
    {
     "data": {
      "text/plain": [
       "'Tesla'"
      ]
     },
     "execution_count": 113,
     "metadata": {},
     "output_type": "execute_result"
    }
   ],
   "source": [
    "d[\"TSLA\"]"
   ]
  },
  {
   "cell_type": "code",
   "execution_count": 127,
   "metadata": {},
   "outputs": [
    {
     "name": "stdout",
     "output_type": "stream",
     "text": [
      "dict_keys(['AAPL', 'MSFT', 'GOOG', 'TSLA'])\n"
     ]
    }
   ],
   "source": [
    "#d.keys()\n",
    "print(d.keys())"
   ]
  },
  {
   "cell_type": "code",
   "execution_count": 115,
   "metadata": {},
   "outputs": [],
   "source": [
    "set1 = {'a', 'e', 'i', 'o', 'u'}\n",
    "set2 = {'a', 'u'}"
   ]
  },
  {
   "cell_type": "code",
   "execution_count": 117,
   "metadata": {},
   "outputs": [
    {
     "data": {
      "text/plain": [
       "set"
      ]
     },
     "execution_count": 117,
     "metadata": {},
     "output_type": "execute_result"
    }
   ],
   "source": [
    "type(set1)\n"
   ]
  },
  {
   "cell_type": "code",
   "execution_count": 118,
   "metadata": {
    "scrolled": true
   },
   "outputs": [
    {
     "data": {
      "text/plain": [
       "True"
      ]
     },
     "execution_count": 118,
     "metadata": {},
     "output_type": "execute_result"
    }
   ],
   "source": [
    "set1.issuperset(set2)"
   ]
  },
  {
   "cell_type": "code",
   "execution_count": 119,
   "metadata": {},
   "outputs": [
    {
     "data": {
      "text/plain": [
       "False"
      ]
     },
     "execution_count": 119,
     "metadata": {},
     "output_type": "execute_result"
    }
   ],
   "source": [
    "set2.issuperset(set1)"
   ]
  },
  {
   "cell_type": "code",
   "execution_count": 120,
   "metadata": {},
   "outputs": [
    {
     "data": {
      "text/plain": [
       "{'a', 'u'}"
      ]
     },
     "execution_count": 120,
     "metadata": {},
     "output_type": "execute_result"
    }
   ],
   "source": [
    "set1.intersection(set2)"
   ]
  },
  {
   "cell_type": "markdown",
   "metadata": {},
   "source": [
    "### Loops and Branches\n",
    "\n",
    "What makes Python syntax less cluttered (without unnecessary parentheses, braces, etc.) and easier to read than many other languages is the use of indentations to delineate code blocks. Before defining code blocks, let's first look at what a Python program consists of. \n",
    "\n",
    "Any program we write consists of a set of statements. We can think of a statement as *the fundamental unit of a Python program*. A number of statements can be grouped into a larger chunk called a block. In fact, some would even say that a 'block' of code can be treated as one compound statement.\n",
    "\n",
    "Some of the more complex constructs that we encounter like functions or methods are composed of blocks.\n",
    "\n",
    "You'll understand them as we look at various examples now. Python can identify the different code blocks in any program **only from indentations**. \n",
    "\n",
    "The standard size for indentations is [4 spaces](https://www.python.org/dev/peps/pep-0008/#indentation). In IDEs like Spyder or Jupyter Notebook, the tab key takes care of this.\n",
    "\n",
    "Important points to remember:\n",
    "- The line before the start of any code block *always ends in a colon*.\n",
    "- All lines of code in a code block must have *the same amount of indentation*.\n",
    "\n",
    "```python\n",
    "\n",
    "## the if statement (Branches)\n",
    "\n",
    "people = 10\n",
    "sandwiches = 12\n",
    "coffees = 8\n",
    "\n",
    "if (sandwiches > people):\n",
    "    print(\"We've ordered too much food!\")\n",
    "else:\n",
    "    print(\"Have we ordered too few?\")\n",
    "    \n",
    "if coffees > people:\n",
    "    print(\"That's too much coffee\")\n",
    "elif coffees < people:\n",
    "    print(\"Too many people!\")\n",
    "else:\n",
    "    print(\"Ahh. Perfect. Just enough for everyone. No seconds though.\")\n",
    "\n",
    "```"
   ]
  },
  {
   "cell_type": "code",
   "execution_count": 134,
   "metadata": {},
   "outputs": [
    {
     "name": "stdout",
     "output_type": "stream",
     "text": [
      "We've ordered too much food!\n",
      "Ahh. Perfect. Just enough for everyone. No seconds though.\n"
     ]
    }
   ],
   "source": [
    "\n",
    "people = 10\n",
    "sandwiches = 12\n",
    "coffees = 10\n",
    "\n",
    "if (sandwiches > people):   #see that we can use parenthesis or omit them\n",
    "    print(\"We've ordered too much food!\")\n",
    "else:\n",
    "    print(\"Have we ordered too few?\")\n",
    "\n",
    "if coffees > people:\n",
    "    print(\"That's too much coffee\")\n",
    "elif coffees < people:\n",
    "    print(\"Too many people!\")\n",
    "else:\n",
    "    print(\"Ahh. Perfect. Just enough for everyone. No seconds though.\")"
   ]
  },
  {
   "cell_type": "code",
   "execution_count": 138,
   "metadata": {},
   "outputs": [
    {
     "data": {
      "text/plain": [
       "['English', 'Hindi', 'Tamil', 'German', 'Dothraki', 6, 0, 2, 3, 10, 23]"
      ]
     },
     "execution_count": 138,
     "metadata": {},
     "output_type": "execute_result"
    }
   ],
   "source": [
    "mixed2"
   ]
  },
  {
   "cell_type": "code",
   "execution_count": 137,
   "metadata": {},
   "outputs": [
    {
     "name": "stdout",
     "output_type": "stream",
     "text": [
      "English\n",
      "Hindi\n",
      "Tamil\n",
      "German\n",
      "Dothraki\n",
      "6\n",
      "0\n",
      "2\n",
      "3\n",
      "10\n",
      "23\n"
     ]
    }
   ],
   "source": [
    "for x in mixed2:\n",
    "    print(x)"
   ]
  },
  {
   "cell_type": "code",
   "execution_count": 144,
   "metadata": {},
   "outputs": [
    {
     "name": "stdout",
     "output_type": "stream",
     "text": [
      "0\n",
      "1\n",
      "2\n",
      "3\n",
      "4\n",
      "5\n",
      "6\n",
      "7\n",
      "8\n",
      "9\n"
     ]
    }
   ],
   "source": [
    "range(10)\n",
    "for i in range(10):\n",
    "    print(i)"
   ]
  },
  {
   "cell_type": "code",
   "execution_count": 147,
   "metadata": {},
   "outputs": [
    {
     "name": "stdout",
     "output_type": "stream",
     "text": [
      "English\n",
      "Hindi\n",
      "Tamil\n",
      "German\n",
      "Dothraki\n",
      "6\n",
      "0\n",
      "2\n",
      "3\n",
      "10\n",
      "23\n"
     ]
    }
   ],
   "source": [
    "for i in range(len(mixed2)):\n",
    "    print(mixed2[i])\n"
   ]
  },
  {
   "cell_type": "code",
   "execution_count": 145,
   "metadata": {},
   "outputs": [
    {
     "data": {
      "text/plain": [
       "[0, 1, 2, 3, 4, 5, 6, 7, 8, 9]"
      ]
     },
     "execution_count": 145,
     "metadata": {},
     "output_type": "execute_result"
    }
   ],
   "source": [
    "list(range(10))\n"
   ]
  },
  {
   "cell_type": "markdown",
   "metadata": {},
   "source": [
    "In programming, one of the key tasks we perform is performing a certain set of actions repeatedly for a sequence of data. Here's where Python's `for` loop comes into its own. It has a simple and flexible interface which allows us to iterate through many 'iterable' objects. 'Iterable' essentially means anything that can be looped over.\n",
    "\n",
    "```python\n",
    "## the for statement (Loops)\n",
    "\n",
    "for x in mixed2:\n",
    "    print(x)\n",
    "    \n",
    "range(10)\n",
    "\n",
    "for i in range(10):\n",
    "    print(i)\n",
    "    \n",
    "    \n",
    "vowels = 'aeiou'\n",
    "\n",
    "for letter in 'transformation':\n",
    "    if letter in vowels:\n",
    "        print(letter)\n",
    "        \n",
    "    \n",
    "# Notice that Python loops over seamlessly without explicit indexing (this observation is for those who \n",
    "# have programmed in other languages)\n",
    "\n",
    "# So essentially, you don't need to run it as shown below.\n",
    "\n",
    "for i in range(len(mixed2)):\n",
    "    print(mixed2[i])\n",
    "\n",
    "\n",
    "# If you need the index from a list, you can use the enumerate() method    \n",
    "\n",
    "for i, language in enumerate(languages):\n",
    "    print(f\"languages[{i}]: {language}\")\n",
    "    \n",
    "## Another handy function is zip() which can be used for iterating through multiple sequences simultaneously\n",
    "## Check out this example\n",
    "\n",
    "tickers = ('AMD', 'BABA', 'INFY')\n",
    "names = ('Advanced Micro Devices', 'Alibaba', 'Infosys')\n",
    "cities = ('Santa Clara, California in the United States', 'Hangzhou in China', 'Bangalore in India') \n",
    "\n",
    "for ticker, name, city in zip(tickers, names, cities):\n",
    "    print(f\"{name} (Ticker Symbol:{ticker}) was founded in the city of {city}.\")\n",
    "\n",
    " \n",
    "```\n"
   ]
  },
  {
   "cell_type": "code",
   "execution_count": 148,
   "metadata": {},
   "outputs": [
    {
     "name": "stdout",
     "output_type": "stream",
     "text": [
      "languages[0]: English\n",
      "languages[1]: Hindi\n",
      "languages[2]: Tamil\n",
      "languages[3]: German\n",
      "languages[4]: Dothraki\n"
     ]
    }
   ],
   "source": [
    "for i, language in enumerate(languages):\n",
    "    print(f\"languages[{i}]: {language}\")"
   ]
  },
  {
   "cell_type": "code",
   "execution_count": 146,
   "metadata": {},
   "outputs": [
    {
     "name": "stdout",
     "output_type": "stream",
     "text": [
      "a\n",
      "o\n",
      "a\n",
      "i\n",
      "o\n"
     ]
    }
   ],
   "source": [
    "vowels = 'aeiou'\n",
    "\n",
    "for letter in 'transformation':\n",
    "    if letter in vowels:\n",
    "        print(letter)"
   ]
  },
  {
   "cell_type": "markdown",
   "metadata": {},
   "source": [
    "```python\n",
    "## Using break and continue in loops and branches\n",
    "# When iterating through a sequence, you can exit the loop completely using break\n",
    "# and skip the current iteration using continue. See the example below.\n",
    "# Before running it, think about what the expected output would be.\n",
    "\n",
    "for i in range(10):\n",
    "    if i == 4:\n",
    "        continue\n",
    "    elif i == 6:\n",
    "        break\n",
    "    print(i)\n",
    "```"
   ]
  },
  {
   "cell_type": "code",
   "execution_count": 152,
   "metadata": {},
   "outputs": [
    {
     "name": "stdout",
     "output_type": "stream",
     "text": [
      "Advanced Micro Devices (Ticker Symbol:AMD) was founded in the city of Santa Clara, California in the United States.\n",
      "Alibaba (Ticker Symbol:BABA) was founded in the city of Hangzhou in China.\n",
      "Infosys (Ticker Symbol:INFY) was founded in the city of Bangalore in India.\n",
      "Microsoft (Ticker Symbol:MSFT) was founded in the city of Seattle.\n"
     ]
    }
   ],
   "source": [
    "tickers = ('AMD', 'BABA', 'INFY', 'MSFT')\n",
    "names = ('Advanced Micro Devices', 'Alibaba', 'Infosys', \"Microsoft\")\n",
    "cities = ('Santa Clara, California in the United States', 'Hangzhou in China', 'Bangalore in India', 'Seattle') \n",
    "\n",
    "for ticker, name, city in zip(tickers, names, cities):\n",
    "    print(f\"{name} (Ticker Symbol:{ticker}) was founded in the city of {city}.\")\n"
   ]
  },
  {
   "cell_type": "code",
   "execution_count": 153,
   "metadata": {},
   "outputs": [
    {
     "name": "stdout",
     "output_type": "stream",
     "text": [
      "0\n",
      "1\n",
      "2\n",
      "3\n",
      "5\n"
     ]
    }
   ],
   "source": [
    "for i in range(10):\n",
    "    if i == 4:\n",
    "        continue\n",
    "    elif i == 6:\n",
    "        break\n",
    "    print(i)"
   ]
  },
  {
   "cell_type": "markdown",
   "metadata": {},
   "source": [
    "``` python\n",
    "## the while statement (loops)\n",
    "# Repeat the action until a specified condition is met\n",
    "\n",
    "a = 20\n",
    "\n",
    "while a < 25:\n",
    "    print(a)\n",
    "    a = a + 1\n",
    "\n",
    "## The statement a = a + 1 can be replaced by a += 1. Similarly, a -= 1 means a = a - 1\n",
    "    \n",
    "b = 5\n",
    "\n",
    "while b < 10:\n",
    "    print(b)\n",
    "\n",
    "    \n",
    "## You can use loops or branches to build lists\n",
    "\n",
    "elements = []\n",
    "\n",
    "for i in range(5, 10):\n",
    "    print(\"Adding {} to the newly formed list\".format(i))\n",
    "    elements.append(i)\n",
    "```"
   ]
  },
  {
   "cell_type": "code",
   "execution_count": 154,
   "metadata": {},
   "outputs": [
    {
     "name": "stdout",
     "output_type": "stream",
     "text": [
      "Adding 5 to the newly formed list\n",
      "Adding 6 to the newly formed list\n",
      "Adding 7 to the newly formed list\n",
      "Adding 8 to the newly formed list\n",
      "Adding 9 to the newly formed list\n"
     ]
    }
   ],
   "source": [
    "elements = []\n",
    "\n",
    "for i in range(5, 10):\n",
    "    print(\"Adding {} to the newly formed list\".format(i))\n",
    "    elements.append(i)"
   ]
  },
  {
   "cell_type": "code",
   "execution_count": 156,
   "metadata": {},
   "outputs": [
    {
     "data": {
      "text/plain": [
       "[5, 6, 7, 8, 9]"
      ]
     },
     "execution_count": 156,
     "metadata": {},
     "output_type": "execute_result"
    }
   ],
   "source": [
    "elements"
   ]
  },
  {
   "cell_type": "markdown",
   "metadata": {},
   "source": [
    "### Comparisons and Logical Operators\n",
    "\n",
    "A number of different operations or expressions evaluate to a Boolean value (`True` or `False`)\n",
    "We'll go through a number of examples which will help us appreciate this and will help us write better programs.\n",
    "\n",
    "```python\n",
    "\n",
    "a, b = 10, 15\n",
    "a < b\n",
    "\n",
    "a > b\n",
    "```\n",
    "One of the nice features in Python is that we can *chain together* inequalities.\n",
    "```python\n",
    "1 < 2 < 3\n",
    "```\n",
    "\n",
    "Remember that in Python, an `=` is used for assigning the LHS to the RHS like we've done numerous times so far. However, a `==` expression is used to *test* the equality of the LHS to the RHS.\n",
    "\n",
    "```python\n",
    "x = 1 # this is an assignment\n",
    "x == 2 # this is comparison\n",
    "\n",
    "x != 2 # we use this expression for 'not equal to'\n",
    "```\n",
    "We can combine expressions using `and`, `or` and `not`. You would have seen this in Excel too.\n",
    "\n",
    "\n",
    "```python\n",
    "## Before running each line below, think of what the output would be\n",
    "\n",
    "2 < 3 and 'f' in 'foo'\n",
    "3 < 4 and '0' in 'foo'\n",
    "4 < 5 or 'y' in 'baz'\n",
    "not 5 < 6 and True\n",
    "not not False\n",
    "not True\n",
    "\n",
    "```\n",
    "\n"
   ]
  },
  {
   "cell_type": "code",
   "execution_count": 157,
   "metadata": {},
   "outputs": [
    {
     "data": {
      "text/plain": [
       "False"
      ]
     },
     "execution_count": 157,
     "metadata": {},
     "output_type": "execute_result"
    }
   ],
   "source": [
    "not 5 < 6 and True"
   ]
  },
  {
   "cell_type": "code",
   "execution_count": null,
   "metadata": {},
   "outputs": [],
   "source": []
  },
  {
   "cell_type": "markdown",
   "metadata": {},
   "source": [
    "### List Comprehensions and One line `if` statements\n",
    "\n",
    "```python\n",
    "## Below is an example of a one line if statement\n",
    "\n",
    "price = 60\n",
    "sma50 = 55\n",
    "\n",
    "signal = 'Buy' if price < sma50 else 'Sell'\n",
    "signal\n",
    "\n",
    "## Write the above line using the regular 'if' statement\n",
    "\n",
    "\n",
    "## Now we'll look at some examples of list comprehension\n",
    "## This is an elegant tool to dynamically create sequences from other sequences (be it lists, sets, etc.)\n",
    "\n",
    "prices = [ 20, 24, 19, 26, 17, 16, 18]\n",
    "sma22 = 22\n",
    "\n",
    "from math import log # We're importing a library here, more on this later. For now, just run this so that\n",
    "# we can compute logs\n",
    "\n",
    "lprices = [log(price) for price in prices]\n",
    "\n",
    "## Let's now add some conditions\n",
    "\n",
    "evenprices = [price for price in prices if price%2==0] # single condition\n",
    "\n",
    "signals = ['Buy' if price < sma22 else 'Sell' for price in prices] # if-else condition\n",
    "\n",
    "\n",
    "```\n",
    "\n",
    "\n",
    "\n",
    "\n",
    "\n",
    "\n",
    "\n"
   ]
  },
  {
   "cell_type": "code",
   "execution_count": 158,
   "metadata": {},
   "outputs": [
    {
     "data": {
      "text/plain": [
       "'Sell'"
      ]
     },
     "execution_count": 158,
     "metadata": {},
     "output_type": "execute_result"
    }
   ],
   "source": [
    "price = 60\n",
    "sma50 = 55\n",
    "\n",
    "signal = 'Buy' if price < sma50 else 'Sell'\n",
    "signal"
   ]
  },
  {
   "cell_type": "code",
   "execution_count": 160,
   "metadata": {},
   "outputs": [
    {
     "data": {
      "text/plain": [
       "[2.995732273553991,\n",
       " 3.1780538303479458,\n",
       " 2.9444389791664403,\n",
       " 3.258096538021482,\n",
       " 2.833213344056216,\n",
       " 2.772588722239781,\n",
       " 2.8903717578961645]"
      ]
     },
     "execution_count": 160,
     "metadata": {},
     "output_type": "execute_result"
    }
   ],
   "source": [
    "prices = [ 20, 24, 19, 26, 17, 16, 18]\n",
    "sma22 = 22\n",
    "\n",
    "from math import log \n",
    "\n",
    "lprices = [log(price) for price in prices]\n",
    "lprices"
   ]
  },
  {
   "cell_type": "code",
   "execution_count": 163,
   "metadata": {
    "scrolled": true
   },
   "outputs": [
    {
     "data": {
      "text/plain": [
       "[20, 24, 26, 16, 18]"
      ]
     },
     "execution_count": 163,
     "metadata": {},
     "output_type": "execute_result"
    }
   ],
   "source": [
    "evenprices = [price for price in prices if price%2==0] # single condition\n",
    "evenprices"
   ]
  },
  {
   "cell_type": "code",
   "execution_count": 166,
   "metadata": {},
   "outputs": [
    {
     "data": {
      "text/plain": [
       "['Buy', 'Sell', 'Buy', 'Sell', 'Buy', 'Buy', 'Buy']"
      ]
     },
     "execution_count": 166,
     "metadata": {},
     "output_type": "execute_result"
    }
   ],
   "source": [
    "signals = ['Buy' if price < sma22 else 'Sell' for price in prices] # if-else condition\n",
    "signals"
   ]
  },
  {
   "cell_type": "markdown",
   "metadata": {},
   "source": [
    "### Functions\n",
    "\n",
    "Functions are a set of statements that together perform a particular task. For example, we can create a function to find the maximum in a list of numbers. Fortunately for us, there are hundreds of functions which are native or built-in to Python. We often refer to them as `methods` since they are associated with objects.\n",
    "\n",
    "One of the key design features of Python is, it's a relatively small core language supported by **many high quality libraries (mostly from third parties)**. So we import them depending on the actions/tasks we need to perform. These **libraries are also loosely referred to as modules or packages**. You'll find these words used interchangeably. So get used to it.\n",
    "\n",
    "We shall also learn to create our own functions for tasks that are unique to our objectives (if the built-in or the functions that come from libraries do not suffice). **User-defined functions** improve the clarity of our code and [facilitate code reuse](https://en.wikipedia.org/wiki/Don%27t_repeat_yourself), a cardinal principle of good programming.\n",
    "\n",
    "We can also create anonymous functions called `lambda` functions which can be very convenient in some cases.\n",
    "\n",
    "```python\n",
    "\n",
    "## Some commonly used functions which some of which we have seen already\n",
    "## Try each of them out and see if you can guess what the output would be\n",
    "\n",
    "min(20, 21, 25, 21, 9, 18, 15)\n",
    "round(100/9, 2)\n",
    "list(range(5))\n",
    "type(range(10)\n",
    "\n",
    "## Exercise to do on your own time: Read about the any() and all() functions and check out some use cases online\n",
    "```"
   ]
  },
  {
   "cell_type": "code",
   "execution_count": 174,
   "metadata": {},
   "outputs": [
    {
     "data": {
      "text/plain": [
       "9"
      ]
     },
     "execution_count": 174,
     "metadata": {},
     "output_type": "execute_result"
    }
   ],
   "source": [
    "min(20, 21,25,9,18,15) "
   ]
  },
  {
   "cell_type": "code",
   "execution_count": 177,
   "metadata": {},
   "outputs": [
    {
     "data": {
      "text/plain": [
       "11.11111"
      ]
     },
     "execution_count": 177,
     "metadata": {},
     "output_type": "execute_result"
    }
   ],
   "source": [
    "round(100/9, 5)"
   ]
  },
  {
   "cell_type": "code",
   "execution_count": 180,
   "metadata": {},
   "outputs": [
    {
     "data": {
      "text/plain": [
       "[0, 1, 2, 3, 4]"
      ]
     },
     "execution_count": 180,
     "metadata": {},
     "output_type": "execute_result"
    }
   ],
   "source": [
    "list(range(5))"
   ]
  },
  {
   "cell_type": "code",
   "execution_count": 181,
   "metadata": {},
   "outputs": [
    {
     "data": {
      "text/plain": [
       "range"
      ]
     },
     "execution_count": 181,
     "metadata": {},
     "output_type": "execute_result"
    }
   ],
   "source": [
    "type(range(10))"
   ]
  },
  {
   "cell_type": "markdown",
   "metadata": {},
   "source": [
    "```python\n",
    "\n",
    "## Importing libraries\n",
    "```\n",
    "We import or load these libraries using the keyword `import`. We usually import it using an alias to make access easier. If we want to import all the components of a library, we can use *\n",
    "\n",
    "```python\n",
    "\n",
    "import sys\n",
    "import pandas as pd\n",
    "import numpy as np\n",
    "from math import * # this is almost always a bad idea. Because you won't know what exactly is imported. \n",
    "# Plus namespace issues (you can read about this online)\n",
    "\n",
    "# instead import only what you need\n",
    "from math import log\n",
    "\n",
    "# You can also import only a sublibrary if that's all you need\n",
    "\n",
    "import statsmodels.stats as sms\n",
    "\n",
    "## to check what components exist in the imported library we use dir()\n",
    "## Use it for some of the libaries that we just imported\n",
    "\n",
    "```\n"
   ]
  },
  {
   "cell_type": "code",
   "execution_count": 182,
   "metadata": {},
   "outputs": [],
   "source": [
    "import sys"
   ]
  },
  {
   "cell_type": "code",
   "execution_count": 187,
   "metadata": {},
   "outputs": [],
   "source": [
    "import pandas"
   ]
  },
  {
   "cell_type": "code",
   "execution_count": 188,
   "metadata": {},
   "outputs": [],
   "source": [
    "import math\n"
   ]
  },
  {
   "cell_type": "code",
   "execution_count": 189,
   "metadata": {
    "scrolled": true
   },
   "outputs": [
    {
     "data": {
      "text/plain": [
       "['__doc__',\n",
       " '__loader__',\n",
       " '__name__',\n",
       " '__package__',\n",
       " '__spec__',\n",
       " 'acos',\n",
       " 'acosh',\n",
       " 'asin',\n",
       " 'asinh',\n",
       " 'atan',\n",
       " 'atan2',\n",
       " 'atanh',\n",
       " 'ceil',\n",
       " 'copysign',\n",
       " 'cos',\n",
       " 'cosh',\n",
       " 'degrees',\n",
       " 'e',\n",
       " 'erf',\n",
       " 'erfc',\n",
       " 'exp',\n",
       " 'expm1',\n",
       " 'fabs',\n",
       " 'factorial',\n",
       " 'floor',\n",
       " 'fmod',\n",
       " 'frexp',\n",
       " 'fsum',\n",
       " 'gamma',\n",
       " 'gcd',\n",
       " 'hypot',\n",
       " 'inf',\n",
       " 'isclose',\n",
       " 'isfinite',\n",
       " 'isinf',\n",
       " 'isnan',\n",
       " 'ldexp',\n",
       " 'lgamma',\n",
       " 'log',\n",
       " 'log10',\n",
       " 'log1p',\n",
       " 'log2',\n",
       " 'modf',\n",
       " 'nan',\n",
       " 'pi',\n",
       " 'pow',\n",
       " 'radians',\n",
       " 'remainder',\n",
       " 'sin',\n",
       " 'sinh',\n",
       " 'sqrt',\n",
       " 'tan',\n",
       " 'tanh',\n",
       " 'tau',\n",
       " 'trunc']"
      ]
     },
     "execution_count": 189,
     "metadata": {},
     "output_type": "execute_result"
    }
   ],
   "source": [
    "dir(math)"
   ]
  },
  {
   "cell_type": "markdown",
   "metadata": {},
   "source": [
    "```python\n",
    "## User defined function\n",
    "```\n",
    "We define a function using the keyword `def` followed by the function name and the arguments that it takes as input. We then write our lines of code as a code block to specify the actions that need to be performed. A function can return any kind of object including other functions. For this, we use `return` statements. We can have any number of `return` statements (including zero). We **call** a function using its name and passing it the arguments that it needs as input.\n",
    "\n",
    "```python\n",
    "\n",
    "def f(x):\n",
    "    if x < 0:\n",
    "        return 'Negative number'\n",
    "    return 'Non-negative number'\n",
    "\n",
    "def hypotenuse(a, b):\n",
    "    return np.sqrt(a**2 + b**2)\n",
    "```\n"
   ]
  },
  {
   "cell_type": "code",
   "execution_count": 190,
   "metadata": {},
   "outputs": [],
   "source": [
    "import numpy as np\n"
   ]
  },
  {
   "cell_type": "code",
   "execution_count": 191,
   "metadata": {},
   "outputs": [],
   "source": [
    "def f(x):\n",
    "    if x < 0:\n",
    "        return 'Negative number'\n",
    "    return 'Non-negative number'\n",
    "\n",
    "def hypotenuse(a, b):\n",
    "    return np.sqrt(a**2 + b**2)"
   ]
  },
  {
   "cell_type": "code",
   "execution_count": 192,
   "metadata": {},
   "outputs": [
    {
     "data": {
      "text/plain": [
       "'Non-negative number'"
      ]
     },
     "execution_count": 192,
     "metadata": {},
     "output_type": "execute_result"
    }
   ],
   "source": [
    "f(2)"
   ]
  },
  {
   "cell_type": "code",
   "execution_count": 173,
   "metadata": {},
   "outputs": [
    {
     "data": {
      "text/plain": [
       "4.47213595499958"
      ]
     },
     "execution_count": 173,
     "metadata": {},
     "output_type": "execute_result"
    }
   ],
   "source": [
    "hypotenuse(2, 4)"
   ]
  },
  {
   "cell_type": "code",
   "execution_count": 169,
   "metadata": {},
   "outputs": [
    {
     "ename": "SyntaxError",
     "evalue": "invalid syntax (<ipython-input-169-91595db0e493>, line 1)",
     "output_type": "error",
     "traceback": [
      "\u001b[1;36m  File \u001b[1;32m\"<ipython-input-169-91595db0e493>\"\u001b[1;36m, line \u001b[1;32m1\u001b[0m\n\u001b[1;33m    ```python\u001b[0m\n\u001b[1;37m    ^\u001b[0m\n\u001b[1;31mSyntaxError\u001b[0m\u001b[1;31m:\u001b[0m invalid syntax\n"
     ]
    }
   ],
   "source": [
    "```python\n",
    "\n",
    "## Lambda functions: Especially convenient when operations performed are relatively straightforward\n",
    "## Let's create the equivalent of the function hypotenuse using the lambda function\n",
    "\n",
    "hypotenuse = lambda a, b: np.sqrt(a ** 2 + b ** 2)\n",
    "\n",
    "```\n"
   ]
  },
  {
   "cell_type": "code",
   "execution_count": 193,
   "metadata": {},
   "outputs": [
    {
     "data": {
      "text/plain": [
       "4.47213595499958"
      ]
     },
     "execution_count": 193,
     "metadata": {},
     "output_type": "execute_result"
    }
   ],
   "source": [
    "hypotenuse = lambda a, b: np.sqrt(a ** 2 + b ** 2)\n",
    "hypotenuse(2, 4)"
   ]
  },
  {
   "cell_type": "code",
   "execution_count": null,
   "metadata": {},
   "outputs": [],
   "source": []
  },
  {
   "cell_type": "markdown",
   "metadata": {},
   "source": [
    "### NumPy\n",
    "\n",
    "`NumPy` is a very popular library and an integral part of the scientific ecosystem in Python. It is widely used in academia, finance and industry. The key purpose that `NumPy` serves is fast processing with low memory overheads.\n",
    "The data is stored as an array data type which is called a `numpy.ndarray`. These arrays are somewhat like native Python lists, except that the data must be homogeneous (all elements of the same type). \n",
    "\n",
    "`NumPy` is best utilized when the computations that have to be performed can be **vectorized**. Vectorization essentially involves the elimination of a `for` loop in performing the task. Meaning, rather than performing the same task sequentially hundreds of times, it is done so batchwise. For ex. computing moving averages for an entire array, or generating a sequence of random values."
   ]
  },
  {
   "cell_type": "markdown",
   "metadata": {},
   "source": [
    "```python\n",
    "\n",
    "import numpy as np\n",
    "\n",
    "np.__version__\n",
    "x = np.random.normal(0, 1, size=10000) # Generates random sample from a normal distribution with mu=0 and sigma=1\n",
    "x.mean()\n",
    "\n",
    "y = np.linspace(0, 10, 100) # Generates 100 equally spaced points between 0 and 100\n",
    "y.cumsum() # Computes the cumulative sum\n",
    "len(y)\n",
    "x.max()\n",
    "x.std()\n",
    "\n",
    "height = [1.73, 1.68, 1.71, 1.89, 1.79]\n",
    "weight = [65.4, 59.2, 63.6, 88.4, 68.7]\n",
    "\n",
    "weight / height ** 2 # What's the output? ---->>> THIS WOULDNT WORK> We'd have to convert the list into an array\n",
    "\n",
    "np_height = np.array(height) # converting the list to a NumPy ndarray\n",
    "np_weight = np.array(weight)\n",
    "\n",
    "bmi = np_weight / np_height ** 2\n",
    "## this is a vectorized calculation step\n",
    "\n",
    "x = np.random.randn(10) # Generating a random sample drawn from a standard normal distribution\n",
    "np.where(x > 0, True, False) # This gives an NumPy ndarray where you get True if specified condition\n",
    "# is satisfied and False if it is not. A neat little trick which you'll see a lot of when we start writing\n",
    "# codes for strategies\n",
    "\n",
    "```"
   ]
  },
  {
   "cell_type": "code",
   "execution_count": 2,
   "metadata": {},
   "outputs": [
    {
     "ename": "TypeError",
     "evalue": "unsupported operand type(s) for ** or pow(): 'list' and 'int'",
     "output_type": "error",
     "traceback": [
      "\u001b[1;31m---------------------------------------------------------------------------\u001b[0m",
      "\u001b[1;31mTypeError\u001b[0m                                 Traceback (most recent call last)",
      "\u001b[1;32m<ipython-input-2-b858f1a6f73a>\u001b[0m in \u001b[0;36m<module>\u001b[1;34m()\u001b[0m\n\u001b[0;32m      2\u001b[0m \u001b[0mweight\u001b[0m \u001b[1;33m=\u001b[0m \u001b[1;33m[\u001b[0m\u001b[1;36m65.4\u001b[0m\u001b[1;33m,\u001b[0m \u001b[1;36m59.2\u001b[0m\u001b[1;33m,\u001b[0m \u001b[1;36m63.6\u001b[0m\u001b[1;33m,\u001b[0m \u001b[1;36m88.4\u001b[0m\u001b[1;33m,\u001b[0m \u001b[1;36m68.7\u001b[0m\u001b[1;33m]\u001b[0m\u001b[1;33m\u001b[0m\u001b[0m\n\u001b[0;32m      3\u001b[0m \u001b[1;33m\u001b[0m\u001b[0m\n\u001b[1;32m----> 4\u001b[1;33m \u001b[0mweight\u001b[0m \u001b[1;33m/\u001b[0m \u001b[0mheight\u001b[0m \u001b[1;33m**\u001b[0m \u001b[1;36m2\u001b[0m\u001b[1;33m\u001b[0m\u001b[0m\n\u001b[0m",
      "\u001b[1;31mTypeError\u001b[0m: unsupported operand type(s) for ** or pow(): 'list' and 'int'"
     ]
    }
   ],
   "source": [
    "height = [1.73, 1.68, 1.71, 1.89, 1.79]\n",
    "weight = [65.4, 59.2, 63.6, 88.4, 68.7]\n",
    "\n",
    "weight / height ** 2"
   ]
  },
  {
   "cell_type": "code",
   "execution_count": 2,
   "metadata": {
    "scrolled": true
   },
   "outputs": [
    {
     "data": {
      "text/plain": [
       "'1.15.1'"
      ]
     },
     "execution_count": 2,
     "metadata": {},
     "output_type": "execute_result"
    }
   ],
   "source": [
    "import numpy as np\n",
    "\n",
    "np.__version__"
   ]
  },
  {
   "cell_type": "code",
   "execution_count": 7,
   "metadata": {},
   "outputs": [],
   "source": [
    "np_height = np.array(height) # converting the list to a NumPy ndarray\n",
    "np_weight = np.array(weight)\n",
    "\n",
    "bmi = np_weight / np_height ** 2\n",
    "## this is a vectorized calculation step"
   ]
  },
  {
   "cell_type": "code",
   "execution_count": 8,
   "metadata": {},
   "outputs": [
    {
     "data": {
      "text/plain": [
       "array([21.85171573, 20.97505669, 21.75028214, 24.7473475 , 21.44127836])"
      ]
     },
     "execution_count": 8,
     "metadata": {},
     "output_type": "execute_result"
    }
   ],
   "source": [
    "bmi"
   ]
  },
  {
   "cell_type": "code",
   "execution_count": 9,
   "metadata": {},
   "outputs": [
    {
     "data": {
      "text/plain": [
       "24.74734749867025"
      ]
     },
     "execution_count": 9,
     "metadata": {},
     "output_type": "execute_result"
    }
   ],
   "source": [
    "bmi[3] # BMI of the the 4th person"
   ]
  },
  {
   "cell_type": "code",
   "execution_count": 12,
   "metadata": {},
   "outputs": [
    {
     "data": {
      "text/plain": [
       "0.004785774503941872"
      ]
     },
     "execution_count": 12,
     "metadata": {},
     "output_type": "execute_result"
    }
   ],
   "source": [
    "x = np.random.normal(0, 1, size=10000) # Generates random sample from a normal distribution with mu=0 and sigma=1\n",
    "x.mean()"
   ]
  },
  {
   "cell_type": "code",
   "execution_count": 3,
   "metadata": {},
   "outputs": [],
   "source": [
    "np.random.randn?"
   ]
  },
  {
   "cell_type": "code",
   "execution_count": 17,
   "metadata": {},
   "outputs": [],
   "source": [
    "y=np.random.randn(10)"
   ]
  },
  {
   "cell_type": "code",
   "execution_count": 18,
   "metadata": {},
   "outputs": [
    {
     "data": {
      "text/plain": [
       "(array([0, 8, 9], dtype=int64),)"
      ]
     },
     "execution_count": 18,
     "metadata": {},
     "output_type": "execute_result"
    }
   ],
   "source": [
    "np.where(y>0) # gives me the index of the values where the array mets the condition. NOT THE VALUES"
   ]
  },
  {
   "cell_type": "code",
   "execution_count": 20,
   "metadata": {},
   "outputs": [
    {
     "data": {
      "text/plain": [
       "array([ True, False, False, False, False, False, False, False,  True,\n",
       "        True])"
      ]
     },
     "execution_count": 20,
     "metadata": {},
     "output_type": "execute_result"
    }
   ],
   "source": [
    "np.where(y>0, True, False)"
   ]
  },
  {
   "cell_type": "code",
   "execution_count": 21,
   "metadata": {},
   "outputs": [
    {
     "data": {
      "text/plain": [
       "array([1.99235936, 0.42861182, 0.3541579 ])"
      ]
     },
     "execution_count": 21,
     "metadata": {},
     "output_type": "execute_result"
    }
   ],
   "source": [
    "y[np.where(y>0)] # to the the values that met the condition, not the index"
   ]
  },
  {
   "cell_type": "markdown",
   "metadata": {},
   "source": [
    "### pandas\n",
    "\n",
    "`pandas` like `NumPy` is a key constituent of the scientific computing framework in Python. It's a powerful tool which can perform data manipulation and other excel like operations at high speed. It is built on top of NumPy. To give you a sense of how comprehensive it is, the [official documentation](https://pandas.pydata.org/pandas-docs/stable/) of `pandas` is over 2500 pages!\n",
    "\n",
    "Many of the more sophisticated statistical libraries such as `statsmodels` and `scikit-learn` are built on top of `pandas`.\n",
    "\n",
    "```python\n",
    "\n",
    "import pandas as pd\n",
    "import numpy as np\n",
    "```\n",
    "\n",
    "Two of the most important data structures in `pandas` that we will extensively use are `Series` and `DataFrame`.\n",
    "\n",
    "`Series` can be thought of as a single 'column' of data. `DataFrame` on other hand is like an Excel sheet with multiple columns of data.\n",
    "```python\n",
    "\n",
    "## Series\n",
    "\n",
    "\n",
    "returns = pd.Series(np.random.randn(5), name='Annual Returns')\n",
    "# check the type of object that returns is\n",
    "\n",
    "returns\n",
    "# Notice that the output automatically creates indices numbered from 0 to 4. This is similar to a NumPy array.\n",
    "# But there are many additional features unique to pandas Series\n",
    "\n",
    "returns.describe()\n",
    "\n",
    "# You can change the index to something more meaningful\n",
    "\n",
    "returns.index = ['CSCO', 'EBAY', 'GM', 'JNJ', 'NKE']\n",
    "\n",
    "```\n",
    "\n",
    "In fact, `Series` are like Python dictionaries, with the index being analogous to the `keys` and the actual data equivalent to `values`. Even the syntax is similar to Python dictionaries.\n",
    "\n",
    "```python\n",
    "\n",
    "returns['JNJ']\n",
    "returns['NKE'] = 0.4\n",
    "\n",
    "returns\n",
    "'MSFT' in returns\n",
    "```"
   ]
  },
  {
   "cell_type": "code",
   "execution_count": 1,
   "metadata": {},
   "outputs": [
    {
     "data": {
      "text/plain": [
       "0    1.845048\n",
       "1   -0.327765\n",
       "2   -0.294586\n",
       "3   -2.001989\n",
       "4    0.816332\n",
       "Name: Annual Returns, dtype: float64"
      ]
     },
     "execution_count": 1,
     "metadata": {},
     "output_type": "execute_result"
    }
   ],
   "source": [
    "import pandas as pd\n",
    "import numpy as np\n",
    "returns = pd.Series(np.random.randn(5), name='Annual Returns')\n",
    "returns"
   ]
  },
  {
   "cell_type": "code",
   "execution_count": 199,
   "metadata": {},
   "outputs": [
    {
     "data": {
      "text/plain": [
       "pandas.core.series.Series"
      ]
     },
     "execution_count": 199,
     "metadata": {},
     "output_type": "execute_result"
    }
   ],
   "source": [
    "type(returns)"
   ]
  },
  {
   "cell_type": "code",
   "execution_count": 24,
   "metadata": {},
   "outputs": [
    {
     "data": {
      "text/plain": [
       "count    5.000000\n",
       "mean     0.324970\n",
       "std      0.959088\n",
       "min     -0.697628\n",
       "25%     -0.123679\n",
       "50%      0.026988\n",
       "75%      0.585677\n",
       "max      1.833493\n",
       "Name: Annual Returns, dtype: float64"
      ]
     },
     "execution_count": 24,
     "metadata": {},
     "output_type": "execute_result"
    }
   ],
   "source": [
    "returns.describe()"
   ]
  },
  {
   "cell_type": "raw",
   "metadata": {},
   "source": []
  },
  {
   "cell_type": "code",
   "execution_count": 25,
   "metadata": {},
   "outputs": [
    {
     "data": {
      "text/plain": [
       "0   -0.123679\n",
       "1    1.833493\n",
       "2   -0.697628\n",
       "3    0.026988\n",
       "4    0.585677\n",
       "Name: Annual Returns, dtype: float64"
      ]
     },
     "execution_count": 25,
     "metadata": {},
     "output_type": "execute_result"
    }
   ],
   "source": [
    "returns"
   ]
  },
  {
   "cell_type": "code",
   "execution_count": 201,
   "metadata": {},
   "outputs": [],
   "source": [
    "returns.index = ['CSCO', 'EBAY', 'GM', 'JNJ', 'NKE']"
   ]
  },
  {
   "cell_type": "code",
   "execution_count": 203,
   "metadata": {},
   "outputs": [
    {
     "name": "stdout",
     "output_type": "stream",
     "text": [
      "CSCO   -0.321789\n",
      "EBAY    0.720644\n",
      "GM     -0.718970\n",
      "JNJ    -0.161002\n",
      "NKE    -0.268695\n",
      "Name: Annual Returns, dtype: float64\n"
     ]
    }
   ],
   "source": [
    "print(returns)"
   ]
  },
  {
   "cell_type": "code",
   "execution_count": 204,
   "metadata": {},
   "outputs": [
    {
     "data": {
      "text/plain": [
       "CSCO   -0.321789\n",
       "EBAY    0.720644\n",
       "GM     -0.718970\n",
       "JNJ    -0.161002\n",
       "NKE    -0.268695\n",
       "Name: Annual Returns, dtype: float64"
      ]
     },
     "execution_count": 204,
     "metadata": {},
     "output_type": "execute_result"
    }
   ],
   "source": [
    "returns"
   ]
  },
  {
   "cell_type": "code",
   "execution_count": 205,
   "metadata": {},
   "outputs": [
    {
     "data": {
      "text/plain": [
       "-0.16100206383327423"
      ]
     },
     "execution_count": 205,
     "metadata": {},
     "output_type": "execute_result"
    }
   ],
   "source": [
    "returns[\"JNJ\"]"
   ]
  },
  {
   "cell_type": "code",
   "execution_count": 207,
   "metadata": {},
   "outputs": [
    {
     "data": {
      "text/plain": [
       "CSCO   -0.321789\n",
       "EBAY    0.720644\n",
       "GM     -0.718970\n",
       "JNJ     0.400000\n",
       "NKE    -0.268695\n",
       "Name: Annual Returns, dtype: float64"
      ]
     },
     "execution_count": 207,
     "metadata": {},
     "output_type": "execute_result"
    }
   ],
   "source": [
    "returns[\"JNJ\"]=.4\n",
    "returns"
   ]
  },
  {
   "cell_type": "code",
   "execution_count": 208,
   "metadata": {},
   "outputs": [
    {
     "data": {
      "text/plain": [
       "False"
      ]
     },
     "execution_count": 208,
     "metadata": {},
     "output_type": "execute_result"
    }
   ],
   "source": [
    "\"MSFT\" in returns"
   ]
  },
  {
   "cell_type": "markdown",
   "metadata": {},
   "source": [
    "```python\n",
    "## DataFrames\n",
    "\n",
    "# We will now read a csv file into a pandas DataFrame as shown\n",
    "# Before we do that, we need to make sure our csv file is stored in the present working directory\n",
    "# How do you check where your present working directory is?\n",
    "\n",
    "data = pd.read_csv(\"TCS.NS.csv\", index_col=\"Date\", parse_dates=True)\n",
    "# Here we're loading the csv file and specifying that the 'Date' column is to be assigned as index\n",
    "# We use parse_dates=True so that pandas recognizes our date column which makes filtering and\n",
    "# data manipulation more convenient\n",
    "\n",
    "# Check the type of object data is\n",
    "\n",
    "data.shape # Gives you an idea of how many rows and columns are there\n",
    "data.head() # Useful way to get a quick look at your DataFrame\n",
    "data.tail()\n",
    "\n",
    "\n",
    "```"
   ]
  },
  {
   "cell_type": "code",
   "execution_count": 2,
   "metadata": {},
   "outputs": [
    {
     "data": {
      "text/plain": [
       "'C:\\\\Users\\\\Greg\\\\Desktop\\\\Quantinsti\\\\PBQ 01'"
      ]
     },
     "execution_count": 2,
     "metadata": {},
     "output_type": "execute_result"
    }
   ],
   "source": [
    "# a few methods to check the location of this file\n",
    "%pwd"
   ]
  },
  {
   "cell_type": "code",
   "execution_count": 3,
   "metadata": {},
   "outputs": [
    {
     "data": {
      "text/plain": [
       "'C:\\\\Users\\\\Greg\\\\Desktop\\\\Quantinsti\\\\PBQ 01'"
      ]
     },
     "execution_count": 3,
     "metadata": {},
     "output_type": "execute_result"
    }
   ],
   "source": [
    "import os\n",
    "os.getcwd() or os.chdir()"
   ]
  },
  {
   "cell_type": "code",
   "execution_count": 10,
   "metadata": {},
   "outputs": [
    {
     "data": {
      "text/html": [
       "<div>\n",
       "<style scoped>\n",
       "    .dataframe tbody tr th:only-of-type {\n",
       "        vertical-align: middle;\n",
       "    }\n",
       "\n",
       "    .dataframe tbody tr th {\n",
       "        vertical-align: top;\n",
       "    }\n",
       "\n",
       "    .dataframe thead th {\n",
       "        text-align: right;\n",
       "    }\n",
       "</style>\n",
       "<table border=\"1\" class=\"dataframe\">\n",
       "  <thead>\n",
       "    <tr style=\"text-align: right;\">\n",
       "      <th></th>\n",
       "      <th>Open</th>\n",
       "      <th>High</th>\n",
       "      <th>Low</th>\n",
       "      <th>Close</th>\n",
       "      <th>Adj Close</th>\n",
       "      <th>Volume</th>\n",
       "    </tr>\n",
       "    <tr>\n",
       "      <th>Date</th>\n",
       "      <th></th>\n",
       "      <th></th>\n",
       "      <th></th>\n",
       "      <th></th>\n",
       "      <th></th>\n",
       "      <th></th>\n",
       "    </tr>\n",
       "  </thead>\n",
       "  <tbody>\n",
       "    <tr>\n",
       "      <th>2018-05-23</th>\n",
       "      <td>3525.000000</td>\n",
       "      <td>3545.000000</td>\n",
       "      <td>3481.000000</td>\n",
       "      <td>3495.100098</td>\n",
       "      <td>3495.100098</td>\n",
       "      <td>753649.0</td>\n",
       "    </tr>\n",
       "    <tr>\n",
       "      <th>2018-05-24</th>\n",
       "      <td>3510.000000</td>\n",
       "      <td>3615.000000</td>\n",
       "      <td>3502.350098</td>\n",
       "      <td>3603.699951</td>\n",
       "      <td>3603.699951</td>\n",
       "      <td>1481158.0</td>\n",
       "    </tr>\n",
       "    <tr>\n",
       "      <th>2018-05-25</th>\n",
       "      <td>3625.000000</td>\n",
       "      <td>3674.800049</td>\n",
       "      <td>3572.550049</td>\n",
       "      <td>3585.800049</td>\n",
       "      <td>3585.800049</td>\n",
       "      <td>1884886.0</td>\n",
       "    </tr>\n",
       "    <tr>\n",
       "      <th>2018-05-28</th>\n",
       "      <td>3616.500000</td>\n",
       "      <td>3616.500000</td>\n",
       "      <td>3486.000000</td>\n",
       "      <td>3502.050049</td>\n",
       "      <td>3502.050049</td>\n",
       "      <td>1858399.0</td>\n",
       "    </tr>\n",
       "    <tr>\n",
       "      <th>2018-05-29</th>\n",
       "      <td>3529.899902</td>\n",
       "      <td>3544.000000</td>\n",
       "      <td>3488.000000</td>\n",
       "      <td>3523.500000</td>\n",
       "      <td>3523.500000</td>\n",
       "      <td>1762561.0</td>\n",
       "    </tr>\n",
       "  </tbody>\n",
       "</table>\n",
       "</div>"
      ],
      "text/plain": [
       "                   Open         High          Low        Close    Adj Close  \\\n",
       "Date                                                                          \n",
       "2018-05-23  3525.000000  3545.000000  3481.000000  3495.100098  3495.100098   \n",
       "2018-05-24  3510.000000  3615.000000  3502.350098  3603.699951  3603.699951   \n",
       "2018-05-25  3625.000000  3674.800049  3572.550049  3585.800049  3585.800049   \n",
       "2018-05-28  3616.500000  3616.500000  3486.000000  3502.050049  3502.050049   \n",
       "2018-05-29  3529.899902  3544.000000  3488.000000  3523.500000  3523.500000   \n",
       "\n",
       "               Volume  \n",
       "Date                   \n",
       "2018-05-23   753649.0  \n",
       "2018-05-24  1481158.0  \n",
       "2018-05-25  1884886.0  \n",
       "2018-05-28  1858399.0  \n",
       "2018-05-29  1762561.0  "
      ]
     },
     "execution_count": 10,
     "metadata": {},
     "output_type": "execute_result"
    }
   ],
   "source": [
    "# dataframes have 3 parts: the index(row labeling), the columns labeling, and the values (a numpy array)\n",
    "\n",
    "data = pd.read_csv(\"TCS.NS.csv\", index_col=\"Date\", parse_dates=True) # parse_date checks whether the dates can be indexed\n",
    "data.tail()"
   ]
  },
  {
   "cell_type": "code",
   "execution_count": 11,
   "metadata": {},
   "outputs": [
    {
     "data": {
      "text/plain": [
       "(2469, 6)"
      ]
     },
     "execution_count": 11,
     "metadata": {},
     "output_type": "execute_result"
    }
   ],
   "source": [
    "data.shape # .shape is an attribute, not a method, that's why we don't use parenthesis"
   ]
  },
  {
   "cell_type": "code",
   "execution_count": 6,
   "metadata": {},
   "outputs": [
    {
     "data": {
      "text/plain": [
       "Index(['Open', 'High', 'Low', 'Close', 'Adj Close', 'Volume'], dtype='object')"
      ]
     },
     "execution_count": 6,
     "metadata": {},
     "output_type": "execute_result"
    }
   ],
   "source": [
    "data.columns"
   ]
  },
  {
   "cell_type": "code",
   "execution_count": 7,
   "metadata": {},
   "outputs": [
    {
     "data": {
      "text/plain": [
       "DatetimeIndex(['2008-05-30', '2008-06-02', '2008-06-03', '2008-06-04',\n",
       "               '2008-06-05', '2008-06-06', '2008-06-09', '2008-06-10',\n",
       "               '2008-06-11', '2008-06-12',\n",
       "               ...\n",
       "               '2018-05-16', '2018-05-17', '2018-05-18', '2018-05-21',\n",
       "               '2018-05-22', '2018-05-23', '2018-05-24', '2018-05-25',\n",
       "               '2018-05-28', '2018-05-29'],\n",
       "              dtype='datetime64[ns]', name='Date', length=2469, freq=None)"
      ]
     },
     "execution_count": 7,
     "metadata": {},
     "output_type": "execute_result"
    }
   ],
   "source": [
    "data.index"
   ]
  },
  {
   "cell_type": "markdown",
   "metadata": {},
   "source": [
    "pyplot is a part of matplotlib\n",
    "#forces the graph to appear within the notebooK"
   ]
  },
  {
   "cell_type": "code",
   "execution_count": 16,
   "metadata": {},
   "outputs": [
    {
     "data": {
      "text/plain": [
       "<matplotlib.axes._subplots.AxesSubplot at 0x23c83e7c978>"
      ]
     },
     "execution_count": 16,
     "metadata": {},
     "output_type": "execute_result"
    },
    {
     "data": {
      "image/png": "[encoded data removed]",
      "text/plain": [
       "<Figure size 432x288 with 1 Axes>"
      ]
     },
     "metadata": {
      "needs_background": "light"
     },
     "output_type": "display_data"
    }
   ],
   "source": [
    "import matplotlib.pyplot as plt\n",
    "%matplotlib inline\n",
    "data['Close'].plot() #we've already indexed the dates, and it's captured in the graph\n",
    "data['Close'].rolling(window=20).mean().plot() # You can do a quick plot of the Close prices over time"
   ]
  },
  {
   "cell_type": "code",
   "execution_count": 17,
   "metadata": {
    "scrolled": true
   },
   "outputs": [
    {
     "data": {
      "text/plain": [
       "<matplotlib.axes._subplots.AxesSubplot at 0x23c835b87f0>"
      ]
     },
     "execution_count": 17,
     "metadata": {},
     "output_type": "execute_result"
    },
    {
     "data": {
      "image/png": "[encoded data removed]",
      "text/plain": [
       "<Figure size 432x288 with 1 Axes>"
      ]
     },
     "metadata": {
      "needs_background": "light"
     },
     "output_type": "display_data"
    }
   ],
   "source": [
    "data[['Close', 'Open']].plot()"
   ]
  },
  {
   "cell_type": "code",
   "execution_count": 18,
   "metadata": {},
   "outputs": [
    {
     "data": {
      "text/plain": [
       "<matplotlib.axes._subplots.AxesSubplot at 0x23c843c0cc0>"
      ]
     },
     "execution_count": 18,
     "metadata": {},
     "output_type": "execute_result"
    },
    {
     "data": {
      "image/png": "[encoded data removed]",
      "text/plain": [
       "<Figure size 432x288 with 1 Axes>"
      ]
     },
     "metadata": {
      "needs_background": "light"
     },
     "output_type": "display_data"
    }
   ],
   "source": [
    "data[['Close', 'Open', 'Volume']].plot()"
   ]
  },
  {
   "cell_type": "code",
   "execution_count": 19,
   "metadata": {},
   "outputs": [],
   "source": [
    "# need to adjust the graph to add another y axis and accomodate data with different scales\n",
    "# Will do that later"
   ]
  },
  {
   "cell_type": "markdown",
   "metadata": {},
   "source": [
    "One of the great features about `pandas` is how it works so symbiotically with some of the other popular Python packages such as `NumPy` and `Matplotlib`. Under the hood, the `values` of the `pandas Series` and the `pandas Dataframe` objects are `NumPy ndarrays`. \n",
    "\n",
    "We will use `matplotlib` in conjunction with `pandas` to plot and visualize our data. You can read and learn more about it [here](https://matplotlib.org/api/pyplot_summary.html).\n",
    "\n",
    "```python\n",
    "import matplotlib.pyplot as plt\n",
    "data['Close'].plot() # You can do a quick plot of the Close prices over time\n",
    "\n",
    "# For plotting multiple lines on the same graph, pass a list of column names to the plot() method\n",
    "# Try it\n",
    "```\n",
    " #### Deconstructing a pandas DataFrame\n",
    "\n",
    "A DataFrame consists of three parts viz.\n",
    "1. `index`\n",
    "2. `columns`\n",
    "3. `values`\n",
    "\n"
   ]
  },
  {
   "cell_type": "markdown",
   "metadata": {},
   "source": [
    "```python\n",
    "data.index\n",
    "data.columns # Gives you details of the columns in the DataFrame\n",
    "data.values\n",
    "data2 = data.copy() # Creates a copy of the original dataset. We'll now work with this DataFrame.\n",
    "```"
   ]
  },
  {
   "cell_type": "code",
   "execution_count": 234,
   "metadata": {},
   "outputs": [
    {
     "data": {
      "text/plain": [
       "DatetimeIndex(['2008-05-30', '2008-06-02', '2008-06-03', '2008-06-04',\n",
       "               '2008-06-05', '2008-06-06', '2008-06-09', '2008-06-10',\n",
       "               '2008-06-11', '2008-06-12',\n",
       "               ...\n",
       "               '2018-05-16', '2018-05-17', '2018-05-18', '2018-05-21',\n",
       "               '2018-05-22', '2018-05-23', '2018-05-24', '2018-05-25',\n",
       "               '2018-05-28', '2018-05-29'],\n",
       "              dtype='datetime64[ns]', name='Date', length=2469, freq=None)"
      ]
     },
     "execution_count": 234,
     "metadata": {},
     "output_type": "execute_result"
    }
   ],
   "source": [
    "data.index"
   ]
  },
  {
   "cell_type": "code",
   "execution_count": 235,
   "metadata": {},
   "outputs": [
    {
     "data": {
      "text/plain": [
       "Index(['Open', 'High', 'Low', 'Close', 'Adj Close', 'Volume'], dtype='object')"
      ]
     },
     "execution_count": 235,
     "metadata": {},
     "output_type": "execute_result"
    }
   ],
   "source": [
    "data.columns"
   ]
  },
  {
   "cell_type": "code",
   "execution_count": 236,
   "metadata": {},
   "outputs": [
    {
     "data": {
      "text/plain": [
       "array([[4.95500000e+02, 5.24500000e+02, 4.89000000e+02, 5.19575012e+02,\n",
       "        4.32166718e+02, 7.74264200e+06],\n",
       "       [5.07500000e+02, 5.28700012e+02, 4.82500000e+02, 4.91924988e+02,\n",
       "        4.09168243e+02, 3.52738200e+06],\n",
       "       [4.80000000e+02, 4.95000000e+02, 4.69075012e+02, 4.87575012e+02,\n",
       "        4.05550079e+02, 2.45012800e+06],\n",
       "       ...,\n",
       "       [3.62500000e+03, 3.67480005e+03, 3.57255005e+03, 3.58580005e+03,\n",
       "        3.58580005e+03, 1.88488600e+06],\n",
       "       [3.61650000e+03, 3.61650000e+03, 3.48600000e+03, 3.50205005e+03,\n",
       "        3.50205005e+03, 1.85839900e+06],\n",
       "       [3.52989990e+03, 3.54400000e+03, 3.48800000e+03, 3.52350000e+03,\n",
       "        3.52350000e+03, 1.76256100e+06]])"
      ]
     },
     "execution_count": 236,
     "metadata": {},
     "output_type": "execute_result"
    }
   ],
   "source": [
    "data.values"
   ]
  },
  {
   "cell_type": "code",
   "execution_count": 20,
   "metadata": {},
   "outputs": [],
   "source": [
    "data2 = data.copy()"
   ]
  },
  {
   "cell_type": "code",
   "execution_count": 238,
   "metadata": {},
   "outputs": [
    {
     "data": {
      "text/html": [
       "<div>\n",
       "<style scoped>\n",
       "    .dataframe tbody tr th:only-of-type {\n",
       "        vertical-align: middle;\n",
       "    }\n",
       "\n",
       "    .dataframe tbody tr th {\n",
       "        vertical-align: top;\n",
       "    }\n",
       "\n",
       "    .dataframe thead th {\n",
       "        text-align: right;\n",
       "    }\n",
       "</style>\n",
       "<table border=\"1\" class=\"dataframe\">\n",
       "  <thead>\n",
       "    <tr style=\"text-align: right;\">\n",
       "      <th></th>\n",
       "      <th>Open</th>\n",
       "      <th>High</th>\n",
       "      <th>Low</th>\n",
       "      <th>Close</th>\n",
       "      <th>Adj Close</th>\n",
       "      <th>Volume</th>\n",
       "    </tr>\n",
       "    <tr>\n",
       "      <th>Date</th>\n",
       "      <th></th>\n",
       "      <th></th>\n",
       "      <th></th>\n",
       "      <th></th>\n",
       "      <th></th>\n",
       "      <th></th>\n",
       "    </tr>\n",
       "  </thead>\n",
       "  <tbody>\n",
       "    <tr>\n",
       "      <th>2008-05-30</th>\n",
       "      <td>495.500000</td>\n",
       "      <td>524.500000</td>\n",
       "      <td>489.000000</td>\n",
       "      <td>519.575012</td>\n",
       "      <td>432.166718</td>\n",
       "      <td>7742642.0</td>\n",
       "    </tr>\n",
       "    <tr>\n",
       "      <th>2008-06-02</th>\n",
       "      <td>507.500000</td>\n",
       "      <td>528.700012</td>\n",
       "      <td>482.500000</td>\n",
       "      <td>491.924988</td>\n",
       "      <td>409.168243</td>\n",
       "      <td>3527382.0</td>\n",
       "    </tr>\n",
       "    <tr>\n",
       "      <th>2008-06-03</th>\n",
       "      <td>480.000000</td>\n",
       "      <td>495.000000</td>\n",
       "      <td>469.075012</td>\n",
       "      <td>487.575012</td>\n",
       "      <td>405.550079</td>\n",
       "      <td>2450128.0</td>\n",
       "    </tr>\n",
       "    <tr>\n",
       "      <th>2008-06-04</th>\n",
       "      <td>494.899994</td>\n",
       "      <td>494.899994</td>\n",
       "      <td>473.174988</td>\n",
       "      <td>478.375000</td>\n",
       "      <td>397.897888</td>\n",
       "      <td>1893928.0</td>\n",
       "    </tr>\n",
       "    <tr>\n",
       "      <th>2008-06-05</th>\n",
       "      <td>482.049988</td>\n",
       "      <td>498.399994</td>\n",
       "      <td>482.000000</td>\n",
       "      <td>490.924988</td>\n",
       "      <td>408.336487</td>\n",
       "      <td>2952628.0</td>\n",
       "    </tr>\n",
       "  </tbody>\n",
       "</table>\n",
       "</div>"
      ],
      "text/plain": [
       "                  Open        High         Low       Close   Adj Close  \\\n",
       "Date                                                                     \n",
       "2008-05-30  495.500000  524.500000  489.000000  519.575012  432.166718   \n",
       "2008-06-02  507.500000  528.700012  482.500000  491.924988  409.168243   \n",
       "2008-06-03  480.000000  495.000000  469.075012  487.575012  405.550079   \n",
       "2008-06-04  494.899994  494.899994  473.174988  478.375000  397.897888   \n",
       "2008-06-05  482.049988  498.399994  482.000000  490.924988  408.336487   \n",
       "\n",
       "               Volume  \n",
       "Date                   \n",
       "2008-05-30  7742642.0  \n",
       "2008-06-02  3527382.0  \n",
       "2008-06-03  2450128.0  \n",
       "2008-06-04  1893928.0  \n",
       "2008-06-05  2952628.0  "
      ]
     },
     "execution_count": 238,
     "metadata": {},
     "output_type": "execute_result"
    }
   ],
   "source": [
    "data2.head()"
   ]
  },
  {
   "cell_type": "code",
   "execution_count": 244,
   "metadata": {
    "scrolled": true
   },
   "outputs": [
    {
     "data": {
      "text/plain": [
       "Date\n",
       "2018-05-23    3545.000000\n",
       "2018-05-24    3615.000000\n",
       "2018-05-25    3674.800049\n",
       "2018-05-28    3616.500000\n",
       "2018-05-29    3544.000000\n",
       "Name: High, dtype: float64"
      ]
     },
     "execution_count": 244,
     "metadata": {},
     "output_type": "execute_result"
    }
   ],
   "source": [
    "data2[\"High\"].tail()"
   ]
  },
  {
   "cell_type": "code",
   "execution_count": 248,
   "metadata": {
    "scrolled": true
   },
   "outputs": [
    {
     "data": {
      "text/html": [
       "<div>\n",
       "<style scoped>\n",
       "    .dataframe tbody tr th:only-of-type {\n",
       "        vertical-align: middle;\n",
       "    }\n",
       "\n",
       "    .dataframe tbody tr th {\n",
       "        vertical-align: top;\n",
       "    }\n",
       "\n",
       "    .dataframe thead th {\n",
       "        text-align: right;\n",
       "    }\n",
       "</style>\n",
       "<table border=\"1\" class=\"dataframe\">\n",
       "  <thead>\n",
       "    <tr style=\"text-align: right;\">\n",
       "      <th></th>\n",
       "      <th>Open</th>\n",
       "      <th>High</th>\n",
       "      <th>Low</th>\n",
       "      <th>Close</th>\n",
       "      <th>Adj Close</th>\n",
       "      <th>Volume</th>\n",
       "    </tr>\n",
       "    <tr>\n",
       "      <th>Date</th>\n",
       "      <th></th>\n",
       "      <th></th>\n",
       "      <th></th>\n",
       "      <th></th>\n",
       "      <th></th>\n",
       "      <th></th>\n",
       "    </tr>\n",
       "  </thead>\n",
       "  <tbody>\n",
       "    <tr>\n",
       "      <th>2008-05-30</th>\n",
       "      <td>495.500000</td>\n",
       "      <td>524.500000</td>\n",
       "      <td>489.000000</td>\n",
       "      <td>519.575012</td>\n",
       "      <td>432.166718</td>\n",
       "      <td>7742642.0</td>\n",
       "    </tr>\n",
       "    <tr>\n",
       "      <th>2008-06-02</th>\n",
       "      <td>507.500000</td>\n",
       "      <td>528.700012</td>\n",
       "      <td>482.500000</td>\n",
       "      <td>491.924988</td>\n",
       "      <td>409.168243</td>\n",
       "      <td>3527382.0</td>\n",
       "    </tr>\n",
       "    <tr>\n",
       "      <th>2008-06-03</th>\n",
       "      <td>480.000000</td>\n",
       "      <td>495.000000</td>\n",
       "      <td>469.075012</td>\n",
       "      <td>487.575012</td>\n",
       "      <td>405.550079</td>\n",
       "      <td>2450128.0</td>\n",
       "    </tr>\n",
       "    <tr>\n",
       "      <th>2008-06-04</th>\n",
       "      <td>494.899994</td>\n",
       "      <td>494.899994</td>\n",
       "      <td>473.174988</td>\n",
       "      <td>478.375000</td>\n",
       "      <td>397.897888</td>\n",
       "      <td>1893928.0</td>\n",
       "    </tr>\n",
       "    <tr>\n",
       "      <th>2008-06-05</th>\n",
       "      <td>482.049988</td>\n",
       "      <td>498.399994</td>\n",
       "      <td>482.000000</td>\n",
       "      <td>490.924988</td>\n",
       "      <td>408.336487</td>\n",
       "      <td>2952628.0</td>\n",
       "    </tr>\n",
       "  </tbody>\n",
       "</table>\n",
       "</div>"
      ],
      "text/plain": [
       "                  Open        High         Low       Close   Adj Close  \\\n",
       "Date                                                                     \n",
       "2008-05-30  495.500000  524.500000  489.000000  519.575012  432.166718   \n",
       "2008-06-02  507.500000  528.700012  482.500000  491.924988  409.168243   \n",
       "2008-06-03  480.000000  495.000000  469.075012  487.575012  405.550079   \n",
       "2008-06-04  494.899994  494.899994  473.174988  478.375000  397.897888   \n",
       "2008-06-05  482.049988  498.399994  482.000000  490.924988  408.336487   \n",
       "\n",
       "               Volume  \n",
       "Date                   \n",
       "2008-05-30  7742642.0  \n",
       "2008-06-02  3527382.0  \n",
       "2008-06-03  2450128.0  \n",
       "2008-06-04  1893928.0  \n",
       "2008-06-05  2952628.0  "
      ]
     },
     "execution_count": 248,
     "metadata": {},
     "output_type": "execute_result"
    }
   ],
   "source": [
    "data2.iloc[:5, :]"
   ]
  },
  {
   "cell_type": "code",
   "execution_count": 257,
   "metadata": {},
   "outputs": [
    {
     "data": {
      "text/html": [
       "<div>\n",
       "<style scoped>\n",
       "    .dataframe tbody tr th:only-of-type {\n",
       "        vertical-align: middle;\n",
       "    }\n",
       "\n",
       "    .dataframe tbody tr th {\n",
       "        vertical-align: top;\n",
       "    }\n",
       "\n",
       "    .dataframe thead th {\n",
       "        text-align: right;\n",
       "    }\n",
       "</style>\n",
       "<table border=\"1\" class=\"dataframe\">\n",
       "  <thead>\n",
       "    <tr style=\"text-align: right;\">\n",
       "      <th></th>\n",
       "      <th>Open</th>\n",
       "      <th>Close</th>\n",
       "    </tr>\n",
       "    <tr>\n",
       "      <th>Date</th>\n",
       "      <th></th>\n",
       "      <th></th>\n",
       "    </tr>\n",
       "  </thead>\n",
       "  <tbody>\n",
       "    <tr>\n",
       "      <th>2018-05-23</th>\n",
       "      <td>3525.000000</td>\n",
       "      <td>3495.100098</td>\n",
       "    </tr>\n",
       "    <tr>\n",
       "      <th>2018-05-24</th>\n",
       "      <td>3510.000000</td>\n",
       "      <td>3603.699951</td>\n",
       "    </tr>\n",
       "    <tr>\n",
       "      <th>2018-05-25</th>\n",
       "      <td>3625.000000</td>\n",
       "      <td>3585.800049</td>\n",
       "    </tr>\n",
       "    <tr>\n",
       "      <th>2018-05-28</th>\n",
       "      <td>3616.500000</td>\n",
       "      <td>3502.050049</td>\n",
       "    </tr>\n",
       "    <tr>\n",
       "      <th>2018-05-29</th>\n",
       "      <td>3529.899902</td>\n",
       "      <td>3523.500000</td>\n",
       "    </tr>\n",
       "  </tbody>\n",
       "</table>\n",
       "</div>"
      ],
      "text/plain": [
       "                   Open        Close\n",
       "Date                                \n",
       "2018-05-23  3525.000000  3495.100098\n",
       "2018-05-24  3510.000000  3603.699951\n",
       "2018-05-25  3625.000000  3585.800049\n",
       "2018-05-28  3616.500000  3502.050049\n",
       "2018-05-29  3529.899902  3523.500000"
      ]
     },
     "execution_count": 257,
     "metadata": {},
     "output_type": "execute_result"
    }
   ],
   "source": [
    "data2.loc[:, ['Open', 'Close' ]].tail()"
   ]
  },
  {
   "cell_type": "code",
   "execution_count": 259,
   "metadata": {},
   "outputs": [
    {
     "ename": "TypeError",
     "evalue": "cannot do slice indexing on <class 'pandas.core.indexes.datetimes.DatetimeIndex'> with these indexers [2] of <class 'int'>",
     "output_type": "error",
     "traceback": [
      "\u001b[1;31m---------------------------------------------------------------------------\u001b[0m",
      "\u001b[1;31mTypeError\u001b[0m                                 Traceback (most recent call last)",
      "\u001b[1;32m<ipython-input-259-275a743bd827>\u001b[0m in \u001b[0;36m<module>\u001b[1;34m()\u001b[0m\n\u001b[1;32m----> 1\u001b[1;33m \u001b[0mdata2\u001b[0m\u001b[1;33m.\u001b[0m\u001b[0mloc\u001b[0m\u001b[1;33m[\u001b[0m\u001b[1;36m2\u001b[0m\u001b[1;33m:\u001b[0m\u001b[1;36m5\u001b[0m\u001b[1;33m]\u001b[0m\u001b[1;33m\u001b[0m\u001b[0m\n\u001b[0m",
      "\u001b[1;32m~\\Anaconda3\\lib\\site-packages\\pandas\\core\\indexing.py\u001b[0m in \u001b[0;36m__getitem__\u001b[1;34m(self, key)\u001b[0m\n\u001b[0;32m   1476\u001b[0m \u001b[1;33m\u001b[0m\u001b[0m\n\u001b[0;32m   1477\u001b[0m             \u001b[0mmaybe_callable\u001b[0m \u001b[1;33m=\u001b[0m \u001b[0mcom\u001b[0m\u001b[1;33m.\u001b[0m\u001b[0m_apply_if_callable\u001b[0m\u001b[1;33m(\u001b[0m\u001b[0mkey\u001b[0m\u001b[1;33m,\u001b[0m \u001b[0mself\u001b[0m\u001b[1;33m.\u001b[0m\u001b[0mobj\u001b[0m\u001b[1;33m)\u001b[0m\u001b[1;33m\u001b[0m\u001b[0m\n\u001b[1;32m-> 1478\u001b[1;33m             \u001b[1;32mreturn\u001b[0m \u001b[0mself\u001b[0m\u001b[1;33m.\u001b[0m\u001b[0m_getitem_axis\u001b[0m\u001b[1;33m(\u001b[0m\u001b[0mmaybe_callable\u001b[0m\u001b[1;33m,\u001b[0m \u001b[0maxis\u001b[0m\u001b[1;33m=\u001b[0m\u001b[0maxis\u001b[0m\u001b[1;33m)\u001b[0m\u001b[1;33m\u001b[0m\u001b[0m\n\u001b[0m\u001b[0;32m   1479\u001b[0m \u001b[1;33m\u001b[0m\u001b[0m\n\u001b[0;32m   1480\u001b[0m     \u001b[1;32mdef\u001b[0m \u001b[0m_is_scalar_access\u001b[0m\u001b[1;33m(\u001b[0m\u001b[0mself\u001b[0m\u001b[1;33m,\u001b[0m \u001b[0mkey\u001b[0m\u001b[1;33m)\u001b[0m\u001b[1;33m:\u001b[0m\u001b[1;33m\u001b[0m\u001b[0m\n",
      "\u001b[1;32m~\\Anaconda3\\lib\\site-packages\\pandas\\core\\indexing.py\u001b[0m in \u001b[0;36m_getitem_axis\u001b[1;34m(self, key, axis)\u001b[0m\n\u001b[0;32m   1864\u001b[0m         \u001b[1;32mif\u001b[0m \u001b[0misinstance\u001b[0m\u001b[1;33m(\u001b[0m\u001b[0mkey\u001b[0m\u001b[1;33m,\u001b[0m \u001b[0mslice\u001b[0m\u001b[1;33m)\u001b[0m\u001b[1;33m:\u001b[0m\u001b[1;33m\u001b[0m\u001b[0m\n\u001b[0;32m   1865\u001b[0m             \u001b[0mself\u001b[0m\u001b[1;33m.\u001b[0m\u001b[0m_validate_key\u001b[0m\u001b[1;33m(\u001b[0m\u001b[0mkey\u001b[0m\u001b[1;33m,\u001b[0m \u001b[0maxis\u001b[0m\u001b[1;33m)\u001b[0m\u001b[1;33m\u001b[0m\u001b[0m\n\u001b[1;32m-> 1866\u001b[1;33m             \u001b[1;32mreturn\u001b[0m \u001b[0mself\u001b[0m\u001b[1;33m.\u001b[0m\u001b[0m_get_slice_axis\u001b[0m\u001b[1;33m(\u001b[0m\u001b[0mkey\u001b[0m\u001b[1;33m,\u001b[0m \u001b[0maxis\u001b[0m\u001b[1;33m=\u001b[0m\u001b[0maxis\u001b[0m\u001b[1;33m)\u001b[0m\u001b[1;33m\u001b[0m\u001b[0m\n\u001b[0m\u001b[0;32m   1867\u001b[0m         \u001b[1;32melif\u001b[0m \u001b[0mcom\u001b[0m\u001b[1;33m.\u001b[0m\u001b[0mis_bool_indexer\u001b[0m\u001b[1;33m(\u001b[0m\u001b[0mkey\u001b[0m\u001b[1;33m)\u001b[0m\u001b[1;33m:\u001b[0m\u001b[1;33m\u001b[0m\u001b[0m\n\u001b[0;32m   1868\u001b[0m             \u001b[1;32mreturn\u001b[0m \u001b[0mself\u001b[0m\u001b[1;33m.\u001b[0m\u001b[0m_getbool_axis\u001b[0m\u001b[1;33m(\u001b[0m\u001b[0mkey\u001b[0m\u001b[1;33m,\u001b[0m \u001b[0maxis\u001b[0m\u001b[1;33m=\u001b[0m\u001b[0maxis\u001b[0m\u001b[1;33m)\u001b[0m\u001b[1;33m\u001b[0m\u001b[0m\n",
      "\u001b[1;32m~\\Anaconda3\\lib\\site-packages\\pandas\\core\\indexing.py\u001b[0m in \u001b[0;36m_get_slice_axis\u001b[1;34m(self, slice_obj, axis)\u001b[0m\n\u001b[0;32m   1509\u001b[0m         \u001b[0mlabels\u001b[0m \u001b[1;33m=\u001b[0m \u001b[0mobj\u001b[0m\u001b[1;33m.\u001b[0m\u001b[0m_get_axis\u001b[0m\u001b[1;33m(\u001b[0m\u001b[0maxis\u001b[0m\u001b[1;33m)\u001b[0m\u001b[1;33m\u001b[0m\u001b[0m\n\u001b[0;32m   1510\u001b[0m         indexer = labels.slice_indexer(slice_obj.start, slice_obj.stop,\n\u001b[1;32m-> 1511\u001b[1;33m                                        slice_obj.step, kind=self.name)\n\u001b[0m\u001b[0;32m   1512\u001b[0m \u001b[1;33m\u001b[0m\u001b[0m\n\u001b[0;32m   1513\u001b[0m         \u001b[1;32mif\u001b[0m \u001b[0misinstance\u001b[0m\u001b[1;33m(\u001b[0m\u001b[0mindexer\u001b[0m\u001b[1;33m,\u001b[0m \u001b[0mslice\u001b[0m\u001b[1;33m)\u001b[0m\u001b[1;33m:\u001b[0m\u001b[1;33m\u001b[0m\u001b[0m\n",
      "\u001b[1;32m~\\Anaconda3\\lib\\site-packages\\pandas\\core\\indexes\\datetimes.py\u001b[0m in \u001b[0;36mslice_indexer\u001b[1;34m(self, start, end, step, kind)\u001b[0m\n\u001b[0;32m   1704\u001b[0m \u001b[1;33m\u001b[0m\u001b[0m\n\u001b[0;32m   1705\u001b[0m         \u001b[1;32mtry\u001b[0m\u001b[1;33m:\u001b[0m\u001b[1;33m\u001b[0m\u001b[0m\n\u001b[1;32m-> 1706\u001b[1;33m             \u001b[1;32mreturn\u001b[0m \u001b[0mIndex\u001b[0m\u001b[1;33m.\u001b[0m\u001b[0mslice_indexer\u001b[0m\u001b[1;33m(\u001b[0m\u001b[0mself\u001b[0m\u001b[1;33m,\u001b[0m \u001b[0mstart\u001b[0m\u001b[1;33m,\u001b[0m \u001b[0mend\u001b[0m\u001b[1;33m,\u001b[0m \u001b[0mstep\u001b[0m\u001b[1;33m,\u001b[0m \u001b[0mkind\u001b[0m\u001b[1;33m=\u001b[0m\u001b[0mkind\u001b[0m\u001b[1;33m)\u001b[0m\u001b[1;33m\u001b[0m\u001b[0m\n\u001b[0m\u001b[0;32m   1707\u001b[0m         \u001b[1;32mexcept\u001b[0m \u001b[0mKeyError\u001b[0m\u001b[1;33m:\u001b[0m\u001b[1;33m\u001b[0m\u001b[0m\n\u001b[0;32m   1708\u001b[0m             \u001b[1;31m# For historical reasons DatetimeIndex by default supports\u001b[0m\u001b[1;33m\u001b[0m\u001b[1;33m\u001b[0m\u001b[0m\n",
      "\u001b[1;32m~\\Anaconda3\\lib\\site-packages\\pandas\\core\\indexes\\base.py\u001b[0m in \u001b[0;36mslice_indexer\u001b[1;34m(self, start, end, step, kind)\u001b[0m\n\u001b[0;32m   4105\u001b[0m         \"\"\"\n\u001b[0;32m   4106\u001b[0m         start_slice, end_slice = self.slice_locs(start, end, step=step,\n\u001b[1;32m-> 4107\u001b[1;33m                                                  kind=kind)\n\u001b[0m\u001b[0;32m   4108\u001b[0m \u001b[1;33m\u001b[0m\u001b[0m\n\u001b[0;32m   4109\u001b[0m         \u001b[1;31m# return a slice\u001b[0m\u001b[1;33m\u001b[0m\u001b[1;33m\u001b[0m\u001b[0m\n",
      "\u001b[1;32m~\\Anaconda3\\lib\\site-packages\\pandas\\core\\indexes\\base.py\u001b[0m in \u001b[0;36mslice_locs\u001b[1;34m(self, start, end, step, kind)\u001b[0m\n\u001b[0;32m   4306\u001b[0m         \u001b[0mstart_slice\u001b[0m \u001b[1;33m=\u001b[0m \u001b[1;32mNone\u001b[0m\u001b[1;33m\u001b[0m\u001b[0m\n\u001b[0;32m   4307\u001b[0m         \u001b[1;32mif\u001b[0m \u001b[0mstart\u001b[0m \u001b[1;32mis\u001b[0m \u001b[1;32mnot\u001b[0m \u001b[1;32mNone\u001b[0m\u001b[1;33m:\u001b[0m\u001b[1;33m\u001b[0m\u001b[0m\n\u001b[1;32m-> 4308\u001b[1;33m             \u001b[0mstart_slice\u001b[0m \u001b[1;33m=\u001b[0m \u001b[0mself\u001b[0m\u001b[1;33m.\u001b[0m\u001b[0mget_slice_bound\u001b[0m\u001b[1;33m(\u001b[0m\u001b[0mstart\u001b[0m\u001b[1;33m,\u001b[0m \u001b[1;34m'left'\u001b[0m\u001b[1;33m,\u001b[0m \u001b[0mkind\u001b[0m\u001b[1;33m)\u001b[0m\u001b[1;33m\u001b[0m\u001b[0m\n\u001b[0m\u001b[0;32m   4309\u001b[0m         \u001b[1;32mif\u001b[0m \u001b[0mstart_slice\u001b[0m \u001b[1;32mis\u001b[0m \u001b[1;32mNone\u001b[0m\u001b[1;33m:\u001b[0m\u001b[1;33m\u001b[0m\u001b[0m\n\u001b[0;32m   4310\u001b[0m             \u001b[0mstart_slice\u001b[0m \u001b[1;33m=\u001b[0m \u001b[1;36m0\u001b[0m\u001b[1;33m\u001b[0m\u001b[0m\n",
      "\u001b[1;32m~\\Anaconda3\\lib\\site-packages\\pandas\\core\\indexes\\base.py\u001b[0m in \u001b[0;36mget_slice_bound\u001b[1;34m(self, label, side, kind)\u001b[0m\n\u001b[0;32m   4232\u001b[0m         \u001b[1;31m# For datetime indices label may be a string that has to be converted\u001b[0m\u001b[1;33m\u001b[0m\u001b[1;33m\u001b[0m\u001b[0m\n\u001b[0;32m   4233\u001b[0m         \u001b[1;31m# to datetime boundary according to its resolution.\u001b[0m\u001b[1;33m\u001b[0m\u001b[1;33m\u001b[0m\u001b[0m\n\u001b[1;32m-> 4234\u001b[1;33m         \u001b[0mlabel\u001b[0m \u001b[1;33m=\u001b[0m \u001b[0mself\u001b[0m\u001b[1;33m.\u001b[0m\u001b[0m_maybe_cast_slice_bound\u001b[0m\u001b[1;33m(\u001b[0m\u001b[0mlabel\u001b[0m\u001b[1;33m,\u001b[0m \u001b[0mside\u001b[0m\u001b[1;33m,\u001b[0m \u001b[0mkind\u001b[0m\u001b[1;33m)\u001b[0m\u001b[1;33m\u001b[0m\u001b[0m\n\u001b[0m\u001b[0;32m   4235\u001b[0m \u001b[1;33m\u001b[0m\u001b[0m\n\u001b[0;32m   4236\u001b[0m         \u001b[1;31m# we need to look up the label\u001b[0m\u001b[1;33m\u001b[0m\u001b[1;33m\u001b[0m\u001b[0m\n",
      "\u001b[1;32m~\\Anaconda3\\lib\\site-packages\\pandas\\core\\indexes\\datetimes.py\u001b[0m in \u001b[0;36m_maybe_cast_slice_bound\u001b[1;34m(self, label, side, kind)\u001b[0m\n\u001b[0;32m   1651\u001b[0m \u001b[1;33m\u001b[0m\u001b[0m\n\u001b[0;32m   1652\u001b[0m         \u001b[1;32mif\u001b[0m \u001b[0mis_float\u001b[0m\u001b[1;33m(\u001b[0m\u001b[0mlabel\u001b[0m\u001b[1;33m)\u001b[0m \u001b[1;32mor\u001b[0m \u001b[0misinstance\u001b[0m\u001b[1;33m(\u001b[0m\u001b[0mlabel\u001b[0m\u001b[1;33m,\u001b[0m \u001b[0mtime\u001b[0m\u001b[1;33m)\u001b[0m \u001b[1;32mor\u001b[0m \u001b[0mis_integer\u001b[0m\u001b[1;33m(\u001b[0m\u001b[0mlabel\u001b[0m\u001b[1;33m)\u001b[0m\u001b[1;33m:\u001b[0m\u001b[1;33m\u001b[0m\u001b[0m\n\u001b[1;32m-> 1653\u001b[1;33m             \u001b[0mself\u001b[0m\u001b[1;33m.\u001b[0m\u001b[0m_invalid_indexer\u001b[0m\u001b[1;33m(\u001b[0m\u001b[1;34m'slice'\u001b[0m\u001b[1;33m,\u001b[0m \u001b[0mlabel\u001b[0m\u001b[1;33m)\u001b[0m\u001b[1;33m\u001b[0m\u001b[0m\n\u001b[0m\u001b[0;32m   1654\u001b[0m \u001b[1;33m\u001b[0m\u001b[0m\n\u001b[0;32m   1655\u001b[0m         \u001b[1;32mif\u001b[0m \u001b[0misinstance\u001b[0m\u001b[1;33m(\u001b[0m\u001b[0mlabel\u001b[0m\u001b[1;33m,\u001b[0m \u001b[0mcompat\u001b[0m\u001b[1;33m.\u001b[0m\u001b[0mstring_types\u001b[0m\u001b[1;33m)\u001b[0m\u001b[1;33m:\u001b[0m\u001b[1;33m\u001b[0m\u001b[0m\n",
      "\u001b[1;32m~\\Anaconda3\\lib\\site-packages\\pandas\\core\\indexes\\base.py\u001b[0m in \u001b[0;36m_invalid_indexer\u001b[1;34m(self, form, key)\u001b[0m\n\u001b[0;32m   1861\u001b[0m                         \"indexers [{key}] of {kind}\".format(\n\u001b[0;32m   1862\u001b[0m                             \u001b[0mform\u001b[0m\u001b[1;33m=\u001b[0m\u001b[0mform\u001b[0m\u001b[1;33m,\u001b[0m \u001b[0mklass\u001b[0m\u001b[1;33m=\u001b[0m\u001b[0mtype\u001b[0m\u001b[1;33m(\u001b[0m\u001b[0mself\u001b[0m\u001b[1;33m)\u001b[0m\u001b[1;33m,\u001b[0m \u001b[0mkey\u001b[0m\u001b[1;33m=\u001b[0m\u001b[0mkey\u001b[0m\u001b[1;33m,\u001b[0m\u001b[1;33m\u001b[0m\u001b[0m\n\u001b[1;32m-> 1863\u001b[1;33m                             kind=type(key)))\n\u001b[0m\u001b[0;32m   1864\u001b[0m \u001b[1;33m\u001b[0m\u001b[0m\n\u001b[0;32m   1865\u001b[0m     \u001b[1;32mdef\u001b[0m \u001b[0mget_duplicates\u001b[0m\u001b[1;33m(\u001b[0m\u001b[0mself\u001b[0m\u001b[1;33m)\u001b[0m\u001b[1;33m:\u001b[0m\u001b[1;33m\u001b[0m\u001b[0m\n",
      "\u001b[1;31mTypeError\u001b[0m: cannot do slice indexing on <class 'pandas.core.indexes.datetimes.DatetimeIndex'> with these indexers [2] of <class 'int'>"
     ]
    }
   ],
   "source": [
    "data2.loc[2:5] # doesn't work cuz dataframe is indexed by date?"
   ]
  },
  {
   "cell_type": "markdown",
   "metadata": {},
   "source": [
    "#### Selecting subsets of data\n",
    "\n",
    "There are three key ways by which we select subsets of our dataset for further analysis.\n",
    "* Using the indexing operator `[]`\n",
    "* Using the label based indexing operator `.loc[]` \n",
    "* Using the integer based indexing operator`.iloc[]`\n",
    "\n",
    "We'll now look at some use cases using these different indexers.\n",
    "\n",
    "```python\n",
    "\n",
    "## Using the indexing operator []\n",
    "\n",
    "del data2['Volume'] # Deleting a column\n",
    "\n",
    "data2['Open'] # selecting one column\n",
    "open = data2['Open']\n",
    "type(open)\n",
    "# open is a Series object which has two components viz. index and the data (called values). There are NO columns\n",
    "\n",
    "close = data2[['Close']]\n",
    "# this is technically a DataFrame. Check the type and see for yourself\n",
    "\n",
    "# We can select multiple columns by passing a list of column names\n",
    "# Order in which they are written doesn't matter\n",
    "\n",
    "close_open = data2[['Close', 'Open']]\n",
    "data2['New'] = 0 # creating a new column and initializing it with all zeroes\n",
    "\n",
    "```"
   ]
  },
  {
   "cell_type": "code",
   "execution_count": 260,
   "metadata": {},
   "outputs": [
    {
     "data": {
      "text/html": [
       "<div>\n",
       "<style scoped>\n",
       "    .dataframe tbody tr th:only-of-type {\n",
       "        vertical-align: middle;\n",
       "    }\n",
       "\n",
       "    .dataframe tbody tr th {\n",
       "        vertical-align: top;\n",
       "    }\n",
       "\n",
       "    .dataframe thead th {\n",
       "        text-align: right;\n",
       "    }\n",
       "</style>\n",
       "<table border=\"1\" class=\"dataframe\">\n",
       "  <thead>\n",
       "    <tr style=\"text-align: right;\">\n",
       "      <th></th>\n",
       "      <th>Open</th>\n",
       "      <th>High</th>\n",
       "      <th>Low</th>\n",
       "      <th>Close</th>\n",
       "      <th>Adj Close</th>\n",
       "    </tr>\n",
       "    <tr>\n",
       "      <th>Date</th>\n",
       "      <th></th>\n",
       "      <th></th>\n",
       "      <th></th>\n",
       "      <th></th>\n",
       "      <th></th>\n",
       "    </tr>\n",
       "  </thead>\n",
       "  <tbody>\n",
       "    <tr>\n",
       "      <th>2018-05-23</th>\n",
       "      <td>3525.000000</td>\n",
       "      <td>3545.000000</td>\n",
       "      <td>3481.000000</td>\n",
       "      <td>3495.100098</td>\n",
       "      <td>3495.100098</td>\n",
       "    </tr>\n",
       "    <tr>\n",
       "      <th>2018-05-24</th>\n",
       "      <td>3510.000000</td>\n",
       "      <td>3615.000000</td>\n",
       "      <td>3502.350098</td>\n",
       "      <td>3603.699951</td>\n",
       "      <td>3603.699951</td>\n",
       "    </tr>\n",
       "    <tr>\n",
       "      <th>2018-05-25</th>\n",
       "      <td>3625.000000</td>\n",
       "      <td>3674.800049</td>\n",
       "      <td>3572.550049</td>\n",
       "      <td>3585.800049</td>\n",
       "      <td>3585.800049</td>\n",
       "    </tr>\n",
       "    <tr>\n",
       "      <th>2018-05-28</th>\n",
       "      <td>3616.500000</td>\n",
       "      <td>3616.500000</td>\n",
       "      <td>3486.000000</td>\n",
       "      <td>3502.050049</td>\n",
       "      <td>3502.050049</td>\n",
       "    </tr>\n",
       "    <tr>\n",
       "      <th>2018-05-29</th>\n",
       "      <td>3529.899902</td>\n",
       "      <td>3544.000000</td>\n",
       "      <td>3488.000000</td>\n",
       "      <td>3523.500000</td>\n",
       "      <td>3523.500000</td>\n",
       "    </tr>\n",
       "  </tbody>\n",
       "</table>\n",
       "</div>"
      ],
      "text/plain": [
       "                   Open         High          Low        Close    Adj Close\n",
       "Date                                                                       \n",
       "2018-05-23  3525.000000  3545.000000  3481.000000  3495.100098  3495.100098\n",
       "2018-05-24  3510.000000  3615.000000  3502.350098  3603.699951  3603.699951\n",
       "2018-05-25  3625.000000  3674.800049  3572.550049  3585.800049  3585.800049\n",
       "2018-05-28  3616.500000  3616.500000  3486.000000  3502.050049  3502.050049\n",
       "2018-05-29  3529.899902  3544.000000  3488.000000  3523.500000  3523.500000"
      ]
     },
     "execution_count": 260,
     "metadata": {},
     "output_type": "execute_result"
    }
   ],
   "source": [
    "del data2['Volume'] # Deleting a column\n",
    "data2.tail()"
   ]
  },
  {
   "cell_type": "code",
   "execution_count": 261,
   "metadata": {
    "scrolled": true
   },
   "outputs": [
    {
     "data": {
      "text/plain": [
       "pandas.core.series.Series"
      ]
     },
     "execution_count": 261,
     "metadata": {},
     "output_type": "execute_result"
    }
   ],
   "source": [
    "open = data2['Open']\n",
    "type(open)"
   ]
  },
  {
   "cell_type": "code",
   "execution_count": 22,
   "metadata": {},
   "outputs": [
    {
     "data": {
      "text/plain": [
       "DatetimeIndex(['2008-05-30', '2008-06-02', '2008-06-03', '2008-06-04',\n",
       "               '2008-06-05', '2008-06-06', '2008-06-09', '2008-06-10',\n",
       "               '2008-06-11', '2008-06-12',\n",
       "               ...\n",
       "               '2018-05-16', '2018-05-17', '2018-05-18', '2018-05-21',\n",
       "               '2018-05-22', '2018-05-23', '2018-05-24', '2018-05-25',\n",
       "               '2018-05-28', '2018-05-29'],\n",
       "              dtype='datetime64[ns]', name='Date', length=2469, freq=None)"
      ]
     },
     "execution_count": 22,
     "metadata": {},
     "output_type": "execute_result"
    }
   ],
   "source": [
    "open.index"
   ]
  },
  {
   "cell_type": "code",
   "execution_count": 23,
   "metadata": {},
   "outputs": [],
   "source": [
    "open2 = data2[['Open']] \n",
    "#here we use the double square bracket to create a pandas data frame of the Open, as opposed to a numpy series"
   ]
  },
  {
   "cell_type": "code",
   "execution_count": 24,
   "metadata": {},
   "outputs": [
    {
     "data": {
      "text/plain": [
       "pandas.core.frame.DataFrame"
      ]
     },
     "execution_count": 24,
     "metadata": {},
     "output_type": "execute_result"
    }
   ],
   "source": [
    "type(open2)"
   ]
  },
  {
   "cell_type": "code",
   "execution_count": 21,
   "metadata": {},
   "outputs": [
    {
     "data": {
      "text/plain": [
       "pandas.core.frame.DataFrame"
      ]
     },
     "execution_count": 21,
     "metadata": {},
     "output_type": "execute_result"
    }
   ],
   "source": [
    "open = data2[['Open']]\n",
    "type(data2)"
   ]
  },
  {
   "cell_type": "code",
   "execution_count": 263,
   "metadata": {},
   "outputs": [
    {
     "data": {
      "text/html": [
       "<div>\n",
       "<style scoped>\n",
       "    .dataframe tbody tr th:only-of-type {\n",
       "        vertical-align: middle;\n",
       "    }\n",
       "\n",
       "    .dataframe tbody tr th {\n",
       "        vertical-align: top;\n",
       "    }\n",
       "\n",
       "    .dataframe thead th {\n",
       "        text-align: right;\n",
       "    }\n",
       "</style>\n",
       "<table border=\"1\" class=\"dataframe\">\n",
       "  <thead>\n",
       "    <tr style=\"text-align: right;\">\n",
       "      <th></th>\n",
       "      <th>Open</th>\n",
       "      <th>High</th>\n",
       "      <th>Low</th>\n",
       "      <th>Close</th>\n",
       "      <th>Adj Close</th>\n",
       "      <th>New</th>\n",
       "    </tr>\n",
       "    <tr>\n",
       "      <th>Date</th>\n",
       "      <th></th>\n",
       "      <th></th>\n",
       "      <th></th>\n",
       "      <th></th>\n",
       "      <th></th>\n",
       "      <th></th>\n",
       "    </tr>\n",
       "  </thead>\n",
       "  <tbody>\n",
       "    <tr>\n",
       "      <th>2018-05-23</th>\n",
       "      <td>3525.000000</td>\n",
       "      <td>3545.000000</td>\n",
       "      <td>3481.000000</td>\n",
       "      <td>3495.100098</td>\n",
       "      <td>3495.100098</td>\n",
       "      <td>0</td>\n",
       "    </tr>\n",
       "    <tr>\n",
       "      <th>2018-05-24</th>\n",
       "      <td>3510.000000</td>\n",
       "      <td>3615.000000</td>\n",
       "      <td>3502.350098</td>\n",
       "      <td>3603.699951</td>\n",
       "      <td>3603.699951</td>\n",
       "      <td>0</td>\n",
       "    </tr>\n",
       "    <tr>\n",
       "      <th>2018-05-25</th>\n",
       "      <td>3625.000000</td>\n",
       "      <td>3674.800049</td>\n",
       "      <td>3572.550049</td>\n",
       "      <td>3585.800049</td>\n",
       "      <td>3585.800049</td>\n",
       "      <td>0</td>\n",
       "    </tr>\n",
       "    <tr>\n",
       "      <th>2018-05-28</th>\n",
       "      <td>3616.500000</td>\n",
       "      <td>3616.500000</td>\n",
       "      <td>3486.000000</td>\n",
       "      <td>3502.050049</td>\n",
       "      <td>3502.050049</td>\n",
       "      <td>0</td>\n",
       "    </tr>\n",
       "    <tr>\n",
       "      <th>2018-05-29</th>\n",
       "      <td>3529.899902</td>\n",
       "      <td>3544.000000</td>\n",
       "      <td>3488.000000</td>\n",
       "      <td>3523.500000</td>\n",
       "      <td>3523.500000</td>\n",
       "      <td>0</td>\n",
       "    </tr>\n",
       "  </tbody>\n",
       "</table>\n",
       "</div>"
      ],
      "text/plain": [
       "                   Open         High          Low        Close    Adj Close  \\\n",
       "Date                                                                          \n",
       "2018-05-23  3525.000000  3545.000000  3481.000000  3495.100098  3495.100098   \n",
       "2018-05-24  3510.000000  3615.000000  3502.350098  3603.699951  3603.699951   \n",
       "2018-05-25  3625.000000  3674.800049  3572.550049  3585.800049  3585.800049   \n",
       "2018-05-28  3616.500000  3616.500000  3486.000000  3502.050049  3502.050049   \n",
       "2018-05-29  3529.899902  3544.000000  3488.000000  3523.500000  3523.500000   \n",
       "\n",
       "            New  \n",
       "Date             \n",
       "2018-05-23    0  \n",
       "2018-05-24    0  \n",
       "2018-05-25    0  \n",
       "2018-05-28    0  \n",
       "2018-05-29    0  "
      ]
     },
     "execution_count": 263,
     "metadata": {},
     "output_type": "execute_result"
    }
   ],
   "source": [
    "close_open = data2[['Close', 'Open']]\n",
    "data2['New'] = 0 # creating a new column and initializing it with all zeroes\n",
    "data2.tail()"
   ]
  },
  {
   "cell_type": "markdown",
   "metadata": {},
   "source": [
    "```python\n",
    "\n",
    "## Using the location based indexing operator .loc[]\n",
    "```\n",
    "\n",
    "It selects data based on the 'label' of the rows and columns. Also, it can simultaneously select subsets of rows and columns.\n",
    "\n",
    "```python\n",
    "\n",
    "data2.loc['2015-01-07'] # Selecting a single row\n",
    "\n",
    "data2.loc['2015-01-07': '2015-02-03'] # using the slice notation : to select a range of columns or rows\n",
    "# The last value is included here compared to other data structures like Python lists\n",
    "\n",
    "data2.loc['2018-05-02':] ## slicing from the specified date to the end\n",
    "data2.loc[:'2008-06-05'] ## slicing from the start to the specified date\n",
    "\n",
    "data2.loc['2015-01-07': '2015-02-03':3] ## slicing from the specified date to specified date and selecting every\n",
    "# 3rd day\n",
    "\n",
    "### Selecting rows and columns simultaneously\n",
    "\n",
    "data2.loc['2015-01-07': '2015-02-03',['Open','High','Low']]\n",
    "data2.loc['2015-01-07': '2015-02-03',:] # same output as the line a few places above\n",
    "```"
   ]
  },
  {
   "cell_type": "code",
   "execution_count": 265,
   "metadata": {},
   "outputs": [
    {
     "data": {
      "text/html": [
       "<div>\n",
       "<style scoped>\n",
       "    .dataframe tbody tr th:only-of-type {\n",
       "        vertical-align: middle;\n",
       "    }\n",
       "\n",
       "    .dataframe tbody tr th {\n",
       "        vertical-align: top;\n",
       "    }\n",
       "\n",
       "    .dataframe thead th {\n",
       "        text-align: right;\n",
       "    }\n",
       "</style>\n",
       "<table border=\"1\" class=\"dataframe\">\n",
       "  <thead>\n",
       "    <tr style=\"text-align: right;\">\n",
       "      <th></th>\n",
       "      <th>Open</th>\n",
       "      <th>High</th>\n",
       "      <th>Low</th>\n",
       "    </tr>\n",
       "    <tr>\n",
       "      <th>Date</th>\n",
       "      <th></th>\n",
       "      <th></th>\n",
       "      <th></th>\n",
       "    </tr>\n",
       "  </thead>\n",
       "  <tbody>\n",
       "    <tr>\n",
       "      <th>2015-01-07</th>\n",
       "      <td>2470.000000</td>\n",
       "      <td>2479.149902</td>\n",
       "      <td>2407.449951</td>\n",
       "    </tr>\n",
       "    <tr>\n",
       "      <th>2015-01-08</th>\n",
       "      <td>2442.399902</td>\n",
       "      <td>2449.000000</td>\n",
       "      <td>2420.550049</td>\n",
       "    </tr>\n",
       "    <tr>\n",
       "      <th>2015-01-09</th>\n",
       "      <td>2455.000000</td>\n",
       "      <td>2519.899902</td>\n",
       "      <td>2450.000000</td>\n",
       "    </tr>\n",
       "    <tr>\n",
       "      <th>2015-01-12</th>\n",
       "      <td>2517.000000</td>\n",
       "      <td>2528.000000</td>\n",
       "      <td>2480.250000</td>\n",
       "    </tr>\n",
       "    <tr>\n",
       "      <th>2015-01-13</th>\n",
       "      <td>2520.000000</td>\n",
       "      <td>2530.399902</td>\n",
       "      <td>2480.100098</td>\n",
       "    </tr>\n",
       "    <tr>\n",
       "      <th>2015-01-14</th>\n",
       "      <td>2516.000000</td>\n",
       "      <td>2531.800049</td>\n",
       "      <td>2500.500000</td>\n",
       "    </tr>\n",
       "    <tr>\n",
       "      <th>2015-01-15</th>\n",
       "      <td>2533.000000</td>\n",
       "      <td>2581.750000</td>\n",
       "      <td>2523.250000</td>\n",
       "    </tr>\n",
       "    <tr>\n",
       "      <th>2015-01-16</th>\n",
       "      <td>2543.699951</td>\n",
       "      <td>2545.000000</td>\n",
       "      <td>2484.300049</td>\n",
       "    </tr>\n",
       "    <tr>\n",
       "      <th>2015-01-19</th>\n",
       "      <td>2536.000000</td>\n",
       "      <td>2551.000000</td>\n",
       "      <td>2503.000000</td>\n",
       "    </tr>\n",
       "    <tr>\n",
       "      <th>2015-01-20</th>\n",
       "      <td>2520.000000</td>\n",
       "      <td>2530.000000</td>\n",
       "      <td>2483.250000</td>\n",
       "    </tr>\n",
       "  </tbody>\n",
       "</table>\n",
       "</div>"
      ],
      "text/plain": [
       "                   Open         High          Low\n",
       "Date                                             \n",
       "2015-01-07  2470.000000  2479.149902  2407.449951\n",
       "2015-01-08  2442.399902  2449.000000  2420.550049\n",
       "2015-01-09  2455.000000  2519.899902  2450.000000\n",
       "2015-01-12  2517.000000  2528.000000  2480.250000\n",
       "2015-01-13  2520.000000  2530.399902  2480.100098\n",
       "2015-01-14  2516.000000  2531.800049  2500.500000\n",
       "2015-01-15  2533.000000  2581.750000  2523.250000\n",
       "2015-01-16  2543.699951  2545.000000  2484.300049\n",
       "2015-01-19  2536.000000  2551.000000  2503.000000\n",
       "2015-01-20  2520.000000  2530.000000  2483.250000"
      ]
     },
     "execution_count": 265,
     "metadata": {},
     "output_type": "execute_result"
    }
   ],
   "source": [
    "data2.loc['2015-01-07': '2015-01-20',['Open','High','Low']]"
   ]
  },
  {
   "cell_type": "markdown",
   "metadata": {},
   "source": [
    "```python\n",
    "\n",
    "## Using the integer based indexing operator .iloc[]\n",
    "```\n",
    "\n",
    "It selects data based on the integer locations of the rows and columns. Very similar to the .loc[] operator.\n",
    "\n",
    "```python\n",
    "\n",
    "data2.iloc[4] # Selecting a single row\n",
    "\n",
    "data2.iloc[[4, 8, 20]] # Selecting multiple rows\n",
    "\n",
    "data2.iloc[5:10] # using the slice notation : to select a range of columns or rows\n",
    "\n",
    "data2.iloc[2460:] ## slicing from the specified integer location to the end\n",
    "\n",
    "\n",
    "data2.iloc[2460::2] # starting with 2460th position and every alternate row\n",
    "\n",
    "### Selecting rows and columns simultaneously with .iloc\n",
    "\n",
    "data2.iloc[[4, 5], [0,3]] # selecting two rows and two columns\n",
    "\n",
    "data2.iloc[5:10, [1, 4]] # selecting a slice of rows and two columns\n",
    "```"
   ]
  },
  {
   "cell_type": "code",
   "execution_count": 25,
   "metadata": {},
   "outputs": [
    {
     "data": {
      "text/plain": [
       "Open         4.800000e+02\n",
       "High         4.950000e+02\n",
       "Low          4.690750e+02\n",
       "Close        4.875750e+02\n",
       "Adj Close    4.055501e+02\n",
       "Volume       2.450128e+06\n",
       "Name: 2008-06-03 00:00:00, dtype: float64"
      ]
     },
     "execution_count": 25,
     "metadata": {},
     "output_type": "execute_result"
    }
   ],
   "source": [
    "data2.iloc[2]"
   ]
  },
  {
   "cell_type": "markdown",
   "metadata": {},
   "source": [
    "then you can insert lists to deal with multiple locations"
   ]
  },
  {
   "cell_type": "code",
   "execution_count": 266,
   "metadata": {},
   "outputs": [
    {
     "data": {
      "text/html": [
       "<div>\n",
       "<style scoped>\n",
       "    .dataframe tbody tr th:only-of-type {\n",
       "        vertical-align: middle;\n",
       "    }\n",
       "\n",
       "    .dataframe tbody tr th {\n",
       "        vertical-align: top;\n",
       "    }\n",
       "\n",
       "    .dataframe thead th {\n",
       "        text-align: right;\n",
       "    }\n",
       "</style>\n",
       "<table border=\"1\" class=\"dataframe\">\n",
       "  <thead>\n",
       "    <tr style=\"text-align: right;\">\n",
       "      <th></th>\n",
       "      <th>Open</th>\n",
       "      <th>Close</th>\n",
       "    </tr>\n",
       "    <tr>\n",
       "      <th>Date</th>\n",
       "      <th></th>\n",
       "      <th></th>\n",
       "    </tr>\n",
       "  </thead>\n",
       "  <tbody>\n",
       "    <tr>\n",
       "      <th>2008-06-05</th>\n",
       "      <td>482.049988</td>\n",
       "      <td>490.924988</td>\n",
       "    </tr>\n",
       "    <tr>\n",
       "      <th>2008-06-06</th>\n",
       "      <td>495.000000</td>\n",
       "      <td>483.100006</td>\n",
       "    </tr>\n",
       "  </tbody>\n",
       "</table>\n",
       "</div>"
      ],
      "text/plain": [
       "                  Open       Close\n",
       "Date                              \n",
       "2008-06-05  482.049988  490.924988\n",
       "2008-06-06  495.000000  483.100006"
      ]
     },
     "execution_count": 266,
     "metadata": {},
     "output_type": "execute_result"
    }
   ],
   "source": [
    "data2.iloc[[4, 5], [0,3]] # selecting two rows and two column"
   ]
  },
  {
   "cell_type": "code",
   "execution_count": 267,
   "metadata": {},
   "outputs": [
    {
     "data": {
      "text/html": [
       "<div>\n",
       "<style scoped>\n",
       "    .dataframe tbody tr th:only-of-type {\n",
       "        vertical-align: middle;\n",
       "    }\n",
       "\n",
       "    .dataframe tbody tr th {\n",
       "        vertical-align: top;\n",
       "    }\n",
       "\n",
       "    .dataframe thead th {\n",
       "        text-align: right;\n",
       "    }\n",
       "</style>\n",
       "<table border=\"1\" class=\"dataframe\">\n",
       "  <thead>\n",
       "    <tr style=\"text-align: right;\">\n",
       "      <th></th>\n",
       "      <th>High</th>\n",
       "      <th>Adj Close</th>\n",
       "    </tr>\n",
       "    <tr>\n",
       "      <th>Date</th>\n",
       "      <th></th>\n",
       "      <th></th>\n",
       "    </tr>\n",
       "  </thead>\n",
       "  <tbody>\n",
       "    <tr>\n",
       "      <th>2008-06-06</th>\n",
       "      <td>499.325012</td>\n",
       "      <td>401.827820</td>\n",
       "    </tr>\n",
       "    <tr>\n",
       "      <th>2008-06-09</th>\n",
       "      <td>482.450012</td>\n",
       "      <td>380.160339</td>\n",
       "    </tr>\n",
       "    <tr>\n",
       "      <th>2008-06-10</th>\n",
       "      <td>459.500000</td>\n",
       "      <td>365.562622</td>\n",
       "    </tr>\n",
       "    <tr>\n",
       "      <th>2008-06-11</th>\n",
       "      <td>455.000000</td>\n",
       "      <td>370.283051</td>\n",
       "    </tr>\n",
       "    <tr>\n",
       "      <th>2008-06-12</th>\n",
       "      <td>451.200012</td>\n",
       "      <td>369.409698</td>\n",
       "    </tr>\n",
       "  </tbody>\n",
       "</table>\n",
       "</div>"
      ],
      "text/plain": [
       "                  High   Adj Close\n",
       "Date                              \n",
       "2008-06-06  499.325012  401.827820\n",
       "2008-06-09  482.450012  380.160339\n",
       "2008-06-10  459.500000  365.562622\n",
       "2008-06-11  455.000000  370.283051\n",
       "2008-06-12  451.200012  369.409698"
      ]
     },
     "execution_count": 267,
     "metadata": {},
     "output_type": "execute_result"
    }
   ],
   "source": [
    "data2.iloc[5:10, [1, 4]] # selecting a slice of rows and two columns"
   ]
  },
  {
   "cell_type": "markdown",
   "metadata": {},
   "source": [
    "#### Some commonly done calculations in quantitative trading\n",
    "\n",
    "```python\n",
    "data2['cc'] = 100 * data2['Close'].pct_change()\n",
    "## Computes the percentage change between today's Close and previous day's Close\n",
    "\n",
    "data2['co'] = 100 * (data2['Open'] / data2['Close'].shift(1) - 1) \n",
    "# The shift operator time-shifts the specified columns either forward or backward by the # of steps specified. \n",
    "# Here shift(1) brings the Close price column down by one step.\n",
    "# Today's Open divided by yesterday's close\n",
    "\n",
    "data2['oc'] = 100 * (data2['Close'] / data2['Open'] - 1) \n",
    "# Today's close divided by today's open\n",
    "\n",
    "n = 50\n",
    "\n",
    "# Moving Average\n",
    "\n",
    "data2['MA'] = data2['Close'].rolling(window=n,center=False).mean()\n",
    "%matplotlib tk\n",
    "data2[['MA', 'Close']].plot(linewidth=1.5)\n",
    "```"
   ]
  },
  {
   "cell_type": "code",
   "execution_count": 268,
   "metadata": {},
   "outputs": [
    {
     "data": {
      "text/html": [
       "<div>\n",
       "<style scoped>\n",
       "    .dataframe tbody tr th:only-of-type {\n",
       "        vertical-align: middle;\n",
       "    }\n",
       "\n",
       "    .dataframe tbody tr th {\n",
       "        vertical-align: top;\n",
       "    }\n",
       "\n",
       "    .dataframe thead th {\n",
       "        text-align: right;\n",
       "    }\n",
       "</style>\n",
       "<table border=\"1\" class=\"dataframe\">\n",
       "  <thead>\n",
       "    <tr style=\"text-align: right;\">\n",
       "      <th></th>\n",
       "      <th>Open</th>\n",
       "      <th>High</th>\n",
       "      <th>Low</th>\n",
       "      <th>Close</th>\n",
       "      <th>Adj Close</th>\n",
       "      <th>New</th>\n",
       "      <th>cc</th>\n",
       "    </tr>\n",
       "    <tr>\n",
       "      <th>Date</th>\n",
       "      <th></th>\n",
       "      <th></th>\n",
       "      <th></th>\n",
       "      <th></th>\n",
       "      <th></th>\n",
       "      <th></th>\n",
       "      <th></th>\n",
       "    </tr>\n",
       "  </thead>\n",
       "  <tbody>\n",
       "    <tr>\n",
       "      <th>2018-05-23</th>\n",
       "      <td>3525.000000</td>\n",
       "      <td>3545.000000</td>\n",
       "      <td>3481.000000</td>\n",
       "      <td>3495.100098</td>\n",
       "      <td>3495.100098</td>\n",
       "      <td>0</td>\n",
       "      <td>-0.393280</td>\n",
       "    </tr>\n",
       "    <tr>\n",
       "      <th>2018-05-24</th>\n",
       "      <td>3510.000000</td>\n",
       "      <td>3615.000000</td>\n",
       "      <td>3502.350098</td>\n",
       "      <td>3603.699951</td>\n",
       "      <td>3603.699951</td>\n",
       "      <td>0</td>\n",
       "      <td>3.107203</td>\n",
       "    </tr>\n",
       "    <tr>\n",
       "      <th>2018-05-25</th>\n",
       "      <td>3625.000000</td>\n",
       "      <td>3674.800049</td>\n",
       "      <td>3572.550049</td>\n",
       "      <td>3585.800049</td>\n",
       "      <td>3585.800049</td>\n",
       "      <td>0</td>\n",
       "      <td>-0.496709</td>\n",
       "    </tr>\n",
       "    <tr>\n",
       "      <th>2018-05-28</th>\n",
       "      <td>3616.500000</td>\n",
       "      <td>3616.500000</td>\n",
       "      <td>3486.000000</td>\n",
       "      <td>3502.050049</td>\n",
       "      <td>3502.050049</td>\n",
       "      <td>0</td>\n",
       "      <td>-2.335602</td>\n",
       "    </tr>\n",
       "    <tr>\n",
       "      <th>2018-05-29</th>\n",
       "      <td>3529.899902</td>\n",
       "      <td>3544.000000</td>\n",
       "      <td>3488.000000</td>\n",
       "      <td>3523.500000</td>\n",
       "      <td>3523.500000</td>\n",
       "      <td>0</td>\n",
       "      <td>0.612497</td>\n",
       "    </tr>\n",
       "  </tbody>\n",
       "</table>\n",
       "</div>"
      ],
      "text/plain": [
       "                   Open         High          Low        Close    Adj Close  \\\n",
       "Date                                                                          \n",
       "2018-05-23  3525.000000  3545.000000  3481.000000  3495.100098  3495.100098   \n",
       "2018-05-24  3510.000000  3615.000000  3502.350098  3603.699951  3603.699951   \n",
       "2018-05-25  3625.000000  3674.800049  3572.550049  3585.800049  3585.800049   \n",
       "2018-05-28  3616.500000  3616.500000  3486.000000  3502.050049  3502.050049   \n",
       "2018-05-29  3529.899902  3544.000000  3488.000000  3523.500000  3523.500000   \n",
       "\n",
       "            New        cc  \n",
       "Date                       \n",
       "2018-05-23    0 -0.393280  \n",
       "2018-05-24    0  3.107203  \n",
       "2018-05-25    0 -0.496709  \n",
       "2018-05-28    0 -2.335602  \n",
       "2018-05-29    0  0.612497  "
      ]
     },
     "execution_count": 268,
     "metadata": {},
     "output_type": "execute_result"
    }
   ],
   "source": [
    "data2['cc'] = 100 * data2['Close'].pct_change()\n",
    "data2.tail()"
   ]
  },
  {
   "cell_type": "code",
   "execution_count": 269,
   "metadata": {},
   "outputs": [
    {
     "data": {
      "text/html": [
       "<div>\n",
       "<style scoped>\n",
       "    .dataframe tbody tr th:only-of-type {\n",
       "        vertical-align: middle;\n",
       "    }\n",
       "\n",
       "    .dataframe tbody tr th {\n",
       "        vertical-align: top;\n",
       "    }\n",
       "\n",
       "    .dataframe thead th {\n",
       "        text-align: right;\n",
       "    }\n",
       "</style>\n",
       "<table border=\"1\" class=\"dataframe\">\n",
       "  <thead>\n",
       "    <tr style=\"text-align: right;\">\n",
       "      <th></th>\n",
       "      <th>Open</th>\n",
       "      <th>High</th>\n",
       "      <th>Low</th>\n",
       "      <th>Close</th>\n",
       "      <th>Adj Close</th>\n",
       "      <th>New</th>\n",
       "      <th>cc</th>\n",
       "      <th>co</th>\n",
       "    </tr>\n",
       "    <tr>\n",
       "      <th>Date</th>\n",
       "      <th></th>\n",
       "      <th></th>\n",
       "      <th></th>\n",
       "      <th></th>\n",
       "      <th></th>\n",
       "      <th></th>\n",
       "      <th></th>\n",
       "      <th></th>\n",
       "    </tr>\n",
       "  </thead>\n",
       "  <tbody>\n",
       "    <tr>\n",
       "      <th>2018-05-23</th>\n",
       "      <td>3525.000000</td>\n",
       "      <td>3545.000000</td>\n",
       "      <td>3481.000000</td>\n",
       "      <td>3495.100098</td>\n",
       "      <td>3495.100098</td>\n",
       "      <td>0</td>\n",
       "      <td>-0.393280</td>\n",
       "      <td>0.458836</td>\n",
       "    </tr>\n",
       "    <tr>\n",
       "      <th>2018-05-24</th>\n",
       "      <td>3510.000000</td>\n",
       "      <td>3615.000000</td>\n",
       "      <td>3502.350098</td>\n",
       "      <td>3603.699951</td>\n",
       "      <td>3603.699951</td>\n",
       "      <td>0</td>\n",
       "      <td>3.107203</td>\n",
       "      <td>0.426308</td>\n",
       "    </tr>\n",
       "    <tr>\n",
       "      <th>2018-05-25</th>\n",
       "      <td>3625.000000</td>\n",
       "      <td>3674.800049</td>\n",
       "      <td>3572.550049</td>\n",
       "      <td>3585.800049</td>\n",
       "      <td>3585.800049</td>\n",
       "      <td>0</td>\n",
       "      <td>-0.496709</td>\n",
       "      <td>0.591061</td>\n",
       "    </tr>\n",
       "    <tr>\n",
       "      <th>2018-05-28</th>\n",
       "      <td>3616.500000</td>\n",
       "      <td>3616.500000</td>\n",
       "      <td>3486.000000</td>\n",
       "      <td>3502.050049</td>\n",
       "      <td>3502.050049</td>\n",
       "      <td>0</td>\n",
       "      <td>-2.335602</td>\n",
       "      <td>0.856153</td>\n",
       "    </tr>\n",
       "    <tr>\n",
       "      <th>2018-05-29</th>\n",
       "      <td>3529.899902</td>\n",
       "      <td>3544.000000</td>\n",
       "      <td>3488.000000</td>\n",
       "      <td>3523.500000</td>\n",
       "      <td>3523.500000</td>\n",
       "      <td>0</td>\n",
       "      <td>0.612497</td>\n",
       "      <td>0.795244</td>\n",
       "    </tr>\n",
       "  </tbody>\n",
       "</table>\n",
       "</div>"
      ],
      "text/plain": [
       "                   Open         High          Low        Close    Adj Close  \\\n",
       "Date                                                                          \n",
       "2018-05-23  3525.000000  3545.000000  3481.000000  3495.100098  3495.100098   \n",
       "2018-05-24  3510.000000  3615.000000  3502.350098  3603.699951  3603.699951   \n",
       "2018-05-25  3625.000000  3674.800049  3572.550049  3585.800049  3585.800049   \n",
       "2018-05-28  3616.500000  3616.500000  3486.000000  3502.050049  3502.050049   \n",
       "2018-05-29  3529.899902  3544.000000  3488.000000  3523.500000  3523.500000   \n",
       "\n",
       "            New        cc        co  \n",
       "Date                                 \n",
       "2018-05-23    0 -0.393280  0.458836  \n",
       "2018-05-24    0  3.107203  0.426308  \n",
       "2018-05-25    0 -0.496709  0.591061  \n",
       "2018-05-28    0 -2.335602  0.856153  \n",
       "2018-05-29    0  0.612497  0.795244  "
      ]
     },
     "execution_count": 269,
     "metadata": {},
     "output_type": "execute_result"
    }
   ],
   "source": [
    "data2['co'] = 100 * (data2['Open'] / data2['Close'].shift(1) - 1)\n",
    "data2.tail()"
   ]
  },
  {
   "cell_type": "code",
   "execution_count": 271,
   "metadata": {},
   "outputs": [
    {
     "data": {
      "text/plain": [
       "<matplotlib.axes._subplots.AxesSubplot at 0x1c1427213c8>"
      ]
     },
     "execution_count": 271,
     "metadata": {},
     "output_type": "execute_result"
    },
    {
     "data": {
      "image/png": "[encoded data removed]",
      "text/plain": [
       "<Figure size 432x288 with 1 Axes>"
      ]
     },
     "metadata": {
      "needs_background": "light"
     },
     "output_type": "display_data"
    }
   ],
   "source": [
    "data2['MA'] = data2['Close'].rolling(window=20,center=False).mean()\n",
    "%matplotlib tk\n",
    "data2[['MA', 'Close']].plot(linewidth=1.5)"
   ]
  },
  {
   "cell_type": "markdown",
   "metadata": {},
   "source": [
    "#### References\n",
    "\n",
    "1. The Official Python documentation - https://docs.python.org/3/contents.html\n",
    "2. A Byte of Python, Swaroop CH - https://python.swaroopch.com/\n",
    "3. Learn Python the Hard Way, Zed Shaw - https://learnpythonthehardway.org/\n",
    "4. Think Python, Allen Downey - https://greenteapress.com/wp/think-python-2e/\n",
    "5. Jupyter Lab - http://jupyterlab.readthedocs.io/en/stable/\n",
    "6. `pandas` documentation - https://pandas.pydata.org/pandas-docs/stable/\n",
    "7. Learning pandas, Michael Heydt - https://www.amazon.com/Learning-Pandas-Python-Discovery-Analysis/dp/1783985127\n",
    "8. Style Guide for Python Code - https://www.python.org/dev/peps/pep-0008/\n",
    "9. Dealing With Error And Exceptions In Python - https://www.quantinsti.com/blog/dealing-python-error-exceptions/\n",
    "10. Python Exception: Raising And Catching Exceptions In Python - https://www.quantinsti.com/blog/python-exception/\n",
    "11. Don't repeat yourself: https://en.wikipedia.org/wiki/Don%27t_repeat_yourself\n",
    "12. `Matplotlib` - https://matplotlib.org/api/pyplot_summary.html"
   ]
  },
  {
   "cell_type": "code",
   "execution_count": null,
   "metadata": {},
   "outputs": [],
   "source": []
  }
 ],
 "metadata": {
  "kernelspec": {
   "display_name": "Python 3",
   "language": "python",
   "name": "python3"
  },
  "language_info": {
   "codemirror_mode": {
    "name": "ipython",
    "version": 3
   },
   "file_extension": ".py",
   "mimetype": "text/x-python",
   "name": "python",
   "nbconvert_exporter": "python",
   "pygments_lexer": "ipython3",
   "version": "3.7.0"
  }
 },
 "nbformat": 4,
 "nbformat_minor": 2
}
